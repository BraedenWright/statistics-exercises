{
 "cells": [
  {
   "cell_type": "markdown",
   "id": "2b7af025",
   "metadata": {},
   "source": [
    "# Hypothesis Testing Exercise\n",
    "\n",
    "For each of the following questions, formulate a null and alternative hypothesis (be as specific as you can be), then give an example of what a true positive, true negative, type I and type II errors would look like. Note that some of the questions are intentionally phrased in a vague way. It is your job to reword these as more precise questions that could be tested.\n",
    "\n",
    "    Has the network latency gone up since we switched internet service providers?\n",
    "    \n",
    "    Is the website redesign any good?\n",
    "    \n",
    "    Is our television ad driving more sales?\n"
   ]
  },
  {
   "cell_type": "markdown",
   "id": "5469f29f",
   "metadata": {},
   "source": [
    "## Has the network latency gone up since we switched internet service providers?"
   ]
  },
  {
   "cell_type": "markdown",
   "id": "ec3933d3",
   "metadata": {},
   "source": [
    "\n",
    "Null Hypothesis: The new internet service provider has slower internet speeds than our previous provider\n",
    "\n",
    "\n",
    "Alternative Hypothesis: The new internet service provider is as fast(or faster) than our previous provider\n",
    "\n",
    "\n",
    "    True Positive: We compared the results of speed test to confirm that out new internet provider does in fact have slower interent speed\n",
    "\n",
    "    True Negative: Comparing the results of speed test, we confirm that our new internet provider is in fact giving us faster internet speeds\n",
    "\n",
    "    Type I Error: The new internet provider does provide faster speeds, however this is not percieved as the router we use has a defect.  This misleads us into believing the old service provider was faster\n",
    "\n",
    "    Type II Error: The new internet service provider is percieved to be faster than our older service, when in fact our old service just needed an updated router to provide faster internet speeds\n"
   ]
  },
  {
   "cell_type": "markdown",
   "id": "27db478a",
   "metadata": {},
   "source": [
    "## Is the website redesign any good?"
   ]
  },
  {
   "cell_type": "markdown",
   "id": "41fd7dcf",
   "metadata": {},
   "source": [
    "\n",
    "Null Hypothesis: The new web design will attract more traffic to the website than the previous design, confirming its quality.\n",
    "\n",
    "\n",
    "Alternative Hypothesis: The new wed design does not attract as much traffic to the site, therefore the redesign was not successful.\n",
    "\n",
    "\n",
    "    True Positive: Once the new design was up and running, we documented an instant increase in website traffic\n",
    "\n",
    "    True Negative: Once the new design was up and running, we documented no noticable jump in website traffic and perhaps even a decrease in traffic\n",
    "\n",
    "    Type I Error: An influx of bots designed to click thru newly designed sites leads us to percieve a successful launch of our new web design\n",
    "\n",
    "    Type II Error: When we launched the new web design, an unrelated blackout prevented a larger part of our base to be unable to access it.  We percieve this as an unsuccessful redesign launch \n"
   ]
  },
  {
   "cell_type": "markdown",
   "id": "69333db4",
   "metadata": {},
   "source": [
    "## Is our television ad driving more sales?"
   ]
  },
  {
   "cell_type": "markdown",
   "id": "474214d0",
   "metadata": {},
   "source": [
    "\n",
    "Null Hypothesis: There was an increase in sales after the airing of our television ad\n",
    "\n",
    "\n",
    "Alternative Hypothesis: There was no noticable impact on sales after the airing of our television ad.\n",
    "\n",
    "\n",
    "    True Positive: Our sales see a 20% increase after the airing of the ad\n",
    "\n",
    "    True Negative: Our sales continue to stagnate after airing the ad.\n",
    "\n",
    "    Type I Error: We had a particularly good week of sales following the ad, but purely due to chance.\n",
    "\n",
    "    Type II Error: Our sales do not increase after airing the ad, but this is due to mistyped address and people just cant find your location\n"
   ]
  },
  {
   "cell_type": "markdown",
   "id": "1b62e7c5",
   "metadata": {},
   "source": [
    "# T-testing Exercise 1\n",
    "\n",
    "\n",
    "\n",
    "  Ace Realty wants to determine whether the average time it takes to sell homes is different for its two offices. A sample of 40 sales from office #1 revealed a mean of 90 days and a standard deviation of 15 days. A sample of 50 sales from office #2 revealed a mean of 100 days and a standard deviation of 20 days. Use a .05 level of significance.\n",
    "\n"
   ]
  },
  {
   "cell_type": "code",
   "execution_count": 68,
   "id": "854b7a67",
   "metadata": {},
   "outputs": [],
   "source": [
    "import numpy as np\n",
    "import pandas as pd\n",
    "import env\n",
    "from scipy import stats\n",
    "import seaborn as sns\n",
    "import matplotlib.pyplot as plt"
   ]
  },
  {
   "cell_type": "code",
   "execution_count": 55,
   "id": "bb2807e8",
   "metadata": {},
   "outputs": [
    {
     "data": {
      "text/plain": [
       "<matplotlib.legend.Legend at 0x7f9338c73d00>"
      ]
     },
     "execution_count": 55,
     "metadata": {},
     "output_type": "execute_result"
    },
    {
     "data": {
      "image/png": "[encoded data removed]",
      "text/plain": [
       "<Figure size 432x288 with 1 Axes>"
      ]
     },
     "metadata": {
      "needs_background": "light"
     },
     "output_type": "display_data"
    }
   ],
   "source": [
    "\n",
    "sample = 40 #sales\n",
    "mean_one = 90 #days\n",
    "std_dev_one = 15 #days\n",
    "\n",
    "\n",
    "sample = 50 #sales\n",
    "mean_two = 100\n",
    "std_dev_two = 20 #days\n",
    "α = .05\n",
    "\n",
    "# Null Hypothesis\n",
    "#  office_one avg time to sell = office_two avg time to sell\n",
    "\n",
    "# Alt Hypothesis\n",
    "#  office_one avg time to sell != office_two avg time to sell\n",
    "\n",
    "x = np.arange(25, 175)\n",
    "\n",
    "off_one = stats.norm(90, 15).pdf(x)\n",
    "off_two = stats.norm(100, 20).pdf(x)\n",
    "\n",
    "plt.plot(x, off_one, label='office one', color='b')\n",
    "plt.plot(x, off_two, label='office two', color='g')\n",
    "\n",
    "plt.legend()"
   ]
  },
  {
   "cell_type": "code",
   "execution_count": 56,
   "id": "8ded117e",
   "metadata": {},
   "outputs": [
    {
     "data": {
      "text/plain": [
       "False"
      ]
     },
     "execution_count": 56,
     "metadata": {},
     "output_type": "execute_result"
    }
   ],
   "source": [
    "off_one.var() == off_two.var()"
   ]
  },
  {
   "cell_type": "code",
   "execution_count": 71,
   "id": "bf91c98e",
   "metadata": {},
   "outputs": [
    {
     "data": {
      "text/plain": [
       "(-2.7091418459143854, 0.00811206270346016, 0.05)"
      ]
     },
     "execution_count": 71,
     "metadata": {},
     "output_type": "execute_result"
    }
   ],
   "source": [
    "# nope ----t, p = stats.ttest_ind(off_one, off_two)\n",
    "\n",
    "t, p = stats.ttest_ind_from_stats(90,15,40,100,20,50, equal_var= False)\n",
    "\n",
    "t, p, α"
   ]
  },
  {
   "cell_type": "code",
   "execution_count": 72,
   "id": "5f824a35",
   "metadata": {},
   "outputs": [
    {
     "name": "stdout",
     "output_type": "stream",
     "text": [
      "We can reject the null hypothesis, and conclude that the two offices sell homes at different rates.\n"
     ]
    }
   ],
   "source": [
    "if (p < α) == True:\n",
    "    print('We can reject the null hypothesis, and conclude that the two offices sell homes at different rates.')"
   ]
  },
  {
   "cell_type": "markdown",
   "id": "35777934",
   "metadata": {},
   "source": [
    "# T-testing Exercise 2\n",
    "\n",
    "\n",
    " ### Load the mpg dataset and use it to answer the following questions:\n",
    "    \n",
    "        Is there a difference in fuel-efficiency in cars from 2008 vs 1999?\n",
    "        \n",
    "        Are compact cars more fuel-efficient than the average car?\n",
    "        \n",
    "        Do manual cars get better gas mileage than automatic cars?\n"
   ]
  },
  {
   "cell_type": "code",
   "execution_count": 73,
   "id": "c2b76e1a",
   "metadata": {},
   "outputs": [
    {
     "name": "stdout",
     "output_type": "stream",
     "text": [
      "<class 'pandas.core.frame.DataFrame'>\n",
      "Int64Index: 234 entries, 1 to 234\n",
      "Data columns (total 11 columns):\n",
      " #   Column        Non-Null Count  Dtype  \n",
      "---  ------        --------------  -----  \n",
      " 0   manufacturer  234 non-null    object \n",
      " 1   model         234 non-null    object \n",
      " 2   displ         234 non-null    float64\n",
      " 3   year          234 non-null    int64  \n",
      " 4   cyl           234 non-null    int64  \n",
      " 5   trans         234 non-null    object \n",
      " 6   drv           234 non-null    object \n",
      " 7   cty           234 non-null    int64  \n",
      " 8   hwy           234 non-null    int64  \n",
      " 9   fl            234 non-null    object \n",
      " 10  class         234 non-null    object \n",
      "dtypes: float64(1), int64(4), object(6)\n",
      "memory usage: 21.9+ KB\n"
     ]
    }
   ],
   "source": [
    "from pydataset import data\n",
    "\n",
    "mpg = data('mpg')\n",
    "\n",
    "mpg.info()"
   ]
  },
  {
   "cell_type": "markdown",
   "id": "1150741c",
   "metadata": {},
   "source": [
    "### Part 1\n",
    "### Is there a difference in fuel-efficiency in cars from 2008 vs 1999?"
   ]
  },
  {
   "cell_type": "code",
   "execution_count": 66,
   "id": "7acd7f19",
   "metadata": {},
   "outputs": [],
   "source": [
    "# Null Hypothesis\n",
    "#  2008 fuel-efficiency = 1999 fuel_efficiency \n",
    "\n",
    "# Alt Hypothesis\n",
    "#   2008 fuel-efficiency != 1999 fuel_efficiency \n",
    "\n",
    "mpg['fuel_efficiency'] = (mpg.cty + mpg.cty) / 2\n",
    "\n",
    "fe_1999 = mpg[mpg.year == 1999].fuel_efficiency\n",
    "fe_2008 = mpg[mpg.year == 2008].fuel_efficiency"
   ]
  },
  {
   "cell_type": "code",
   "execution_count": 67,
   "id": "b8dd0a38",
   "metadata": {},
   "outputs": [
    {
     "data": {
      "text/plain": [
       "<AxesSubplot:>"
      ]
     },
     "execution_count": 67,
     "metadata": {},
     "output_type": "execute_result"
    },
    {
     "data": {
      "image/png": "[encoded data removed]",
      "text/plain": [
       "<Figure size 432x288 with 1 Axes>"
      ]
     },
     "metadata": {
      "needs_background": "light"
     },
     "output_type": "display_data"
    }
   ],
   "source": [
    "#  graph to help visualize distribution \n",
    "\n",
    "fe_1999.hist()"
   ]
  },
  {
   "cell_type": "code",
   "execution_count": 62,
   "id": "b782dadf",
   "metadata": {},
   "outputs": [
    {
     "data": {
      "text/plain": [
       "<AxesSubplot:>"
      ]
     },
     "execution_count": 62,
     "metadata": {},
     "output_type": "execute_result"
    },
    {
     "data": {
      "image/png": "[encoded data removed]",
      "text/plain": [
       "<Figure size 432x288 with 1 Axes>"
      ]
     },
     "metadata": {
      "needs_background": "light"
     },
     "output_type": "display_data"
    }
   ],
   "source": [
    "# graph to help visualize distribution \n",
    "\n",
    "fe_2008.hist()"
   ]
  },
  {
   "cell_type": "code",
   "execution_count": 63,
   "id": "39c0d5f9",
   "metadata": {},
   "outputs": [
    {
     "data": {
      "text/plain": [
       "False"
      ]
     },
     "execution_count": 63,
     "metadata": {},
     "output_type": "execute_result"
    }
   ],
   "source": [
    "fe_1999.var() == fe_2008.var()"
   ]
  },
  {
   "cell_type": "code",
   "execution_count": 64,
   "id": "e3f71b8c",
   "metadata": {},
   "outputs": [
    {
     "data": {
      "text/plain": [
       "(-0.5674988409997608, 0.5709289258613233)"
      ]
     },
     "execution_count": 64,
     "metadata": {},
     "output_type": "execute_result"
    }
   ],
   "source": [
    "t, p = stats.ttest_ind(fe_2008, fe_1999, equal_var=False)\n",
    "t, p"
   ]
  },
  {
   "cell_type": "code",
   "execution_count": 56,
   "id": "c24057ea",
   "metadata": {
    "scrolled": true
   },
   "outputs": [
    {
     "name": "stdout",
     "output_type": "stream",
     "text": [
      " Due to p being greater than α, the null hypothesis stands.\n"
     ]
    }
   ],
   "source": [
    "if p < α:\n",
    "    print(f' We can reject he null hypothesis.')\n",
    "else:\n",
    "    print(f' Due to p being greater than α, the null hypothesis stands.')"
   ]
  },
  {
   "cell_type": "markdown",
   "id": "38a16921",
   "metadata": {},
   "source": [
    "### Part 2\n",
    "### Are compact cars more fuel-efficient than the average car?"
   ]
  },
  {
   "cell_type": "code",
   "execution_count": 59,
   "id": "2dc454e7",
   "metadata": {},
   "outputs": [
    {
     "data": {
      "text/plain": [
       "<AxesSubplot:>"
      ]
     },
     "execution_count": 59,
     "metadata": {},
     "output_type": "execute_result"
    },
    {
     "data": {
      "image/png": "[encoded data removed]",
      "text/plain": [
       "<Figure size 432x288 with 1 Axes>"
      ]
     },
     "metadata": {
      "needs_background": "light"
     },
     "output_type": "display_data"
    }
   ],
   "source": [
    "# Null Hypothesis\n",
    "#  compact cars fuel-efficiency <= average car fuel-efficiency\n",
    "\n",
    "# Alt Hypothesis\n",
    "#  compact cars fuel-efficiency > average car fuel-efficiency\n",
    "\n",
    "μ = mpg.fuel_efficiency.mean()\n",
    "\n",
    "compact = mpg[mpg['class'] == 'compact'].fuel_efficiency\n",
    "\n",
    "compact.hist()"
   ]
  },
  {
   "cell_type": "code",
   "execution_count": 60,
   "id": "671a7136",
   "metadata": {},
   "outputs": [
    {
     "data": {
      "text/plain": [
       "(6.6191042534408915, 1.7008724108197003e-08, 0.05)"
      ]
     },
     "execution_count": 60,
     "metadata": {},
     "output_type": "execute_result"
    }
   ],
   "source": [
    "t, p = stats.ttest_1samp(compact, μ)\n",
    "\n",
    "t, p/2, α"
   ]
  },
  {
   "cell_type": "code",
   "execution_count": 61,
   "id": "002af09c",
   "metadata": {},
   "outputs": [
    {
     "name": "stdout",
     "output_type": "stream",
     "text": [
      " We can reject he null hypothesis.\n"
     ]
    }
   ],
   "source": [
    "if p/2 < α:\n",
    "    print(f' We can reject he null hypothesis.')\n",
    "else:\n",
    "    print(f' Due to p being greater than α, the null hypothesis stands.')"
   ]
  },
  {
   "cell_type": "markdown",
   "id": "f95a7d41",
   "metadata": {},
   "source": [
    "### Part 3\n",
    "\n",
    "### Do manual cars get better gas mileage than automatic cars?"
   ]
  },
  {
   "cell_type": "code",
   "execution_count": 67,
   "id": "4a5f5e49",
   "metadata": {},
   "outputs": [],
   "source": [
    "# Null Hypothesis\n",
    "#  manual cars fuel_efficiency <= automatic cars fuel_efficiency\n",
    "\n",
    "# Alt Hypothesis\n",
    "#  manual cars fuel_efficiency <= automatic cars fuel_efficiency\n",
    "\n",
    "fe_manual = mpg[mpg.trans.str.contains('manual')].fuel_efficiency\n",
    "fe_auto = mpg[mpg.trans.str.contains('auto')].fuel_efficiency"
   ]
  },
  {
   "cell_type": "code",
   "execution_count": 65,
   "id": "d151111e",
   "metadata": {},
   "outputs": [
    {
     "data": {
      "text/plain": [
       "<AxesSubplot:>"
      ]
     },
     "execution_count": 65,
     "metadata": {},
     "output_type": "execute_result"
    },
    {
     "data": {
      "image/png": "[encoded data removed]",
      "text/plain": [
       "<Figure size 432x288 with 1 Axes>"
      ]
     },
     "metadata": {
      "needs_background": "light"
     },
     "output_type": "display_data"
    }
   ],
   "source": [
    "fe_manual.hist()"
   ]
  },
  {
   "cell_type": "code",
   "execution_count": 66,
   "id": "6abe9e02",
   "metadata": {},
   "outputs": [
    {
     "data": {
      "text/plain": [
       "<AxesSubplot:>"
      ]
     },
     "execution_count": 66,
     "metadata": {},
     "output_type": "execute_result"
    },
    {
     "data": {
      "image/png": "[encoded data removed]",
      "text/plain": [
       "<Figure size 432x288 with 1 Axes>"
      ]
     },
     "metadata": {
      "needs_background": "light"
     },
     "output_type": "display_data"
    }
   ],
   "source": [
    "fe_auto.hist()"
   ]
  },
  {
   "cell_type": "code",
   "execution_count": 68,
   "id": "f87870ac",
   "metadata": {},
   "outputs": [
    {
     "data": {
      "text/plain": [
       "False"
      ]
     },
     "execution_count": 68,
     "metadata": {},
     "output_type": "execute_result"
    }
   ],
   "source": [
    "fe_auto.var() == fe_manual.var()"
   ]
  },
  {
   "cell_type": "code",
   "execution_count": 141,
   "id": "aa25d33a",
   "metadata": {},
   "outputs": [
    {
     "data": {
      "text/plain": [
       "(-4.537543658735826, 1.2633643745317661e-05, 0.05)"
      ]
     },
     "execution_count": 141,
     "metadata": {},
     "output_type": "execute_result"
    }
   ],
   "source": [
    "t, p = stats.ttest_ind(fe_auto, fe_manual, equal_var=False)\n",
    "\n",
    "t, p, α"
   ]
  },
  {
   "cell_type": "code",
   "execution_count": 142,
   "id": "3180d4e7",
   "metadata": {},
   "outputs": [
    {
     "name": "stdout",
     "output_type": "stream",
     "text": [
      " We can reject he null hypothesis.\n"
     ]
    },
    {
     "data": {
      "text/plain": [
       "(0.5352302262650253, 1.2633643745317661e-05)"
      ]
     },
     "execution_count": 142,
     "metadata": {},
     "output_type": "execute_result"
    }
   ],
   "source": [
    "if p < α:\n",
    "    print(f' We can reject he null hypothesis.')\n",
    "else:\n",
    "    print(f' Due to p being greater than α, the null hypothesis stands.')\n",
    "r, p"
   ]
  },
  {
   "cell_type": "markdown",
   "id": "1795af2d",
   "metadata": {},
   "source": [
    "# Correlation Exercise 1.a\n",
    "\n",
    "\n",
    "Use the telco_churn data. Does tenure correlate with monthly charges?\n",
    "\n",
    " Total charges? \n",
    "\n",
    " What happens if you control for phone and internet service?"
   ]
  },
  {
   "cell_type": "code",
   "execution_count": 3,
   "id": "ca2c9206",
   "metadata": {},
   "outputs": [
    {
     "name": "stdout",
     "output_type": "stream",
     "text": [
      "<class 'pandas.core.frame.DataFrame'>\n",
      "Int64Index: 7038 entries, 11 to 7048\n",
      "Data columns (total 28 columns):\n",
      " #   Column                  Non-Null Count  Dtype  \n",
      "---  ------                  --------------  -----  \n",
      " 0   customer_id             7038 non-null   object \n",
      " 1   gender                  7038 non-null   object \n",
      " 2   is_senior_citizen       7038 non-null   int64  \n",
      " 3   partner                 7038 non-null   object \n",
      " 4   dependents              7038 non-null   object \n",
      " 5   phone_service           7038 non-null   int64  \n",
      " 6   phone_service_name      7038 non-null   object \n",
      " 7   internet_service        7038 non-null   int64  \n",
      " 8   internet_service_name   7038 non-null   object \n",
      " 9   contract_type           7038 non-null   int64  \n",
      " 10  contract_name           7038 non-null   object \n",
      " 11  payment_type            7038 non-null   object \n",
      " 12  monthly_charges         7038 non-null   float64\n",
      " 13  total_charges           7038 non-null   float64\n",
      " 14  tenure                  7038 non-null   float64\n",
      " 15  total_charges2          7038 non-null   object \n",
      " 16  total_charges_match     7038 non-null   object \n",
      " 17  churn                   7038 non-null   object \n",
      " 18  is_female               7038 non-null   bool   \n",
      " 19  has_churned             7038 non-null   bool   \n",
      " 20  has_phone               7038 non-null   bool   \n",
      " 21  has_internet            7038 non-null   bool   \n",
      " 22  has_phone_and_internet  7038 non-null   bool   \n",
      " 23  partner_dependents      7038 non-null   int64  \n",
      " 24  partner_dependents.1    7038 non-null   int64  \n",
      " 25  service_type            7038 non-null   object \n",
      " 26  tenure_months           7038 non-null   int64  \n",
      " 27  tenure_years            7038 non-null   object \n",
      "dtypes: bool(5), float64(3), int64(7), object(13)\n",
      "memory usage: 1.3+ MB\n"
     ]
    }
   ],
   "source": [
    "telco = pd.read_csv('telcom_dataset.csv')\n",
    "telco = telco.dropna()\n",
    "\n",
    "telco.info()"
   ]
  },
  {
   "cell_type": "markdown",
   "id": "2194c342",
   "metadata": {},
   "source": [
    "### Use the telco_churn data. Does tenure correlate with monthly charges?"
   ]
  },
  {
   "cell_type": "code",
   "execution_count": 4,
   "id": "48ca20da",
   "metadata": {},
   "outputs": [
    {
     "name": "stdout",
     "output_type": "stream",
     "text": [
      "The p-value of 9.878909162394497e-98 lets us conlude we can ignore the null hypothesis, the alt hypothesis is supoorted with a correlation of 0.2463.\n"
     ]
    }
   ],
   "source": [
    "# Null Hypothesis\n",
    "#  tenure and monthly charges are not linearly correlated\n",
    "\n",
    "# Alt Hypothesis\n",
    "#  tenure and monthly charges are linearly correlated\n",
    "\n",
    "x = telco.tenure_months\n",
    "y = telco.monthly_charges\n",
    "\n",
    "r, p = stats.pearsonr(x, y)\n",
    "\n",
    "print(f'The p-value of {(p)} lets us conlude we can ignore the null hypothesis, the alt hypothesis is supoorted with a correlation of {round(r, 4)}.')"
   ]
  },
  {
   "cell_type": "markdown",
   "id": "be3761e0",
   "metadata": {},
   "source": [
    "# Correlation Exercise 1.b\n",
    "\n",
    "\n",
    "### Use the telco_churn data. Does tenure correlate with total charges? "
   ]
  },
  {
   "cell_type": "code",
   "execution_count": null,
   "id": "d36eb3b3",
   "metadata": {},
   "outputs": [],
   "source": []
  },
  {
   "cell_type": "code",
   "execution_count": 5,
   "id": "3fc1c1a6",
   "metadata": {},
   "outputs": [
    {
     "name": "stdout",
     "output_type": "stream",
     "text": [
      "The p-value of 0.0 lets us conlude we can ignore the null hypothesis, the alt hypothesis is supoorted with a correlation of 0.8259.\n"
     ]
    }
   ],
   "source": [
    "# Null Hypothesis\n",
    "#  tenure and total charges are not linearly correlated\n",
    "\n",
    "# Alt Hypothesis\n",
    "#  tenure and total charges are linearly correlated\n",
    "\n",
    "x = telco.tenure_months\n",
    "y = telco.total_charges\n",
    "\n",
    "r, p = stats.pearsonr(x, y)\n",
    "\n",
    "print(f'The p-value of {(p)} lets us conlude we can ignore the null hypothesis, the alt hypothesis is supoorted with a correlation of {round(r, 4)}.')"
   ]
  },
  {
   "cell_type": "markdown",
   "id": "2a08b447",
   "metadata": {},
   "source": [
    "# Correlation Exercise 1.c\n",
    "\n",
    "\n",
    "### What happens if you control for phone and internet service?"
   ]
  },
  {
   "cell_type": "code",
   "execution_count": 6,
   "id": "166b5b4f",
   "metadata": {},
   "outputs": [
    {
     "data": {
      "text/plain": [
       "Fiber Optic            3098\n",
       "DSL                    2417\n",
       "No Internet Service    1523\n",
       "Name: internet_service_name, dtype: int64"
      ]
     },
     "execution_count": 6,
     "metadata": {},
     "output_type": "execute_result"
    }
   ],
   "source": [
    "telco.internet_service_name.value_counts()"
   ]
  },
  {
   "cell_type": "code",
   "execution_count": 7,
   "id": "87a3342e",
   "metadata": {},
   "outputs": [
    {
     "data": {
      "text/plain": [
       "One Line             3390\n",
       "Two or More Lines    2967\n",
       "No Phone Service      681\n",
       "Name: phone_service_name, dtype: int64"
      ]
     },
     "execution_count": 7,
     "metadata": {},
     "output_type": "execute_result"
    }
   ],
   "source": [
    "telco.phone_service_name.value_counts()"
   ]
  },
  {
   "cell_type": "code",
   "execution_count": 8,
   "id": "19269f9e",
   "metadata": {},
   "outputs": [
    {
     "data": {
      "text/plain": [
       "Two or More Lines & Fiber Optic            1938\n",
       "One Line & No Internet Service             1183\n",
       "One Line & Fiber Optic                     1160\n",
       "One Line & DSL                             1047\n",
       "Two or More Lines & DSL                     689\n",
       "No Phone Service & DSL                      681\n",
       "Two or More Lines & No Internet Service     340\n",
       "Name: phone_internet, dtype: int64"
      ]
     },
     "execution_count": 8,
     "metadata": {},
     "output_type": "execute_result"
    }
   ],
   "source": [
    "telco['phone_internet'] = telco.phone_service_name + ' & ' + telco.internet_service_name\n",
    "\n",
    "telco.phone_internet.value_counts()"
   ]
  },
  {
   "cell_type": "code",
   "execution_count": 128,
   "id": "6ffc9142",
   "metadata": {},
   "outputs": [
    {
     "name": "stderr",
     "output_type": "stream",
     "text": [
      "/usr/local/anaconda3/lib/python3.9/site-packages/seaborn/_decorators.py:36: FutureWarning: Pass the following variables as keyword args: x, y. From version 0.12, the only valid positional argument will be `data`, and passing other arguments without an explicit keyword will result in an error or misinterpretation.\n",
      "  warnings.warn(\n"
     ]
    },
    {
     "data": {
      "text/plain": [
       "<seaborn.axisgrid.FacetGrid at 0x7fbf7eae8910>"
      ]
     },
     "execution_count": 128,
     "metadata": {},
     "output_type": "execute_result"
    },
    {
     "data": {
      "image/png": "[encoded data removed]",
      "text/plain": [
       "<Figure size 2520x360 with 7 Axes>"
      ]
     },
     "metadata": {
      "needs_background": "light"
     },
     "output_type": "display_data"
    }
   ],
   "source": [
    "x = telco.tenure_months\n",
    "y = telco.total_charges\n",
    "\n",
    "sns.relplot(x, y, col=telco.phone_internet)"
   ]
  },
  {
   "cell_type": "code",
   "execution_count": 11,
   "id": "5aa153f1",
   "metadata": {},
   "outputs": [
    {
     "data": {
      "text/html": [
       "<div>\n",
       "<style scoped>\n",
       "    .dataframe tbody tr th:only-of-type {\n",
       "        vertical-align: middle;\n",
       "    }\n",
       "\n",
       "    .dataframe tbody tr th {\n",
       "        vertical-align: top;\n",
       "    }\n",
       "\n",
       "    .dataframe thead th {\n",
       "        text-align: right;\n",
       "    }\n",
       "</style>\n",
       "<table border=\"1\" class=\"dataframe\">\n",
       "  <thead>\n",
       "    <tr style=\"text-align: right;\">\n",
       "      <th></th>\n",
       "      <th>service</th>\n",
       "      <th>r</th>\n",
       "      <th>p</th>\n",
       "    </tr>\n",
       "  </thead>\n",
       "  <tbody>\n",
       "    <tr>\n",
       "      <th>0</th>\n",
       "      <td>Two or More Lines &amp; Fiber Optic</td>\n",
       "      <td>0.825913</td>\n",
       "      <td>0.0</td>\n",
       "    </tr>\n",
       "    <tr>\n",
       "      <th>1</th>\n",
       "      <td>One Line &amp; No Internet Service</td>\n",
       "      <td>0.825913</td>\n",
       "      <td>0.0</td>\n",
       "    </tr>\n",
       "    <tr>\n",
       "      <th>2</th>\n",
       "      <td>One Line &amp; Fiber Optic</td>\n",
       "      <td>0.825913</td>\n",
       "      <td>0.0</td>\n",
       "    </tr>\n",
       "    <tr>\n",
       "      <th>3</th>\n",
       "      <td>One Line &amp; DSL</td>\n",
       "      <td>0.825913</td>\n",
       "      <td>0.0</td>\n",
       "    </tr>\n",
       "    <tr>\n",
       "      <th>4</th>\n",
       "      <td>Two or More Lines &amp; DSL</td>\n",
       "      <td>0.825913</td>\n",
       "      <td>0.0</td>\n",
       "    </tr>\n",
       "    <tr>\n",
       "      <th>5</th>\n",
       "      <td>No Phone Service &amp; DSL</td>\n",
       "      <td>0.825913</td>\n",
       "      <td>0.0</td>\n",
       "    </tr>\n",
       "    <tr>\n",
       "      <th>6</th>\n",
       "      <td>Two or More Lines &amp; No Internet Service</td>\n",
       "      <td>0.825913</td>\n",
       "      <td>0.0</td>\n",
       "    </tr>\n",
       "  </tbody>\n",
       "</table>\n",
       "</div>"
      ],
      "text/plain": [
       "                                   service         r    p\n",
       "0          Two or More Lines & Fiber Optic  0.825913  0.0\n",
       "1           One Line & No Internet Service  0.825913  0.0\n",
       "2                   One Line & Fiber Optic  0.825913  0.0\n",
       "3                           One Line & DSL  0.825913  0.0\n",
       "4                  Two or More Lines & DSL  0.825913  0.0\n",
       "5                   No Phone Service & DSL  0.825913  0.0\n",
       "6  Two or More Lines & No Internet Service  0.825913  0.0"
      ]
     },
     "execution_count": 11,
     "metadata": {},
     "output_type": "execute_result"
    }
   ],
   "source": [
    "services = telco.phone_internet.value_counts().index\n",
    "\n",
    "test_values = []\n",
    "\n",
    "for service in services:\n",
    "    subset = telco[telco.phone_internet == service]\n",
    "    r, p = stats.pearsonr(x, y)\n",
    "    result = {\n",
    "        \"service\": service,\n",
    "        \"r\": r,\n",
    "        \"p\": p}\n",
    "    test_values.append(result)\n",
    "\n",
    "pd.DataFrame(test_values)\n",
    "\n",
    "# Correcting for services provided would not have any change on the correlation"
   ]
  },
  {
   "cell_type": "markdown",
   "id": "539b1bf7",
   "metadata": {},
   "source": [
    "# Correlation Exercise 2.a\n",
    "\n",
    "Use the employees database.\n",
    "\n",
    "   ### Is there a relationship between how long an employee has been with the company and their salary?\n"
   ]
  },
  {
   "cell_type": "code",
   "execution_count": 52,
   "id": "9470186c",
   "metadata": {},
   "outputs": [
    {
     "data": {
      "text/html": [
       "<div>\n",
       "<style scoped>\n",
       "    .dataframe tbody tr th:only-of-type {\n",
       "        vertical-align: middle;\n",
       "    }\n",
       "\n",
       "    .dataframe tbody tr th {\n",
       "        vertical-align: top;\n",
       "    }\n",
       "\n",
       "    .dataframe thead th {\n",
       "        text-align: right;\n",
       "    }\n",
       "</style>\n",
       "<table border=\"1\" class=\"dataframe\">\n",
       "  <thead>\n",
       "    <tr style=\"text-align: right;\">\n",
       "      <th></th>\n",
       "      <th>emp_no</th>\n",
       "      <th>birth_date</th>\n",
       "      <th>first_name</th>\n",
       "      <th>last_name</th>\n",
       "      <th>gender</th>\n",
       "      <th>hire_date</th>\n",
       "      <th>salary</th>\n",
       "      <th>from_date</th>\n",
       "      <th>to_date</th>\n",
       "      <th>tenure_days</th>\n",
       "    </tr>\n",
       "  </thead>\n",
       "  <tbody>\n",
       "    <tr>\n",
       "      <th>0</th>\n",
       "      <td>10001</td>\n",
       "      <td>1953-09-02</td>\n",
       "      <td>Georgi</td>\n",
       "      <td>Facello</td>\n",
       "      <td>M</td>\n",
       "      <td>1986-06-26</td>\n",
       "      <td>88958</td>\n",
       "      <td>2002-06-22</td>\n",
       "      <td>9999-01-01</td>\n",
       "      <td>13025</td>\n",
       "    </tr>\n",
       "    <tr>\n",
       "      <th>1</th>\n",
       "      <td>10002</td>\n",
       "      <td>1964-06-02</td>\n",
       "      <td>Bezalel</td>\n",
       "      <td>Simmel</td>\n",
       "      <td>F</td>\n",
       "      <td>1985-11-21</td>\n",
       "      <td>72527</td>\n",
       "      <td>2001-08-02</td>\n",
       "      <td>9999-01-01</td>\n",
       "      <td>13242</td>\n",
       "    </tr>\n",
       "    <tr>\n",
       "      <th>2</th>\n",
       "      <td>10003</td>\n",
       "      <td>1959-12-03</td>\n",
       "      <td>Parto</td>\n",
       "      <td>Bamford</td>\n",
       "      <td>M</td>\n",
       "      <td>1986-08-28</td>\n",
       "      <td>43311</td>\n",
       "      <td>2001-12-01</td>\n",
       "      <td>9999-01-01</td>\n",
       "      <td>12962</td>\n",
       "    </tr>\n",
       "    <tr>\n",
       "      <th>3</th>\n",
       "      <td>10004</td>\n",
       "      <td>1954-05-01</td>\n",
       "      <td>Chirstian</td>\n",
       "      <td>Koblick</td>\n",
       "      <td>M</td>\n",
       "      <td>1986-12-01</td>\n",
       "      <td>74057</td>\n",
       "      <td>2001-11-27</td>\n",
       "      <td>9999-01-01</td>\n",
       "      <td>12867</td>\n",
       "    </tr>\n",
       "    <tr>\n",
       "      <th>4</th>\n",
       "      <td>10005</td>\n",
       "      <td>1955-01-21</td>\n",
       "      <td>Kyoichi</td>\n",
       "      <td>Maliniak</td>\n",
       "      <td>M</td>\n",
       "      <td>1989-09-12</td>\n",
       "      <td>94692</td>\n",
       "      <td>2001-09-09</td>\n",
       "      <td>9999-01-01</td>\n",
       "      <td>11851</td>\n",
       "    </tr>\n",
       "  </tbody>\n",
       "</table>\n",
       "</div>"
      ],
      "text/plain": [
       "   emp_no  birth_date first_name last_name gender   hire_date  salary  \\\n",
       "0   10001  1953-09-02     Georgi   Facello      M  1986-06-26   88958   \n",
       "1   10002  1964-06-02    Bezalel    Simmel      F  1985-11-21   72527   \n",
       "2   10003  1959-12-03      Parto   Bamford      M  1986-08-28   43311   \n",
       "3   10004  1954-05-01  Chirstian   Koblick      M  1986-12-01   74057   \n",
       "4   10005  1955-01-21    Kyoichi  Maliniak      M  1989-09-12   94692   \n",
       "\n",
       "    from_date     to_date  tenure_days  \n",
       "0  2002-06-22  9999-01-01        13025  \n",
       "1  2001-08-02  9999-01-01        13242  \n",
       "2  2001-12-01  9999-01-01        12962  \n",
       "3  2001-11-27  9999-01-01        12867  \n",
       "4  2001-09-09  9999-01-01        11851  "
      ]
     },
     "execution_count": 52,
     "metadata": {},
     "output_type": "execute_result"
    }
   ],
   "source": [
    "# Null Hypothesis\n",
    "#  Salary and Employee Tenure are not linearly correlated\n",
    "\n",
    "# Alt Hypothesis\n",
    "#  Salary and Employee Tenure are linearly correlated\n",
    "\n",
    "url = f'mysql+pymysql://{env.user}:{env.password}@{env.host}/employees'\n",
    "\n",
    "# make sure i grab right data, required a join \n",
    "    \n",
    "query = '''\n",
    "SELECT *, datediff(curdate(), hire_date) as tenure_days\n",
    "FROM employees\n",
    "JOIN salaries USING(emp_no)\n",
    "WHERE to_date > NOW()\n",
    "'''\n",
    "df = pd.read_sql(query, url)\n",
    "\n",
    "df.head(5)"
   ]
  },
  {
   "cell_type": "code",
   "execution_count": 53,
   "id": "74eea572",
   "metadata": {},
   "outputs": [
    {
     "name": "stdout",
     "output_type": "stream",
     "text": [
      " We can reject he null hypothesis.\n"
     ]
    },
    {
     "data": {
      "text/plain": [
       "(0.3064625613186077, 0.0)"
      ]
     },
     "execution_count": 53,
     "metadata": {},
     "output_type": "execute_result"
    }
   ],
   "source": [
    "r, p = stats.pearsonr(df.tenure_days, df.salary)\n",
    "\n",
    "if p < α:\n",
    "    print(f' We can reject he null hypothesis.')\n",
    "else:\n",
    "    print(f' Due to p being greater than α, the null hypothesis stands.')\n",
    "r, p"
   ]
  },
  {
   "cell_type": "markdown",
   "id": "ecdf5e2e",
   "metadata": {},
   "source": [
    "# Correlation Exercise 2.b\n",
    "\n",
    "Use the employees database.\n",
    "\n",
    "   ### Is there a relationship between how long an employee has been with the company and the number of titles they have had?"
   ]
  },
  {
   "cell_type": "code",
   "execution_count": null,
   "id": "6917ff3f",
   "metadata": {},
   "outputs": [],
   "source": [
    "# Null Hypothesis\n",
    "#  Title Count and Employee Tenure are not linearly correlated\n",
    "\n",
    "# Alt Hypothesis\n",
    "#  Title Count and Employee Tenure are linearly correlated"
   ]
  },
  {
   "cell_type": "code",
   "execution_count": null,
   "id": "1b17a98c",
   "metadata": {},
   "outputs": [],
   "source": []
  },
  {
   "cell_type": "markdown",
   "id": "695a1b9a",
   "metadata": {},
   "source": [
    "# Correlation Exercise 3\n",
    "\n",
    "Use the sleepstudy data. Is there a relationship between days and reaction time?"
   ]
  },
  {
   "cell_type": "code",
   "execution_count": 134,
   "id": "87336f1c",
   "metadata": {},
   "outputs": [
    {
     "data": {
      "text/html": [
       "<div>\n",
       "<style scoped>\n",
       "    .dataframe tbody tr th:only-of-type {\n",
       "        vertical-align: middle;\n",
       "    }\n",
       "\n",
       "    .dataframe tbody tr th {\n",
       "        vertical-align: top;\n",
       "    }\n",
       "\n",
       "    .dataframe thead th {\n",
       "        text-align: right;\n",
       "    }\n",
       "</style>\n",
       "<table border=\"1\" class=\"dataframe\">\n",
       "  <thead>\n",
       "    <tr style=\"text-align: right;\">\n",
       "      <th></th>\n",
       "      <th>Reaction</th>\n",
       "      <th>Days</th>\n",
       "      <th>Subject</th>\n",
       "    </tr>\n",
       "  </thead>\n",
       "  <tbody>\n",
       "    <tr>\n",
       "      <th>1</th>\n",
       "      <td>249.5600</td>\n",
       "      <td>0</td>\n",
       "      <td>308</td>\n",
       "    </tr>\n",
       "    <tr>\n",
       "      <th>2</th>\n",
       "      <td>258.7047</td>\n",
       "      <td>1</td>\n",
       "      <td>308</td>\n",
       "    </tr>\n",
       "    <tr>\n",
       "      <th>3</th>\n",
       "      <td>250.8006</td>\n",
       "      <td>2</td>\n",
       "      <td>308</td>\n",
       "    </tr>\n",
       "    <tr>\n",
       "      <th>4</th>\n",
       "      <td>321.4398</td>\n",
       "      <td>3</td>\n",
       "      <td>308</td>\n",
       "    </tr>\n",
       "    <tr>\n",
       "      <th>5</th>\n",
       "      <td>356.8519</td>\n",
       "      <td>4</td>\n",
       "      <td>308</td>\n",
       "    </tr>\n",
       "  </tbody>\n",
       "</table>\n",
       "</div>"
      ],
      "text/plain": [
       "   Reaction  Days  Subject\n",
       "1  249.5600     0      308\n",
       "2  258.7047     1      308\n",
       "3  250.8006     2      308\n",
       "4  321.4398     3      308\n",
       "5  356.8519     4      308"
      ]
     },
     "execution_count": 134,
     "metadata": {},
     "output_type": "execute_result"
    }
   ],
   "source": [
    "# Null Hypothesis\n",
    "#  Reaction Time and Days are not linearly correlated\n",
    "\n",
    "# Alt Hypothesis\n",
    "#  Reaction Time and Days are linearly correlated\n",
    "\n",
    "df = data('sleepstudy')\n",
    "df.head()"
   ]
  },
  {
   "cell_type": "code",
   "execution_count": 143,
   "id": "86cd34b8",
   "metadata": {},
   "outputs": [
    {
     "name": "stdout",
     "output_type": "stream",
     "text": [
      " We can reject he null hypothesis.\n"
     ]
    },
    {
     "data": {
      "text/plain": [
       "(0.5352302262650253, 9.894096322214812e-15)"
      ]
     },
     "execution_count": 143,
     "metadata": {},
     "output_type": "execute_result"
    }
   ],
   "source": [
    "r, p = stats.pearsonr(df.Days, df.Reaction)\n",
    "\n",
    "if p < α:\n",
    "    print(f' We can reject he null hypothesis.')\n",
    "else:\n",
    "    print(f' Due to p being greater than α, the null hypothesis stands.')\n",
    "r, p"
   ]
  },
  {
   "cell_type": "markdown",
   "id": "741d4376",
   "metadata": {},
   "source": [
    "# $Chi^2$\n",
    "\n",
    "\n",
    "\n",
    "## Practice Exercise"
   ]
  },
  {
   "cell_type": "code",
   "execution_count": 13,
   "id": "38229078",
   "metadata": {},
   "outputs": [
    {
     "data": {
      "text/html": [
       "<div>\n",
       "<style scoped>\n",
       "    .dataframe tbody tr th:only-of-type {\n",
       "        vertical-align: middle;\n",
       "    }\n",
       "\n",
       "    .dataframe tbody tr th {\n",
       "        vertical-align: top;\n",
       "    }\n",
       "\n",
       "    .dataframe thead th {\n",
       "        text-align: right;\n",
       "    }\n",
       "</style>\n",
       "<table border=\"1\" class=\"dataframe\">\n",
       "  <thead>\n",
       "    <tr style=\"text-align: right;\">\n",
       "      <th></th>\n",
       "      <th>Age</th>\n",
       "      <th>Attrition</th>\n",
       "      <th>BusinessTravel</th>\n",
       "      <th>DailyRate</th>\n",
       "      <th>Department</th>\n",
       "      <th>DistanceFromHome</th>\n",
       "      <th>Education</th>\n",
       "      <th>EducationField</th>\n",
       "      <th>EmployeeCount</th>\n",
       "      <th>EmployeeNumber</th>\n",
       "      <th>...</th>\n",
       "      <th>RelationshipSatisfaction</th>\n",
       "      <th>StandardHours</th>\n",
       "      <th>StockOptionLevel</th>\n",
       "      <th>TotalWorkingYears</th>\n",
       "      <th>TrainingTimesLastYear</th>\n",
       "      <th>WorkLifeBalance</th>\n",
       "      <th>YearsAtCompany</th>\n",
       "      <th>YearsInCurrentRole</th>\n",
       "      <th>YearsSinceLastPromotion</th>\n",
       "      <th>YearsWithCurrManager</th>\n",
       "    </tr>\n",
       "  </thead>\n",
       "  <tbody>\n",
       "    <tr>\n",
       "      <th>0</th>\n",
       "      <td>41</td>\n",
       "      <td>Yes</td>\n",
       "      <td>Travel_Rarely</td>\n",
       "      <td>1102</td>\n",
       "      <td>Sales</td>\n",
       "      <td>1</td>\n",
       "      <td>2</td>\n",
       "      <td>Life Sciences</td>\n",
       "      <td>1</td>\n",
       "      <td>1</td>\n",
       "      <td>...</td>\n",
       "      <td>1</td>\n",
       "      <td>80</td>\n",
       "      <td>0</td>\n",
       "      <td>8</td>\n",
       "      <td>0</td>\n",
       "      <td>1</td>\n",
       "      <td>6</td>\n",
       "      <td>4</td>\n",
       "      <td>0</td>\n",
       "      <td>5</td>\n",
       "    </tr>\n",
       "    <tr>\n",
       "      <th>1</th>\n",
       "      <td>49</td>\n",
       "      <td>No</td>\n",
       "      <td>Travel_Frequently</td>\n",
       "      <td>279</td>\n",
       "      <td>Research &amp; Development</td>\n",
       "      <td>8</td>\n",
       "      <td>1</td>\n",
       "      <td>Life Sciences</td>\n",
       "      <td>1</td>\n",
       "      <td>2</td>\n",
       "      <td>...</td>\n",
       "      <td>4</td>\n",
       "      <td>80</td>\n",
       "      <td>1</td>\n",
       "      <td>10</td>\n",
       "      <td>3</td>\n",
       "      <td>3</td>\n",
       "      <td>10</td>\n",
       "      <td>7</td>\n",
       "      <td>1</td>\n",
       "      <td>7</td>\n",
       "    </tr>\n",
       "    <tr>\n",
       "      <th>2</th>\n",
       "      <td>37</td>\n",
       "      <td>Yes</td>\n",
       "      <td>Travel_Rarely</td>\n",
       "      <td>1373</td>\n",
       "      <td>Research &amp; Development</td>\n",
       "      <td>2</td>\n",
       "      <td>2</td>\n",
       "      <td>Other</td>\n",
       "      <td>1</td>\n",
       "      <td>4</td>\n",
       "      <td>...</td>\n",
       "      <td>2</td>\n",
       "      <td>80</td>\n",
       "      <td>0</td>\n",
       "      <td>7</td>\n",
       "      <td>3</td>\n",
       "      <td>3</td>\n",
       "      <td>0</td>\n",
       "      <td>0</td>\n",
       "      <td>0</td>\n",
       "      <td>0</td>\n",
       "    </tr>\n",
       "    <tr>\n",
       "      <th>3</th>\n",
       "      <td>33</td>\n",
       "      <td>No</td>\n",
       "      <td>Travel_Frequently</td>\n",
       "      <td>1392</td>\n",
       "      <td>Research &amp; Development</td>\n",
       "      <td>3</td>\n",
       "      <td>4</td>\n",
       "      <td>Life Sciences</td>\n",
       "      <td>1</td>\n",
       "      <td>5</td>\n",
       "      <td>...</td>\n",
       "      <td>3</td>\n",
       "      <td>80</td>\n",
       "      <td>0</td>\n",
       "      <td>8</td>\n",
       "      <td>3</td>\n",
       "      <td>3</td>\n",
       "      <td>8</td>\n",
       "      <td>7</td>\n",
       "      <td>3</td>\n",
       "      <td>0</td>\n",
       "    </tr>\n",
       "    <tr>\n",
       "      <th>4</th>\n",
       "      <td>27</td>\n",
       "      <td>No</td>\n",
       "      <td>Travel_Rarely</td>\n",
       "      <td>591</td>\n",
       "      <td>Research &amp; Development</td>\n",
       "      <td>2</td>\n",
       "      <td>1</td>\n",
       "      <td>Medical</td>\n",
       "      <td>1</td>\n",
       "      <td>7</td>\n",
       "      <td>...</td>\n",
       "      <td>4</td>\n",
       "      <td>80</td>\n",
       "      <td>1</td>\n",
       "      <td>6</td>\n",
       "      <td>3</td>\n",
       "      <td>3</td>\n",
       "      <td>2</td>\n",
       "      <td>2</td>\n",
       "      <td>2</td>\n",
       "      <td>2</td>\n",
       "    </tr>\n",
       "  </tbody>\n",
       "</table>\n",
       "<p>5 rows × 35 columns</p>\n",
       "</div>"
      ],
      "text/plain": [
       "   Age Attrition     BusinessTravel  DailyRate              Department  \\\n",
       "0   41       Yes      Travel_Rarely       1102                   Sales   \n",
       "1   49        No  Travel_Frequently        279  Research & Development   \n",
       "2   37       Yes      Travel_Rarely       1373  Research & Development   \n",
       "3   33        No  Travel_Frequently       1392  Research & Development   \n",
       "4   27        No      Travel_Rarely        591  Research & Development   \n",
       "\n",
       "   DistanceFromHome  Education EducationField  EmployeeCount  EmployeeNumber  \\\n",
       "0                 1          2  Life Sciences              1               1   \n",
       "1                 8          1  Life Sciences              1               2   \n",
       "2                 2          2          Other              1               4   \n",
       "3                 3          4  Life Sciences              1               5   \n",
       "4                 2          1        Medical              1               7   \n",
       "\n",
       "   ...  RelationshipSatisfaction StandardHours  StockOptionLevel  \\\n",
       "0  ...                         1            80                 0   \n",
       "1  ...                         4            80                 1   \n",
       "2  ...                         2            80                 0   \n",
       "3  ...                         3            80                 0   \n",
       "4  ...                         4            80                 1   \n",
       "\n",
       "   TotalWorkingYears  TrainingTimesLastYear WorkLifeBalance  YearsAtCompany  \\\n",
       "0                  8                      0               1               6   \n",
       "1                 10                      3               3              10   \n",
       "2                  7                      3               3               0   \n",
       "3                  8                      3               3               8   \n",
       "4                  6                      3               3               2   \n",
       "\n",
       "  YearsInCurrentRole  YearsSinceLastPromotion  YearsWithCurrManager  \n",
       "0                  4                        0                     5  \n",
       "1                  7                        1                     7  \n",
       "2                  0                        0                     0  \n",
       "3                  7                        3                     0  \n",
       "4                  2                        2                     2  \n",
       "\n",
       "[5 rows x 35 columns]"
      ]
     },
     "execution_count": 13,
     "metadata": {},
     "output_type": "execute_result"
    }
   ],
   "source": [
    "df = pd.read_csv(\"https://gist.githubusercontent.com/ryanorsinger/6ba2dd985c9aa92f5598fc0f7c359f6a/raw/b20a508cee46e6ac69eb1e228b167d6f42d665d8/attrition.csv\")\n",
    "\n",
    "df.head()"
   ]
  },
  {
   "cell_type": "code",
   "execution_count": 15,
   "id": "5693840d",
   "metadata": {},
   "outputs": [
    {
     "data": {
      "text/plain": [
       "Research & Development    961\n",
       "Sales                     446\n",
       "Human Resources            63\n",
       "Name: Department, dtype: int64"
      ]
     },
     "execution_count": 15,
     "metadata": {},
     "output_type": "execute_result"
    }
   ],
   "source": [
    "df.Department.value_counts()"
   ]
  },
  {
   "cell_type": "code",
   "execution_count": 16,
   "id": "4ae0621a",
   "metadata": {},
   "outputs": [
    {
     "data": {
      "text/html": [
       "<div>\n",
       "<style scoped>\n",
       "    .dataframe tbody tr th:only-of-type {\n",
       "        vertical-align: middle;\n",
       "    }\n",
       "\n",
       "    .dataframe tbody tr th {\n",
       "        vertical-align: top;\n",
       "    }\n",
       "\n",
       "    .dataframe thead th {\n",
       "        text-align: right;\n",
       "    }\n",
       "</style>\n",
       "<table border=\"1\" class=\"dataframe\">\n",
       "  <thead>\n",
       "    <tr style=\"text-align: right;\">\n",
       "      <th>Department</th>\n",
       "      <th>Human Resources</th>\n",
       "      <th>Research &amp; Development</th>\n",
       "      <th>Sales</th>\n",
       "    </tr>\n",
       "    <tr>\n",
       "      <th>Attrition</th>\n",
       "      <th></th>\n",
       "      <th></th>\n",
       "      <th></th>\n",
       "    </tr>\n",
       "  </thead>\n",
       "  <tbody>\n",
       "    <tr>\n",
       "      <th>No</th>\n",
       "      <td>51</td>\n",
       "      <td>828</td>\n",
       "      <td>354</td>\n",
       "    </tr>\n",
       "    <tr>\n",
       "      <th>Yes</th>\n",
       "      <td>12</td>\n",
       "      <td>133</td>\n",
       "      <td>92</td>\n",
       "    </tr>\n",
       "  </tbody>\n",
       "</table>\n",
       "</div>"
      ],
      "text/plain": [
       "Department  Human Resources  Research & Development  Sales\n",
       "Attrition                                                 \n",
       "No                       51                     828    354\n",
       "Yes                      12                     133     92"
      ]
     },
     "execution_count": 16,
     "metadata": {},
     "output_type": "execute_result"
    }
   ],
   "source": [
    "observed = pd.crosstab(df.Attrition, df.Department)\n",
    "observed"
   ]
  },
  {
   "cell_type": "code",
   "execution_count": 18,
   "id": "f6fef184",
   "metadata": {},
   "outputs": [
    {
     "name": "stdout",
     "output_type": "stream",
     "text": [
      "Observed\n",
      "\n",
      "[[ 51 828 354]\n",
      " [ 12 133  92]]\n",
      "---\n",
      "Expected\n",
      "\n",
      "[[ 52 806 374]\n",
      " [ 10 154  71]]\n",
      "---\n",
      "\n",
      "chi^2 = 10.7960\n",
      "p     = 0.0045\n"
     ]
    }
   ],
   "source": [
    "chi2, p, dof, expected = stats.chi2_contingency(observed)\n",
    "\n",
    "print('Observed\\n')\n",
    "print(observed.values)\n",
    "print('---\\nExpected\\n')\n",
    "print(expected.astype(int))\n",
    "print('---\\n')\n",
    "print(f'chi^2 = {chi2:.4f}')\n",
    "print(f'p     = {p:.4f}')\n"
   ]
  },
  {
   "cell_type": "markdown",
   "id": "bb58afbd",
   "metadata": {},
   "source": [
    "# $Chi^2$ Exercise 1\n",
    "\n",
    "Use the following contingency table to help answer the question of whether using a macbook and being a codeup student are independent of each other.\n",
    "    \n",
    "                            Codeup Student \tNot Codeup Student\n",
    "                Uses a Macbook     49                20\n",
    "         Doesn't Use A Macbook \t   1            \t 30"
   ]
  },
  {
   "cell_type": "code",
   "execution_count": 24,
   "id": "8b3608ad",
   "metadata": {},
   "outputs": [
    {
     "name": "stdout",
     "output_type": "stream",
     "text": [
      "Observed\n",
      "          codeup_student  not_student\n",
      "uses_mac              49           20\n",
      "no_mac                 1           30\n",
      "---\n",
      "Expected\n",
      "          codeup_student  not_student\n",
      "uses_mac            34.5         15.5\n",
      "no_mac              34.5         15.5\n",
      "---\n",
      "\n",
      "chi^2 = 53.4942\n",
      "p     = 0.0000\n",
      " We can reject he null hypothesis.\n"
     ]
    }
   ],
   "source": [
    "# Null Hypothesis\n",
    "#  using a macbook and being a codeup student are dependant upon each other\n",
    "\n",
    "# Alt Hypothesis\n",
    "#  using a macbook and being a codeup student are independent of each other\n",
    "\n",
    "index = ['uses_mac', 'no_mac']\n",
    "columns = ['codeup_student', 'not_student']\n",
    "\n",
    "observed = pd.DataFrame([[49, 20], [1, 30]], index=index, columns=columns)\n",
    "n = observed.values.sum()\n",
    "\n",
    "\n",
    "expected = pd.DataFrame([[.345, .155], [.345, .155]], index=index, columns=columns) * n\n",
    "\n",
    "chi2 = ((observed - expected)**2 / expected).values.sum()\n",
    "\n",
    "nrows, ncols = observed.shape\n",
    "\n",
    "degrees_of_freedom = (nrows - 1) * (ncols - 1)\n",
    "\n",
    "p = stats.chi2(degrees_of_freedom).sf(chi2)\n",
    "\n",
    "print('Observed')\n",
    "print(observed)\n",
    "print('---\\nExpected')\n",
    "print(expected)\n",
    "print('---\\n')\n",
    "print(f'chi^2 = {chi2:.4f}')\n",
    "print(f'p     = {p:.4f}')\n",
    "\n",
    "if p < α:\n",
    "    print(f' We can reject he null hypothesis.')\n",
    "else:\n",
    "    print(f' Due to p being greater than α, the null hypothesis stands.')"
   ]
  },
  {
   "cell_type": "code",
   "execution_count": 25,
   "id": "d6010da9",
   "metadata": {},
   "outputs": [
    {
     "name": "stdout",
     "output_type": "stream",
     "text": [
      "Observed\n",
      "\n",
      "[[49 20]\n",
      " [ 1 30]]\n",
      "---\n",
      "Expected\n",
      "\n",
      "[[34.5 34.5]\n",
      " [15.5 15.5]]\n",
      "---\n",
      "\n",
      "chi^2 = 36.6526\n",
      "p     = 0.0000\n",
      " We can reject he null hypothesis.\n"
     ]
    }
   ],
   "source": [
    "chi2, p, degf, expected = stats.chi2_contingency(observed)\n",
    "\n",
    "print('Observed\\n')\n",
    "print(observed.values)\n",
    "print('---\\nExpected\\n')\n",
    "print(expected)\n",
    "print('---\\n')\n",
    "print(f'chi^2 = {chi2:.4f}')\n",
    "print(f'p     = {p:.4f}')\n",
    "\n",
    "if p < α:\n",
    "    print(f' We can reject he null hypothesis.')\n",
    "else:\n",
    "    print(f' Due to p being greater than α, the null hypothesis stands.')"
   ]
  },
  {
   "cell_type": "markdown",
   "id": "92a89c85",
   "metadata": {},
   "source": [
    "# $Chi^2$ Exercise 2\n",
    "\n",
    "### Choose another 2 categorical variables from the mpg dataset and perform a $chi^2$ contingency table test with them. Be sure to state your null and alternative hypotheses."
   ]
  },
  {
   "cell_type": "code",
   "execution_count": 33,
   "id": "85868184",
   "metadata": {},
   "outputs": [
    {
     "data": {
      "text/html": [
       "<div>\n",
       "<style scoped>\n",
       "    .dataframe tbody tr th:only-of-type {\n",
       "        vertical-align: middle;\n",
       "    }\n",
       "\n",
       "    .dataframe tbody tr th {\n",
       "        vertical-align: top;\n",
       "    }\n",
       "\n",
       "    .dataframe thead th {\n",
       "        text-align: right;\n",
       "    }\n",
       "</style>\n",
       "<table border=\"1\" class=\"dataframe\">\n",
       "  <thead>\n",
       "    <tr style=\"text-align: right;\">\n",
       "      <th></th>\n",
       "      <th>manufacturer</th>\n",
       "      <th>model</th>\n",
       "      <th>displ</th>\n",
       "      <th>year</th>\n",
       "      <th>cyl</th>\n",
       "      <th>trans</th>\n",
       "      <th>drv</th>\n",
       "      <th>cty</th>\n",
       "      <th>hwy</th>\n",
       "      <th>fl</th>\n",
       "      <th>class</th>\n",
       "      <th>transmission_type</th>\n",
       "    </tr>\n",
       "  </thead>\n",
       "  <tbody>\n",
       "    <tr>\n",
       "      <th>1</th>\n",
       "      <td>audi</td>\n",
       "      <td>a4</td>\n",
       "      <td>1.8</td>\n",
       "      <td>1999</td>\n",
       "      <td>4</td>\n",
       "      <td>auto(l5)</td>\n",
       "      <td>f</td>\n",
       "      <td>18</td>\n",
       "      <td>29</td>\n",
       "      <td>p</td>\n",
       "      <td>compact</td>\n",
       "      <td>Auto</td>\n",
       "    </tr>\n",
       "    <tr>\n",
       "      <th>2</th>\n",
       "      <td>audi</td>\n",
       "      <td>a4</td>\n",
       "      <td>1.8</td>\n",
       "      <td>1999</td>\n",
       "      <td>4</td>\n",
       "      <td>manual(m5)</td>\n",
       "      <td>f</td>\n",
       "      <td>21</td>\n",
       "      <td>29</td>\n",
       "      <td>p</td>\n",
       "      <td>compact</td>\n",
       "      <td>Manual</td>\n",
       "    </tr>\n",
       "    <tr>\n",
       "      <th>3</th>\n",
       "      <td>audi</td>\n",
       "      <td>a4</td>\n",
       "      <td>2.0</td>\n",
       "      <td>2008</td>\n",
       "      <td>4</td>\n",
       "      <td>manual(m6)</td>\n",
       "      <td>f</td>\n",
       "      <td>20</td>\n",
       "      <td>31</td>\n",
       "      <td>p</td>\n",
       "      <td>compact</td>\n",
       "      <td>Manual</td>\n",
       "    </tr>\n",
       "    <tr>\n",
       "      <th>4</th>\n",
       "      <td>audi</td>\n",
       "      <td>a4</td>\n",
       "      <td>2.0</td>\n",
       "      <td>2008</td>\n",
       "      <td>4</td>\n",
       "      <td>auto(av)</td>\n",
       "      <td>f</td>\n",
       "      <td>21</td>\n",
       "      <td>30</td>\n",
       "      <td>p</td>\n",
       "      <td>compact</td>\n",
       "      <td>Auto</td>\n",
       "    </tr>\n",
       "    <tr>\n",
       "      <th>5</th>\n",
       "      <td>audi</td>\n",
       "      <td>a4</td>\n",
       "      <td>2.8</td>\n",
       "      <td>1999</td>\n",
       "      <td>6</td>\n",
       "      <td>auto(l5)</td>\n",
       "      <td>f</td>\n",
       "      <td>16</td>\n",
       "      <td>26</td>\n",
       "      <td>p</td>\n",
       "      <td>compact</td>\n",
       "      <td>Auto</td>\n",
       "    </tr>\n",
       "  </tbody>\n",
       "</table>\n",
       "</div>"
      ],
      "text/plain": [
       "  manufacturer model  displ  year  cyl       trans drv  cty  hwy fl    class  \\\n",
       "1         audi    a4    1.8  1999    4    auto(l5)   f   18   29  p  compact   \n",
       "2         audi    a4    1.8  1999    4  manual(m5)   f   21   29  p  compact   \n",
       "3         audi    a4    2.0  2008    4  manual(m6)   f   20   31  p  compact   \n",
       "4         audi    a4    2.0  2008    4    auto(av)   f   21   30  p  compact   \n",
       "5         audi    a4    2.8  1999    6    auto(l5)   f   16   26  p  compact   \n",
       "\n",
       "  transmission_type  \n",
       "1              Auto  \n",
       "2            Manual  \n",
       "3            Manual  \n",
       "4              Auto  \n",
       "5              Auto  "
      ]
     },
     "execution_count": 33,
     "metadata": {},
     "output_type": "execute_result"
    }
   ],
   "source": [
    "# Null Hypothesis\n",
    "#  transmission type and car class are not dependent upon each other\n",
    "\n",
    "# Alt Hypothesis\n",
    "#  transmission type and car class are independent upon each other\n",
    "\n",
    "mpg = data('mpg')\n",
    "\n",
    "mpg['transmission_type'] = np.where(mpg.trans.str.contains('auto'), 'Auto', 'Manual')\n",
    "\n",
    "mpg.head()"
   ]
  },
  {
   "cell_type": "code",
   "execution_count": 49,
   "id": "2bf88058",
   "metadata": {},
   "outputs": [],
   "source": [
    "# tried using mpg.class originally, but kept getting a invalid syntax error\n",
    "# talking with classmates, realized this is due to 'class' being a keyword as well"
   ]
  },
  {
   "cell_type": "code",
   "execution_count": 41,
   "id": "2fea0c7d",
   "metadata": {},
   "outputs": [],
   "source": [
    "a = mpg.transmission_type\n",
    "b = mpg.manufacturer\n",
    "\n",
    "observed = pd.crosstab(a, b)"
   ]
  },
  {
   "cell_type": "code",
   "execution_count": 42,
   "id": "87952489",
   "metadata": {},
   "outputs": [
    {
     "name": "stdout",
     "output_type": "stream",
     "text": [
      "Observed\n",
      "\n",
      "[[11 16 30 17  4  7  8  4  3  4  8  5  7 20 13]\n",
      " [ 7  3  7  8  5  7  0  0  0  0  5  0  7 14 14]]\n",
      "---\n",
      "Expected\n",
      "\n",
      "[[12.07692308 12.74786325 24.82478632 16.77350427  6.03846154  9.39316239\n",
      "   5.36752137  2.68376068  2.01282051  2.68376068  8.72222222  3.35470085\n",
      "   9.39316239 22.81196581 18.11538462]\n",
      " [ 5.92307692  6.25213675 12.17521368  8.22649573  2.96153846  4.60683761\n",
      "   2.63247863  1.31623932  0.98717949  1.31623932  4.27777778  1.64529915\n",
      "   4.60683761 11.18803419  8.88461538]]\n",
      "---\n",
      "\n",
      "chi^2 = 29.2937\n",
      "p     = 0.0095\n",
      " We can reject he null hypothesis.\n"
     ]
    }
   ],
   "source": [
    "chi2, p, degf, expected = stats.chi2_contingency(observed)\n",
    "\n",
    "print('Observed\\n')\n",
    "print(observed.values)\n",
    "print('---\\nExpected\\n')\n",
    "print(expected)\n",
    "print('---\\n')\n",
    "print(f'chi^2 = {chi2:.4f}')\n",
    "print(f'p     = {p:.4f}')\n",
    "\n",
    "if p < α:\n",
    "    print(f' We can reject he null hypothesis.')\n",
    "else:\n",
    "    print(f' Due to p being greater than α, the null hypothesis stands.')"
   ]
  },
  {
   "cell_type": "markdown",
   "id": "3bd32a44",
   "metadata": {},
   "source": [
    "# $Chi^2$ Exercise 3\n",
    "\n",
    "\n",
    "\n",
    "#### Use the data from the employees database to answer these questions:\n",
    "\n",
    "###    Is an employee's gender independent of whether an employee works in sales or marketing? (only look at current employees)\n",
    "    \n"
   ]
  },
  {
   "cell_type": "code",
   "execution_count": 104,
   "id": "fac43778",
   "metadata": {},
   "outputs": [
    {
     "data": {
      "text/html": [
       "<div>\n",
       "<style scoped>\n",
       "    .dataframe tbody tr th:only-of-type {\n",
       "        vertical-align: middle;\n",
       "    }\n",
       "\n",
       "    .dataframe tbody tr th {\n",
       "        vertical-align: top;\n",
       "    }\n",
       "\n",
       "    .dataframe thead th {\n",
       "        text-align: right;\n",
       "    }\n",
       "</style>\n",
       "<table border=\"1\" class=\"dataframe\">\n",
       "  <thead>\n",
       "    <tr style=\"text-align: right;\">\n",
       "      <th></th>\n",
       "      <th>gender</th>\n",
       "      <th>dept_name</th>\n",
       "    </tr>\n",
       "  </thead>\n",
       "  <tbody>\n",
       "    <tr>\n",
       "      <th>0</th>\n",
       "      <td>M</td>\n",
       "      <td>Customer Service</td>\n",
       "    </tr>\n",
       "    <tr>\n",
       "      <th>1</th>\n",
       "      <td>F</td>\n",
       "      <td>Customer Service</td>\n",
       "    </tr>\n",
       "    <tr>\n",
       "      <th>2</th>\n",
       "      <td>M</td>\n",
       "      <td>Customer Service</td>\n",
       "    </tr>\n",
       "    <tr>\n",
       "      <th>3</th>\n",
       "      <td>F</td>\n",
       "      <td>Customer Service</td>\n",
       "    </tr>\n",
       "    <tr>\n",
       "      <th>4</th>\n",
       "      <td>F</td>\n",
       "      <td>Customer Service</td>\n",
       "    </tr>\n",
       "  </tbody>\n",
       "</table>\n",
       "</div>"
      ],
      "text/plain": [
       "  gender         dept_name\n",
       "0      M  Customer Service\n",
       "1      F  Customer Service\n",
       "2      M  Customer Service\n",
       "3      F  Customer Service\n",
       "4      F  Customer Service"
      ]
     },
     "execution_count": 104,
     "metadata": {},
     "output_type": "execute_result"
    }
   ],
   "source": [
    "# Null Hypothesis\n",
    "#  An employee's dept(sales and marketing) is dependent upon their gender\n",
    "# Alt Hypothesis\n",
    "#  An employee's dept(sales and marketing) is independent upon their gender\n",
    "\n",
    "query = '''SELECT e.gender, d.dept_name\n",
    "FROM employees e\n",
    "JOIN dept_emp de ON de.emp_no = e.emp_no\n",
    "AND to_date > curdate()\n",
    "JOIN departments d USING(dept_no)\n",
    "'''\n",
    "\n",
    "\n",
    "# had a bit of trouble putting this query together\n",
    "\n",
    "\n",
    "df = pd.read_sql(query, url)\n",
    "\n",
    "df.head()"
   ]
  },
  {
   "cell_type": "code",
   "execution_count": 106,
   "id": "fa0c1a17",
   "metadata": {},
   "outputs": [
    {
     "data": {
      "text/html": [
       "<div>\n",
       "<style scoped>\n",
       "    .dataframe tbody tr th:only-of-type {\n",
       "        vertical-align: middle;\n",
       "    }\n",
       "\n",
       "    .dataframe tbody tr th {\n",
       "        vertical-align: top;\n",
       "    }\n",
       "\n",
       "    .dataframe thead th {\n",
       "        text-align: right;\n",
       "    }\n",
       "</style>\n",
       "<table border=\"1\" class=\"dataframe\">\n",
       "  <thead>\n",
       "    <tr style=\"text-align: right;\">\n",
       "      <th>dept_name</th>\n",
       "      <th>Marketing</th>\n",
       "      <th>Sales</th>\n",
       "    </tr>\n",
       "    <tr>\n",
       "      <th>gender</th>\n",
       "      <th></th>\n",
       "      <th></th>\n",
       "    </tr>\n",
       "  </thead>\n",
       "  <tbody>\n",
       "    <tr>\n",
       "      <th>F</th>\n",
       "      <td>5864</td>\n",
       "      <td>14999</td>\n",
       "    </tr>\n",
       "    <tr>\n",
       "      <th>M</th>\n",
       "      <td>8978</td>\n",
       "      <td>22702</td>\n",
       "    </tr>\n",
       "  </tbody>\n",
       "</table>\n",
       "</div>"
      ],
      "text/plain": [
       "dept_name  Marketing  Sales\n",
       "gender                     \n",
       "F               5864  14999\n",
       "M               8978  22702"
      ]
     },
     "execution_count": 106,
     "metadata": {},
     "output_type": "execute_result"
    }
   ],
   "source": [
    "df = df[(df.dept_name == 'Sales') | (df.dept_name == 'Marketing')]\n",
    "\n",
    "observed = pd.crosstab(df.gender, df.dept_name)\n",
    "observed"
   ]
  },
  {
   "cell_type": "code",
   "execution_count": 99,
   "id": "1c996d3e",
   "metadata": {},
   "outputs": [
    {
     "name": "stdout",
     "output_type": "stream",
     "text": [
      "Observed\n",
      "\n",
      "[[ 5864 14999]\n",
      " [ 8978 22702]]\n",
      "---\n",
      "Expected\n",
      "\n",
      "[[ 5893.2426013 14969.7573987]\n",
      " [ 8948.7573987 22731.2426013]]\n",
      "---\n",
      "\n",
      "chi^2 = 0.3240\n",
      "p     = 0.5692\n",
      " Due to p being greater than α, the null hypothesis stands.\n"
     ]
    }
   ],
   "source": [
    "chi2, p, degf, expected = stats.chi2_contingency(observed)\n",
    "\n",
    "print('Observed\\n')\n",
    "print(observed.values)\n",
    "print('---\\nExpected\\n')\n",
    "print(expected)\n",
    "print('---\\n')\n",
    "print(f'chi^2 = {chi2:.4f}')\n",
    "print(f'p     = {p:.4f}')\n",
    "\n",
    "if p < α:\n",
    "    print(f' We can reject he null hypothesis.')\n",
    "else:\n",
    "    print(f' Due to p being greater than α, the null hypothesis stands.')"
   ]
  },
  {
   "cell_type": "markdown",
   "id": "1f99c6f0",
   "metadata": {},
   "source": [
    "###    Is an employee's gender independent of whether or not they are or have been a manager?"
   ]
  },
  {
   "cell_type": "code",
   "execution_count": 109,
   "id": "8f584f42",
   "metadata": {},
   "outputs": [
    {
     "data": {
      "text/html": [
       "<div>\n",
       "<style scoped>\n",
       "    .dataframe tbody tr th:only-of-type {\n",
       "        vertical-align: middle;\n",
       "    }\n",
       "\n",
       "    .dataframe tbody tr th {\n",
       "        vertical-align: top;\n",
       "    }\n",
       "\n",
       "    .dataframe thead th {\n",
       "        text-align: right;\n",
       "    }\n",
       "</style>\n",
       "<table border=\"1\" class=\"dataframe\">\n",
       "  <thead>\n",
       "    <tr style=\"text-align: right;\">\n",
       "      <th></th>\n",
       "      <th>emp_no</th>\n",
       "      <th>gender</th>\n",
       "      <th>dept_no</th>\n",
       "    </tr>\n",
       "  </thead>\n",
       "  <tbody>\n",
       "    <tr>\n",
       "      <th>0</th>\n",
       "      <td>10001</td>\n",
       "      <td>M</td>\n",
       "      <td>None</td>\n",
       "    </tr>\n",
       "    <tr>\n",
       "      <th>1</th>\n",
       "      <td>10002</td>\n",
       "      <td>F</td>\n",
       "      <td>None</td>\n",
       "    </tr>\n",
       "    <tr>\n",
       "      <th>2</th>\n",
       "      <td>10003</td>\n",
       "      <td>M</td>\n",
       "      <td>None</td>\n",
       "    </tr>\n",
       "    <tr>\n",
       "      <th>3</th>\n",
       "      <td>10004</td>\n",
       "      <td>M</td>\n",
       "      <td>None</td>\n",
       "    </tr>\n",
       "    <tr>\n",
       "      <th>4</th>\n",
       "      <td>10005</td>\n",
       "      <td>M</td>\n",
       "      <td>None</td>\n",
       "    </tr>\n",
       "  </tbody>\n",
       "</table>\n",
       "</div>"
      ],
      "text/plain": [
       "   emp_no gender dept_no\n",
       "0   10001      M    None\n",
       "1   10002      F    None\n",
       "2   10003      M    None\n",
       "3   10004      M    None\n",
       "4   10005      M    None"
      ]
     },
     "execution_count": 109,
     "metadata": {},
     "output_type": "execute_result"
    }
   ],
   "source": [
    "# Null Hypothesis\n",
    "#  An employee's likelyhood to be a manager is dependent upon gender\n",
    "# Alt Hypothesis\n",
    "#  An employee's likelyhood to be a manager is independent upon gender\n",
    "\n",
    "query = '''SELECT emp_no, gender, dept_no\n",
    "FROM employees\n",
    "LEFT JOIN dept_manager USING(emp_no)'''\n",
    "\n",
    "df = pd.read_sql(query, url)\n",
    "\n",
    "df.head()"
   ]
  },
  {
   "cell_type": "code",
   "execution_count": 110,
   "id": "4f411de5",
   "metadata": {},
   "outputs": [
    {
     "data": {
      "text/html": [
       "<div>\n",
       "<style scoped>\n",
       "    .dataframe tbody tr th:only-of-type {\n",
       "        vertical-align: middle;\n",
       "    }\n",
       "\n",
       "    .dataframe tbody tr th {\n",
       "        vertical-align: top;\n",
       "    }\n",
       "\n",
       "    .dataframe thead th {\n",
       "        text-align: right;\n",
       "    }\n",
       "</style>\n",
       "<table border=\"1\" class=\"dataframe\">\n",
       "  <thead>\n",
       "    <tr style=\"text-align: right;\">\n",
       "      <th></th>\n",
       "      <th>emp_no</th>\n",
       "      <th>gender</th>\n",
       "      <th>is_manager</th>\n",
       "    </tr>\n",
       "  </thead>\n",
       "  <tbody>\n",
       "    <tr>\n",
       "      <th>0</th>\n",
       "      <td>10001</td>\n",
       "      <td>M</td>\n",
       "      <td>0</td>\n",
       "    </tr>\n",
       "    <tr>\n",
       "      <th>1</th>\n",
       "      <td>10002</td>\n",
       "      <td>F</td>\n",
       "      <td>0</td>\n",
       "    </tr>\n",
       "    <tr>\n",
       "      <th>2</th>\n",
       "      <td>10003</td>\n",
       "      <td>M</td>\n",
       "      <td>0</td>\n",
       "    </tr>\n",
       "    <tr>\n",
       "      <th>3</th>\n",
       "      <td>10004</td>\n",
       "      <td>M</td>\n",
       "      <td>0</td>\n",
       "    </tr>\n",
       "    <tr>\n",
       "      <th>4</th>\n",
       "      <td>10005</td>\n",
       "      <td>M</td>\n",
       "      <td>0</td>\n",
       "    </tr>\n",
       "  </tbody>\n",
       "</table>\n",
       "</div>"
      ],
      "text/plain": [
       "   emp_no gender is_manager\n",
       "0   10001      M          0\n",
       "1   10002      F          0\n",
       "2   10003      M          0\n",
       "3   10004      M          0\n",
       "4   10005      M          0"
      ]
     },
     "execution_count": 110,
     "metadata": {},
     "output_type": "execute_result"
    }
   ],
   "source": [
    "df = df.rename(columns={'dept_no': 'is_manager'}).fillna(0)\n",
    "df.head()"
   ]
  },
  {
   "cell_type": "code",
   "execution_count": 111,
   "id": "37febd2f",
   "metadata": {},
   "outputs": [
    {
     "name": "stdout",
     "output_type": "stream",
     "text": [
      "Observed\n",
      "\n",
      "[[120038      0      1      2      2      1      3      0      1      3]\n",
      " [179962      2      1      0      2      1      1      2      1      1]]\n",
      "---\n",
      "Expected\n",
      "\n",
      "[[1.20041397e+05 8.00275978e-01 8.00275978e-01 8.00275978e-01\n",
      "  1.60055196e+00 8.00275978e-01 1.60055196e+00 8.00275978e-01\n",
      "  8.00275978e-01 1.60055196e+00]\n",
      " [1.79958603e+05 1.19972402e+00 1.19972402e+00 1.19972402e+00\n",
      "  2.39944804e+00 1.19972402e+00 2.39944804e+00 1.19972402e+00\n",
      "  1.19972402e+00 2.39944804e+00]]\n",
      "---\n",
      "\n",
      "chi^2 = 10.1618\n",
      "p     = 0.3376\n",
      " Due to p being greater than α, the null hypothesis stands.\n"
     ]
    }
   ],
   "source": [
    "observed = pd.crosstab(df['gender'], df['is_manager'])\n",
    "\n",
    "chi2, p, degf, expected = stats.chi2_contingency(observed)\n",
    "\n",
    "print('Observed\\n')\n",
    "print(observed.values)\n",
    "print('---\\nExpected\\n')\n",
    "print(expected)\n",
    "print('---\\n')\n",
    "print(f'chi^2 = {chi2:.4f}')\n",
    "print(f'p     = {p:.4f}')\n",
    "\n",
    "if p < α:\n",
    "    print(f' We can reject he null hypothesis.')\n",
    "else:\n",
    "    print(f' Due to p being greater than α, the null hypothesis stands.')"
   ]
  },
  {
   "cell_type": "code",
   "execution_count": null,
   "id": "de24311e",
   "metadata": {},
   "outputs": [],
   "source": []
  }
 ],
 "metadata": {
  "kernelspec": {
   "display_name": "Python 3 (ipykernel)",
   "language": "python",
   "name": "python3"
  },
  "language_info": {
   "codemirror_mode": {
    "name": "ipython",
    "version": 3
   },
   "file_extension": ".py",
   "mimetype": "text/x-python",
   "name": "python",
   "nbconvert_exporter": "python",
   "pygments_lexer": "ipython3",
   "version": "3.9.7"
  }
 },
 "nbformat": 4,
 "nbformat_minor": 5
}
