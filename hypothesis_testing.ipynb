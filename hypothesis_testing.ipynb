{
 "cells": [
  {
   "cell_type": "markdown",
   "id": "2b7af025",
   "metadata": {},
   "source": [
    "# Hypothesis Testing Exercise\n",
    "\n",
    "For each of the following questions, formulate a null and alternative hypothesis (be as specific as you can be), then give an example of what a true positive, true negative, type I and type II errors would look like. Note that some of the questions are intentionally phrased in a vague way. It is your job to reword these as more precise questions that could be tested.\n",
    "\n",
    "    Has the network latency gone up since we switched internet service providers?\n",
    "    \n",
    "    Is the website redesign any good?\n",
    "    \n",
    "    Is our television ad driving more sales?\n"
   ]
  },
  {
   "cell_type": "markdown",
   "id": "5469f29f",
   "metadata": {},
   "source": [
    "## Has the network latency gone up since we switched internet service providers?"
   ]
  },
  {
   "cell_type": "markdown",
   "id": "ec3933d3",
   "metadata": {},
   "source": [
    "\n",
    "Null Hypothesis: The new internet service provider has slower internet speeds than our previous provider\n",
    "\n",
    "\n",
    "Alternative Hypothesis: The new internet service provider is as fast(or faster) than our previous provider\n",
    "\n",
    "\n",
    "    True Positive: We compared the results of speed test to confirm that out new internet provider does in fact have slower interent speed\n",
    "\n",
    "    True Negative: Comparing the results of speed test, we confirm that our new internet provider is in fact giving us faster internet speeds\n",
    "\n",
    "    Type I Error: The new internet provider does provide faster speeds, however this is not percieved as the router we use has a defect.  This misleads us into believing the old service provider was faster\n",
    "\n",
    "    Type II Error: The new internet service provider is percieved to be faster than our older service, when in fact our old service just needed an updated router to provide faster internet speeds\n"
   ]
  },
  {
   "cell_type": "markdown",
   "id": "27db478a",
   "metadata": {},
   "source": [
    "## Is the website redesign any good?"
   ]
  },
  {
   "cell_type": "markdown",
   "id": "41fd7dcf",
   "metadata": {},
   "source": [
    "\n",
    "Null Hypothesis: The new web design will attract more traffic to the website than the previous design, confirming its quality.\n",
    "\n",
    "\n",
    "Alternative Hypothesis: The new wed design does not attract as much traffic to the site, therefore the redesign was not successful.\n",
    "\n",
    "\n",
    "    True Positive: Once the new design was up and running, we documented an instant increase in website traffic\n",
    "\n",
    "    True Negative: Once the new design was up and running, we documented no noticable jump in website traffic and perhaps even a decrease in traffic\n",
    "\n",
    "    Type I Error: An influx of bots designed to click thru newly designed sites leads us to percieve a successful launch of our new web design\n",
    "\n",
    "    Type II Error: When we launched the new web design, an unrelated blackout prevented a larger part of our base to be unable to access it.  We percieve this as an unsuccessful redesign launch \n"
   ]
  },
  {
   "cell_type": "markdown",
   "id": "69333db4",
   "metadata": {},
   "source": [
    "## Is our television ad driving more sales?"
   ]
  },
  {
   "cell_type": "markdown",
   "id": "474214d0",
   "metadata": {},
   "source": [
    "\n",
    "Null Hypothesis: There was an increase in sales after the airing of our television ad\n",
    "\n",
    "\n",
    "Alternative Hypothesis: There was no noticable impact on sales after the airing of our television ad.\n",
    "\n",
    "\n",
    "    True Positive: Our sales see a 20% increase after the airing of the ad\n",
    "\n",
    "    True Negative: Our sales continue to stagnate after airing the ad.\n",
    "\n",
    "    Type I Error: We had a particularly good week of sales following the ad, but purely due to chance.\n",
    "\n",
    "    Type II Error: Our sales do not increase after airing the ad, but this is due to mistyped address and people just cant find your location\n"
   ]
  },
  {
   "cell_type": "markdown",
   "id": "1b62e7c5",
   "metadata": {},
   "source": [
    "# T-testing Exercise 1\n",
    "\n",
    "\n",
    "\n",
    "  Ace Realty wants to determine whether the average time it takes to sell homes is different for its two offices. A sample of 40 sales from office #1 revealed a mean of 90 days and a standard deviation of 15 days. A sample of 50 sales from office #2 revealed a mean of 100 days and a standard deviation of 20 days. Use a .05 level of significance.\n",
    "\n"
   ]
  },
  {
   "cell_type": "code",
   "execution_count": 2,
   "id": "854b7a67",
   "metadata": {},
   "outputs": [],
   "source": [
    "import numpy as np\n",
    "import pandas as pd\n",
    "import env\n",
    "from scipy import stats\n",
    "import matplotlib.pyplot as plt"
   ]
  },
  {
   "cell_type": "code",
   "execution_count": 20,
   "id": "bb2807e8",
   "metadata": {},
   "outputs": [
    {
     "data": {
      "text/plain": [
       "<matplotlib.legend.Legend at 0x7fbf8000c2b0>"
      ]
     },
     "execution_count": 20,
     "metadata": {},
     "output_type": "execute_result"
    },
    {
     "data": {
      "image/png": "[encoded data removed]",
      "text/plain": [
       "<Figure size 432x288 with 1 Axes>"
      ]
     },
     "metadata": {
      "needs_background": "light"
     },
     "output_type": "display_data"
    }
   ],
   "source": [
    "\n",
    "sample = 40 #sales\n",
    "mean_one = 90 #days\n",
    "std_dev_one = 15 #days\n",
    "\n",
    "\n",
    "sample = 50 #sales\n",
    "mean_two = 100\n",
    "std_dev_two = 20 #days\n",
    "α = .05\n",
    "\n",
    "# Null Hypothesis\n",
    "#  office_one avg time to sell = office_two avg time to sell\n",
    "\n",
    "# Alt Hypothesis\n",
    "#  office_one avg time to sell != office_two avg time to sell\n",
    "\n",
    "x = np.arange(25, 175)\n",
    "\n",
    "off_one = stats.norm(90, 15).pdf(x)\n",
    "off_two = stats.norm(100, 20).pdf(x)\n",
    "\n",
    "plt.plot(x, off_one, label='office one', color='b')\n",
    "plt.plot(x, off_two, label='office two', color='g')\n",
    "\n",
    "plt.legend()"
   ]
  },
  {
   "cell_type": "code",
   "execution_count": 23,
   "id": "0934d61f",
   "metadata": {},
   "outputs": [
    {
     "data": {
      "text/plain": [
       "False"
      ]
     },
     "execution_count": 23,
     "metadata": {},
     "output_type": "execute_result"
    }
   ],
   "source": [
    "off_one.var() == off_two.var()"
   ]
  },
  {
   "cell_type": "code",
   "execution_count": 36,
   "id": "de55ca7d",
   "metadata": {},
   "outputs": [
    {
     "data": {
      "text/plain": [
       "(-2.7091418459143854, 0.00811206270346016, 0.05)"
      ]
     },
     "execution_count": 36,
     "metadata": {},
     "output_type": "execute_result"
    }
   ],
   "source": [
    "# nope ----t, p = stats.ttest_ind(off_one, off_two)\n",
    "\n",
    "t, p = stats.ttest_ind_from_stats(90,15,40,100,20,50, equal_var= False)\n",
    "\n",
    "t, p, α"
   ]
  },
  {
   "cell_type": "code",
   "execution_count": 39,
   "id": "cb6d643b",
   "metadata": {},
   "outputs": [
    {
     "name": "stdout",
     "output_type": "stream",
     "text": [
      "We can reject the null hypothesis, and conclude that the two offices sell homes at different rates.\n"
     ]
    }
   ],
   "source": [
    "if (p < α) == True:\n",
    "    print('We can reject the null hypothesis, and conclude that the two offices sell homes at different rates.')"
   ]
  },
  {
   "cell_type": "markdown",
   "id": "35777934",
   "metadata": {},
   "source": [
    "# T-testing Exercise 2\n",
    "\n",
    "\n",
    " ### Load the mpg dataset and use it to answer the following questions:\n",
    "    \n",
    "        Is there a difference in fuel-efficiency in cars from 2008 vs 1999?\n",
    "        \n",
    "        Are compact cars more fuel-efficient than the average car?\n",
    "        \n",
    "        Do manual cars get better gas mileage than automatic cars?\n"
   ]
  },
  {
   "cell_type": "code",
   "execution_count": 44,
   "id": "caa35be6",
   "metadata": {},
   "outputs": [
    {
     "name": "stdout",
     "output_type": "stream",
     "text": [
      "<class 'pandas.core.frame.DataFrame'>\n",
      "Int64Index: 234 entries, 1 to 234\n",
      "Data columns (total 11 columns):\n",
      " #   Column        Non-Null Count  Dtype  \n",
      "---  ------        --------------  -----  \n",
      " 0   manufacturer  234 non-null    object \n",
      " 1   model         234 non-null    object \n",
      " 2   displ         234 non-null    float64\n",
      " 3   year          234 non-null    int64  \n",
      " 4   cyl           234 non-null    int64  \n",
      " 5   trans         234 non-null    object \n",
      " 6   drv           234 non-null    object \n",
      " 7   cty           234 non-null    int64  \n",
      " 8   hwy           234 non-null    int64  \n",
      " 9   fl            234 non-null    object \n",
      " 10  class         234 non-null    object \n",
      "dtypes: float64(1), int64(4), object(6)\n",
      "memory usage: 21.9+ KB\n"
     ]
    }
   ],
   "source": [
    "from pydataset import data\n",
    "\n",
    "mpg = data('mpg')\n",
    "\n",
    "mpg.info()"
   ]
  },
  {
   "cell_type": "markdown",
   "id": "2b05d48b",
   "metadata": {},
   "source": [
    "### Part 1\n",
    "### Is there a difference in fuel-efficiency in cars from 2008 vs 1999?"
   ]
  },
  {
   "cell_type": "code",
   "execution_count": 46,
   "id": "379450a2",
   "metadata": {},
   "outputs": [],
   "source": [
    "# Null Hypothesis\n",
    "#  2008 fuel-efficiency = 1999 fuel_efficiency \n",
    "\n",
    "# Alt Hypothesis\n",
    "#   2008 fuel-efficiency != 1999 fuel_efficiency \n",
    "\n",
    "mpg['fuel_efficiency'] = (mpg.cty + mpg.cty) / 2\n",
    "\n",
    "fe_1999 = mpg[mpg.year == 1999].fuel_efficiency\n",
    "fe_2008 = mpg[mpg.year == 2008].fuel_efficiency"
   ]
  },
  {
   "cell_type": "code",
   "execution_count": 49,
   "id": "335db849",
   "metadata": {},
   "outputs": [
    {
     "data": {
      "text/plain": [
       "<AxesSubplot:>"
      ]
     },
     "execution_count": 49,
     "metadata": {},
     "output_type": "execute_result"
    },
    {
     "data": {
      "image/png": "[encoded data removed]",
      "text/plain": [
       "<Figure size 432x288 with 1 Axes>"
      ]
     },
     "metadata": {
      "needs_background": "light"
     },
     "output_type": "display_data"
    }
   ],
   "source": [
    "#  graph to help visualize distribution \n",
    "\n",
    "fe_1999.hist()"
   ]
  },
  {
   "cell_type": "code",
   "execution_count": 50,
   "id": "3f28d871",
   "metadata": {},
   "outputs": [
    {
     "data": {
      "text/plain": [
       "<AxesSubplot:>"
      ]
     },
     "execution_count": 50,
     "metadata": {},
     "output_type": "execute_result"
    },
    {
     "data": {
      "image/png": "[encoded data removed]",
      "text/plain": [
       "<Figure size 432x288 with 1 Axes>"
      ]
     },
     "metadata": {
      "needs_background": "light"
     },
     "output_type": "display_data"
    }
   ],
   "source": [
    "# graph to help visualize distribution \n",
    "\n",
    "fe_2008.hist()"
   ]
  },
  {
   "cell_type": "code",
   "execution_count": 52,
   "id": "61ea2dd6",
   "metadata": {},
   "outputs": [
    {
     "data": {
      "text/plain": [
       "False"
      ]
     },
     "execution_count": 52,
     "metadata": {},
     "output_type": "execute_result"
    }
   ],
   "source": [
    "fe_1999.var() == fe_2008.var()"
   ]
  },
  {
   "cell_type": "code",
   "execution_count": 54,
   "id": "e831533b",
   "metadata": {},
   "outputs": [
    {
     "data": {
      "text/plain": [
       "(-0.5674988409997608, 0.5709289258613233)"
      ]
     },
     "execution_count": 54,
     "metadata": {},
     "output_type": "execute_result"
    }
   ],
   "source": [
    "t, p = stats.ttest_ind(fe_2008, fe_1999, equal_var=False)\n",
    "t, p"
   ]
  },
  {
   "cell_type": "code",
   "execution_count": 56,
   "id": "2b4f5328",
   "metadata": {
    "scrolled": true
   },
   "outputs": [
    {
     "name": "stdout",
     "output_type": "stream",
     "text": [
      " Due to p being greater than α, the null hypothesis stands.\n"
     ]
    }
   ],
   "source": [
    "if p < α:\n",
    "    print(f' We can reject he null hypothesis.')\n",
    "else:\n",
    "    print(f' Due to p being greater than α, the null hypothesis stands.')"
   ]
  },
  {
   "cell_type": "markdown",
   "id": "b4854552",
   "metadata": {},
   "source": [
    "### Part 2\n",
    "### Are compact cars more fuel-efficient than the average car?"
   ]
  },
  {
   "cell_type": "code",
   "execution_count": 59,
   "id": "e5ac9056",
   "metadata": {},
   "outputs": [
    {
     "data": {
      "text/plain": [
       "<AxesSubplot:>"
      ]
     },
     "execution_count": 59,
     "metadata": {},
     "output_type": "execute_result"
    },
    {
     "data": {
      "image/png": "[encoded data removed]",
      "text/plain": [
       "<Figure size 432x288 with 1 Axes>"
      ]
     },
     "metadata": {
      "needs_background": "light"
     },
     "output_type": "display_data"
    }
   ],
   "source": [
    "# Null Hypothesis\n",
    "#  compact cars fuel-efficiency <= average car fuel-efficiency\n",
    "\n",
    "# Alt Hypothesis\n",
    "#  compact cars fuel-efficiency > average car fuel-efficiency\n",
    "\n",
    "μ = mpg.fuel_efficiency.mean()\n",
    "\n",
    "compact = mpg[mpg['class'] == 'compact'].fuel_efficiency\n",
    "\n",
    "compact.hist()"
   ]
  },
  {
   "cell_type": "code",
   "execution_count": 60,
   "id": "8cd0c37c",
   "metadata": {},
   "outputs": [
    {
     "data": {
      "text/plain": [
       "(6.6191042534408915, 1.7008724108197003e-08, 0.05)"
      ]
     },
     "execution_count": 60,
     "metadata": {},
     "output_type": "execute_result"
    }
   ],
   "source": [
    "t, p = stats.ttest_1samp(compact, μ)\n",
    "\n",
    "t, p/2, α"
   ]
  },
  {
   "cell_type": "code",
   "execution_count": 61,
   "id": "01de6274",
   "metadata": {},
   "outputs": [
    {
     "name": "stdout",
     "output_type": "stream",
     "text": [
      " We can reject he null hypothesis.\n"
     ]
    }
   ],
   "source": [
    "if p/2 < α:\n",
    "    print(f' We can reject he null hypothesis.')\n",
    "else:\n",
    "    print(f' Due to p being greater than α, the null hypothesis stands.')"
   ]
  },
  {
   "cell_type": "markdown",
   "id": "ec42f77f",
   "metadata": {},
   "source": [
    "### Part 3\n",
    "\n",
    "### Do manual cars get better gas mileage than automatic cars?"
   ]
  },
  {
   "cell_type": "code",
   "execution_count": 67,
   "id": "fed8d354",
   "metadata": {},
   "outputs": [],
   "source": [
    "# Null Hypothesis\n",
    "#  manual cars fuel_efficiency <= automatic cars fuel_efficiency\n",
    "\n",
    "# Alt Hypothesis\n",
    "#  manual cars fuel_efficiency <= automatic cars fuel_efficiency\n",
    "\n",
    "fe_manual = mpg[mpg.trans.str.contains('manual')].fuel_efficiency\n",
    "fe_auto = mpg[mpg.trans.str.contains('auto')].fuel_efficiency"
   ]
  },
  {
   "cell_type": "code",
   "execution_count": 65,
   "id": "36043bfa",
   "metadata": {},
   "outputs": [
    {
     "data": {
      "text/plain": [
       "<AxesSubplot:>"
      ]
     },
     "execution_count": 65,
     "metadata": {},
     "output_type": "execute_result"
    },
    {
     "data": {
      "image/png": "[encoded data removed]",
      "text/plain": [
       "<Figure size 432x288 with 1 Axes>"
      ]
     },
     "metadata": {
      "needs_background": "light"
     },
     "output_type": "display_data"
    }
   ],
   "source": [
    "fe_manual.hist()"
   ]
  },
  {
   "cell_type": "code",
   "execution_count": 66,
   "id": "68903006",
   "metadata": {},
   "outputs": [
    {
     "data": {
      "text/plain": [
       "<AxesSubplot:>"
      ]
     },
     "execution_count": 66,
     "metadata": {},
     "output_type": "execute_result"
    },
    {
     "data": {
      "image/png": "[encoded data removed]",
      "text/plain": [
       "<Figure size 432x288 with 1 Axes>"
      ]
     },
     "metadata": {
      "needs_background": "light"
     },
     "output_type": "display_data"
    }
   ],
   "source": [
    "fe_auto.hist()"
   ]
  },
  {
   "cell_type": "code",
   "execution_count": 68,
   "id": "d2f15141",
   "metadata": {},
   "outputs": [
    {
     "data": {
      "text/plain": [
       "False"
      ]
     },
     "execution_count": 68,
     "metadata": {},
     "output_type": "execute_result"
    }
   ],
   "source": [
    "fe_auto.var() == fe_manual.var()"
   ]
  },
  {
   "cell_type": "code",
   "execution_count": 75,
   "id": "65a09ae2",
   "metadata": {},
   "outputs": [
    {
     "data": {
      "text/plain": [
       "(-4.537543658735826, 1.2633643745317661e-05, 0.05)"
      ]
     },
     "execution_count": 75,
     "metadata": {},
     "output_type": "execute_result"
    }
   ],
   "source": [
    "t, p = stats.ttest_ind(fe_auto, fe_manual, equal_var=False)\n",
    "\n",
    "t, p, α"
   ]
  },
  {
   "cell_type": "code",
   "execution_count": 74,
   "id": "38061202",
   "metadata": {},
   "outputs": [
    {
     "name": "stdout",
     "output_type": "stream",
     "text": [
      " We can reject he null hypothesis.\n"
     ]
    }
   ],
   "source": [
    "if p < α:\n",
    "    print(f' We can reject he null hypothesis.')\n",
    "else:\n",
    "    print(f' Due to p being greater than α, the null hypothesis stands.')"
   ]
  },
  {
   "cell_type": "markdown",
   "id": "688d6916",
   "metadata": {},
   "source": [
    "# Correlation Exercise 1.a\n",
    "\n",
    "\n",
    "Use the telco_churn data. Does tenure correlate with monthly charges?\n",
    "\n",
    " Total charges? \n",
    "\n",
    " What happens if you control for phone and internet service?"
   ]
  },
  {
   "cell_type": "code",
   "execution_count": 111,
   "id": "a80a6812",
   "metadata": {},
   "outputs": [
    {
     "name": "stdout",
     "output_type": "stream",
     "text": [
      "<class 'pandas.core.frame.DataFrame'>\n",
      "Int64Index: 7038 entries, 11 to 7048\n",
      "Data columns (total 28 columns):\n",
      " #   Column                  Non-Null Count  Dtype  \n",
      "---  ------                  --------------  -----  \n",
      " 0   customer_id             7038 non-null   object \n",
      " 1   gender                  7038 non-null   object \n",
      " 2   is_senior_citizen       7038 non-null   int64  \n",
      " 3   partner                 7038 non-null   object \n",
      " 4   dependents              7038 non-null   object \n",
      " 5   phone_service           7038 non-null   int64  \n",
      " 6   phone_service_name      7038 non-null   object \n",
      " 7   internet_service        7038 non-null   int64  \n",
      " 8   internet_service_name   7038 non-null   object \n",
      " 9   contract_type           7038 non-null   int64  \n",
      " 10  contract_name           7038 non-null   object \n",
      " 11  payment_type            7038 non-null   object \n",
      " 12  monthly_charges         7038 non-null   float64\n",
      " 13  total_charges           7038 non-null   float64\n",
      " 14  tenure                  7038 non-null   float64\n",
      " 15  total_charges2          7038 non-null   object \n",
      " 16  total_charges_match     7038 non-null   object \n",
      " 17  churn                   7038 non-null   object \n",
      " 18  is_female               7038 non-null   bool   \n",
      " 19  has_churned             7038 non-null   bool   \n",
      " 20  has_phone               7038 non-null   bool   \n",
      " 21  has_internet            7038 non-null   bool   \n",
      " 22  has_phone_and_internet  7038 non-null   bool   \n",
      " 23  partner_dependents      7038 non-null   int64  \n",
      " 24  partner_dependents.1    7038 non-null   int64  \n",
      " 25  service_type            7038 non-null   object \n",
      " 26  tenure_months           7038 non-null   int64  \n",
      " 27  tenure_years            7038 non-null   object \n",
      "dtypes: bool(5), float64(3), int64(7), object(13)\n",
      "memory usage: 1.3+ MB\n"
     ]
    }
   ],
   "source": [
    "telco = pd.read_csv('telcom_dataset.csv')\n",
    "telco = telco.dropna()\n",
    "\n",
    "telco.info()"
   ]
  },
  {
   "cell_type": "markdown",
   "id": "b222b88c",
   "metadata": {},
   "source": [
    "### Use the telco_churn data. Does tenure correlate with monthly charges?"
   ]
  },
  {
   "cell_type": "code",
   "execution_count": 85,
   "id": "dda6c68f",
   "metadata": {},
   "outputs": [
    {
     "name": "stdout",
     "output_type": "stream",
     "text": [
      "The p-value of 1.0229574716021578e-98 lets us conlude we can ignore the null hypothesis, the alt hypothesis is supoorted with a correlation of 0.2473.\n"
     ]
    }
   ],
   "source": [
    "# Null Hypothesis\n",
    "#  tenure and monthly charges are not linearly correlated\n",
    "\n",
    "# Alt Hypothesis\n",
    "#  tenure and monthly charges are linearly correlated\n",
    "\n",
    "x = telco.tenure_months\n",
    "y = telco.monthly_charges\n",
    "\n",
    "r, p = stats.pearsonr(x, y)\n",
    "\n",
    "print(f'The p-value of {(p)} lets us conlude we can ignore the null hypothesis, the alt hypothesis is supoorted with a correlation of {round(r, 4)}.')"
   ]
  },
  {
   "cell_type": "markdown",
   "id": "29c4c3e4",
   "metadata": {},
   "source": [
    "# Correlation Exercise 1.b\n",
    "\n",
    "\n",
    "### Use the telco_churn data. Does tenure correlate with total charges? "
   ]
  },
  {
   "cell_type": "code",
   "execution_count": null,
   "id": "0a05a60a",
   "metadata": {},
   "outputs": [],
   "source": []
  },
  {
   "cell_type": "code",
   "execution_count": 113,
   "id": "628cc9eb",
   "metadata": {},
   "outputs": [
    {
     "name": "stdout",
     "output_type": "stream",
     "text": [
      "The p-value of 0.0 lets us conlude we can ignore the null hypothesis, the alt hypothesis is supoorted with a correlation of 0.8259.\n"
     ]
    }
   ],
   "source": [
    "# Null Hypothesis\n",
    "#  tenure and total charges are not linearly correlated\n",
    "\n",
    "# Alt Hypothesis\n",
    "#  tenure and total charges are linearly correlated\n",
    "\n",
    "x = telco.tenure_months\n",
    "y = telco.total_charges\n",
    "\n",
    "r, p = stats.pearsonr(x, y)\n",
    "\n",
    "print(f'The p-value of {(p)} lets us conlude we can ignore the null hypothesis, the alt hypothesis is supoorted with a correlation of {round(r, 4)}.')"
   ]
  },
  {
   "cell_type": "markdown",
   "id": "3be2b677",
   "metadata": {},
   "source": [
    "# Correlation Exercise 1.c\n",
    "\n",
    "\n",
    "### What happens if you control for phone and internet service?"
   ]
  },
  {
   "cell_type": "code",
   "execution_count": null,
   "id": "ac0c1882",
   "metadata": {},
   "outputs": [],
   "source": []
  },
  {
   "cell_type": "markdown",
   "id": "20e2ed1e",
   "metadata": {},
   "source": [
    "# Correlation Exercise 2.a\n",
    "\n",
    "Use the employees database.\n",
    "\n",
    "   ### Is there a relationship between how long an employee has been with the company and their salary?\n"
   ]
  },
  {
   "cell_type": "code",
   "execution_count": null,
   "id": "435eb716",
   "metadata": {},
   "outputs": [],
   "source": []
  },
  {
   "cell_type": "code",
   "execution_count": null,
   "id": "8c256943",
   "metadata": {},
   "outputs": [],
   "source": []
  },
  {
   "cell_type": "code",
   "execution_count": null,
   "id": "1498ea1c",
   "metadata": {},
   "outputs": [],
   "source": []
  },
  {
   "cell_type": "code",
   "execution_count": null,
   "id": "d07abaec",
   "metadata": {},
   "outputs": [],
   "source": []
  },
  {
   "cell_type": "code",
   "execution_count": null,
   "id": "b7c3ac66",
   "metadata": {},
   "outputs": [],
   "source": []
  }
 ],
 "metadata": {
  "kernelspec": {
   "display_name": "Python 3 (ipykernel)",
   "language": "python",
   "name": "python3"
  },
  "language_info": {
   "codemirror_mode": {
    "name": "ipython",
    "version": 3
   },
   "file_extension": ".py",
   "mimetype": "text/x-python",
   "name": "python",
   "nbconvert_exporter": "python",
   "pygments_lexer": "ipython3",
   "version": "3.9.7"
  }
 },
 "nbformat": 4,
 "nbformat_minor": 5
}
