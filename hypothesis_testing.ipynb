{
 "cells": [
  {
   "cell_type": "markdown",
   "id": "2b7af025",
   "metadata": {},
   "source": [
    "# Hypothesis Testing Exercise\n",
    "\n",
    "For each of the following questions, formulate a null and alternative hypothesis (be as specific as you can be), then give an example of what a true positive, true negative, type I and type II errors would look like. Note that some of the questions are intentionally phrased in a vague way. It is your job to reword these as more precise questions that could be tested.\n",
    "\n",
    "    Has the network latency gone up since we switched internet service providers?\n",
    "    \n",
    "    Is the website redesign any good?\n",
    "    \n",
    "    Is our television ad driving more sales?\n"
   ]
  },
  {
   "cell_type": "markdown",
   "id": "5469f29f",
   "metadata": {},
   "source": [
    "## Has the network latency gone up since we switched internet service providers?"
   ]
  },
  {
   "cell_type": "markdown",
   "id": "ec3933d3",
   "metadata": {},
   "source": [
    "\n",
    "Null Hypothesis: The new internet service provider has slower internet speeds than our previous provider\n",
    "\n",
    "\n",
    "Alternative Hypothesis: The new internet service provider is as fast(or faster) than our previous provider\n",
    "\n",
    "\n",
    "    True Positive: We compared the results of speed test to confirm that out new internet provider does in fact have slower interent speed\n",
    "\n",
    "    True Negative: Comparing the results of speed test, we confirm that our new internet provider is in fact giving us faster internet speeds\n",
    "\n",
    "    Type I Error: The new internet provider does provide faster speeds, however this is not percieved as the router we use has a defect.  This misleads us into believing the old service provider was faster\n",
    "\n",
    "    Type II Error: The new internet service provider is percieved to be faster than our older service, when in fact our old service just needed an updated router to provide faster internet speeds\n"
   ]
  },
  {
   "cell_type": "markdown",
   "id": "27db478a",
   "metadata": {},
   "source": [
    "## Is the website redesign any good?"
   ]
  },
  {
   "cell_type": "markdown",
   "id": "41fd7dcf",
   "metadata": {},
   "source": [
    "\n",
    "Null Hypothesis: The new web design will attract more traffic to the website than the previous design, confirming its quality.\n",
    "\n",
    "\n",
    "Alternative Hypothesis: The new wed design does not attract as much traffic to the site, therefore the redesign was not successful.\n",
    "\n",
    "\n",
    "    True Positive: Once the new design was up and running, we documented an instant increase in website traffic\n",
    "\n",
    "    True Negative: Once the new design was up and running, we documented no noticable jump in website traffic and perhaps even a decrease in traffic\n",
    "\n",
    "    Type I Error: An influx of bots designed to click thru newly designed sites leads us to percieve a successful launch of our new web design\n",
    "\n",
    "    Type II Error: When we launched the new web design, an unrelated blackout prevented a larger part of our base to be unable to access it.  We percieve this as an unsuccessful redesign launch \n"
   ]
  },
  {
   "cell_type": "markdown",
   "id": "69333db4",
   "metadata": {},
   "source": [
    "## Is our television ad driving more sales?"
   ]
  },
  {
   "cell_type": "markdown",
   "id": "474214d0",
   "metadata": {},
   "source": [
    "\n",
    "Null Hypothesis: There was an increase in sales after the airing of our television ad\n",
    "\n",
    "\n",
    "Alternative Hypothesis: There was no noticable impact on sales after the airing of our television ad.\n",
    "\n",
    "\n",
    "    True Positive: Our sales see a 20% increase after the airing of the ad\n",
    "\n",
    "    True Negative: Our sales continue to stagnate after airing the ad.\n",
    "\n",
    "    Type I Error: We had a particularly good week of sales following the ad, but purely due to chance.\n",
    "\n",
    "    Type II Error: Our sales do not increase after airing the ad, but this is due to mistyped address and people just cant find your location\n"
   ]
  },
  {
   "cell_type": "markdown",
   "id": "1b62e7c5",
   "metadata": {},
   "source": [
    "# T-testing Exercise 1\n",
    "\n",
    "\n",
    "\n",
    "  Ace Realty wants to determine whether the average time it takes to sell homes is different for its two offices. A sample of 40 sales from office #1 revealed a mean of 90 days and a standard deviation of 15 days. A sample of 50 sales from office #2 revealed a mean of 100 days and a standard deviation of 20 days. Use a .05 level of significance.\n",
    "\n"
   ]
  },
  {
   "cell_type": "code",
   "execution_count": 2,
   "id": "854b7a67",
   "metadata": {},
   "outputs": [],
   "source": [
    "import numpy as np\n",
    "import pandas as pd\n",
    "import env\n",
    "from scipy import stats\n",
    "import matplotlib.pyplot as plt"
   ]
  },
  {
   "cell_type": "code",
   "execution_count": 20,
   "id": "bb2807e8",
   "metadata": {},
   "outputs": [
    {
     "data": {
      "text/plain": [
       "<matplotlib.legend.Legend at 0x7fbf8000c2b0>"
      ]
     },
     "execution_count": 20,
     "metadata": {},
     "output_type": "execute_result"
    },
    {
     "data": {
      "image/png": "[encoded data removed]",
      "text/plain": [
       "<Figure size 432x288 with 1 Axes>"
      ]
     },
     "metadata": {
      "needs_background": "light"
     },
     "output_type": "display_data"
    }
   ],
   "source": [
    "\n",
    "sample = 40 #sales\n",
    "mean_one = 90 #days\n",
    "std_dev_one = 15 #days\n",
    "\n",
    "\n",
    "sample = 50 #sales\n",
    "mean_two = 100\n",
    "std_dev_two = 20 #days\n",
    "α = .05\n",
    "\n",
    "# Null Hypothesis\n",
    "#  office_one avg time to sell = office_two avg time to sell\n",
    "\n",
    "# Alt Hypothesis\n",
    "#  office_one avg time to sell != office_two avg time to sell\n",
    "\n",
    "x = np.arange(25, 175)\n",
    "\n",
    "off_one = stats.norm(90, 15).pdf(x)\n",
    "off_two = stats.norm(100, 20).pdf(x)\n",
    "\n",
    "plt.plot(x, off_one, label='office one', color='b')\n",
    "plt.plot(x, off_two, label='office two', color='g')\n",
    "\n",
    "plt.legend()"
   ]
  },
  {
   "cell_type": "code",
   "execution_count": 23,
   "id": "bf4d2d24",
   "metadata": {},
   "outputs": [
    {
     "data": {
      "text/plain": [
       "False"
      ]
     },
     "execution_count": 23,
     "metadata": {},
     "output_type": "execute_result"
    }
   ],
   "source": [
    "off_one.var() == off_two.var()"
   ]
  },
  {
   "cell_type": "code",
   "execution_count": 36,
   "id": "9187d11c",
   "metadata": {},
   "outputs": [
    {
     "data": {
      "text/plain": [
       "(-2.7091418459143854, 0.00811206270346016, 0.05)"
      ]
     },
     "execution_count": 36,
     "metadata": {},
     "output_type": "execute_result"
    }
   ],
   "source": [
    "# nope ----t, p = stats.ttest_ind(off_one, off_two)\n",
    "\n",
    "t, p = stats.ttest_ind_from_stats(90,15,40,100,20,50, equal_var= False)\n",
    "\n",
    "t, p, α"
   ]
  },
  {
   "cell_type": "code",
   "execution_count": 39,
   "id": "07855808",
   "metadata": {},
   "outputs": [
    {
     "name": "stdout",
     "output_type": "stream",
     "text": [
      "We can reject the null hypothesis, and conclude that the two offices sell homes at different rates.\n"
     ]
    }
   ],
   "source": [
    "if (p < α) == True:\n",
    "    print('We can reject the null hypothesis, and conclude that the two offices sell homes at different rates.')"
   ]
  },
  {
   "cell_type": "markdown",
   "id": "35777934",
   "metadata": {},
   "source": [
    "# T-testing Exercise 2\n",
    "\n",
    "\n",
    " ### Load the mpg dataset and use it to answer the following questions:\n",
    "    \n",
    "        Is there a difference in fuel-efficiency in cars from 2008 vs 1999?\n",
    "        \n",
    "        Are compact cars more fuel-efficient than the average car?\n",
    "        \n",
    "        Do manual cars get better gas mileage than automatic cars?\n"
   ]
  },
  {
   "cell_type": "code",
   "execution_count": 44,
   "id": "0d7639d1",
   "metadata": {},
   "outputs": [
    {
     "name": "stdout",
     "output_type": "stream",
     "text": [
      "<class 'pandas.core.frame.DataFrame'>\n",
      "Int64Index: 234 entries, 1 to 234\n",
      "Data columns (total 11 columns):\n",
      " #   Column        Non-Null Count  Dtype  \n",
      "---  ------        --------------  -----  \n",
      " 0   manufacturer  234 non-null    object \n",
      " 1   model         234 non-null    object \n",
      " 2   displ         234 non-null    float64\n",
      " 3   year          234 non-null    int64  \n",
      " 4   cyl           234 non-null    int64  \n",
      " 5   trans         234 non-null    object \n",
      " 6   drv           234 non-null    object \n",
      " 7   cty           234 non-null    int64  \n",
      " 8   hwy           234 non-null    int64  \n",
      " 9   fl            234 non-null    object \n",
      " 10  class         234 non-null    object \n",
      "dtypes: float64(1), int64(4), object(6)\n",
      "memory usage: 21.9+ KB\n"
     ]
    }
   ],
   "source": [
    "from pydataset import data\n",
    "\n",
    "mpg = data('mpg')\n",
    "\n",
    "mpg.info()"
   ]
  },
  {
   "cell_type": "markdown",
   "id": "d50e6d6a",
   "metadata": {},
   "source": [
    "### Part 1\n",
    "### Is there a difference in fuel-efficiency in cars from 2008 vs 1999?"
   ]
  },
  {
   "cell_type": "code",
   "execution_count": 46,
   "id": "ba8a87a9",
   "metadata": {},
   "outputs": [],
   "source": [
    "# Null Hypothesis\n",
    "#  2008 fuel-efficiency = 1999 fuel_efficiency \n",
    "\n",
    "# Alt Hypothesis\n",
    "#   2008 fuel-efficiency != 1999 fuel_efficiency \n",
    "\n",
    "mpg['fuel_efficiency'] = (mpg.cty + mpg.cty) / 2\n",
    "\n",
    "fe_1999 = mpg[mpg.year == 1999].fuel_efficiency\n",
    "fe_2008 = mpg[mpg.year == 2008].fuel_efficiency"
   ]
  },
  {
   "cell_type": "code",
   "execution_count": 49,
   "id": "605af179",
   "metadata": {},
   "outputs": [
    {
     "data": {
      "text/plain": [
       "<AxesSubplot:>"
      ]
     },
     "execution_count": 49,
     "metadata": {},
     "output_type": "execute_result"
    },
    {
     "data": {
      "image/png": "[encoded data removed]",
      "text/plain": [
       "<Figure size 432x288 with 1 Axes>"
      ]
     },
     "metadata": {
      "needs_background": "light"
     },
     "output_type": "display_data"
    }
   ],
   "source": [
    "#  graph to help visualize distribution \n",
    "\n",
    "fe_1999.hist()"
   ]
  },
  {
   "cell_type": "code",
   "execution_count": 50,
   "id": "ae7c3bcc",
   "metadata": {},
   "outputs": [
    {
     "data": {
      "text/plain": [
       "<AxesSubplot:>"
      ]
     },
     "execution_count": 50,
     "metadata": {},
     "output_type": "execute_result"
    },
    {
     "data": {
      "image/png": "[encoded data removed]",
      "text/plain": [
       "<Figure size 432x288 with 1 Axes>"
      ]
     },
     "metadata": {
      "needs_background": "light"
     },
     "output_type": "display_data"
    }
   ],
   "source": [
    "# graph to help visualize distribution \n",
    "\n",
    "fe_2008.hist()"
   ]
  },
  {
   "cell_type": "code",
   "execution_count": 52,
   "id": "f36fa790",
   "metadata": {},
   "outputs": [
    {
     "data": {
      "text/plain": [
       "False"
      ]
     },
     "execution_count": 52,
     "metadata": {},
     "output_type": "execute_result"
    }
   ],
   "source": [
    "fe_1999.var() == fe_2008.var()"
   ]
  },
  {
   "cell_type": "code",
   "execution_count": 54,
   "id": "6a5f8a28",
   "metadata": {},
   "outputs": [
    {
     "data": {
      "text/plain": [
       "(-0.5674988409997608, 0.5709289258613233)"
      ]
     },
     "execution_count": 54,
     "metadata": {},
     "output_type": "execute_result"
    }
   ],
   "source": [
    "t, p = stats.ttest_ind(fe_2008, fe_1999, equal_var=False)\n",
    "t, p"
   ]
  },
  {
   "cell_type": "code",
   "execution_count": 56,
   "id": "e15f025c",
   "metadata": {
    "scrolled": true
   },
   "outputs": [
    {
     "name": "stdout",
     "output_type": "stream",
     "text": [
      " Due to p being greater than α, the null hypothesis stands.\n"
     ]
    }
   ],
   "source": [
    "if p < α:\n",
    "    print(f' We can reject he null hypothesis.')\n",
    "else:\n",
    "    print(f' Due to p being greater than α, the null hypothesis stands.')"
   ]
  },
  {
   "cell_type": "markdown",
   "id": "82cd2bc5",
   "metadata": {},
   "source": [
    "### Part 2\n",
    "### Are compact cars more fuel-efficient than the average car?"
   ]
  },
  {
   "cell_type": "code",
   "execution_count": 57,
   "id": "fb684e58",
   "metadata": {},
   "outputs": [
    {
     "data": {
      "text/html": [
       "<div>\n",
       "<style scoped>\n",
       "    .dataframe tbody tr th:only-of-type {\n",
       "        vertical-align: middle;\n",
       "    }\n",
       "\n",
       "    .dataframe tbody tr th {\n",
       "        vertical-align: top;\n",
       "    }\n",
       "\n",
       "    .dataframe thead th {\n",
       "        text-align: right;\n",
       "    }\n",
       "</style>\n",
       "<table border=\"1\" class=\"dataframe\">\n",
       "  <thead>\n",
       "    <tr style=\"text-align: right;\">\n",
       "      <th></th>\n",
       "      <th>manufacturer</th>\n",
       "      <th>model</th>\n",
       "      <th>displ</th>\n",
       "      <th>year</th>\n",
       "      <th>cyl</th>\n",
       "      <th>trans</th>\n",
       "      <th>drv</th>\n",
       "      <th>cty</th>\n",
       "      <th>hwy</th>\n",
       "      <th>fl</th>\n",
       "      <th>class</th>\n",
       "      <th>fuel_efficiency</th>\n",
       "    </tr>\n",
       "  </thead>\n",
       "  <tbody>\n",
       "    <tr>\n",
       "      <th>1</th>\n",
       "      <td>audi</td>\n",
       "      <td>a4</td>\n",
       "      <td>1.8</td>\n",
       "      <td>1999</td>\n",
       "      <td>4</td>\n",
       "      <td>auto(l5)</td>\n",
       "      <td>f</td>\n",
       "      <td>18</td>\n",
       "      <td>29</td>\n",
       "      <td>p</td>\n",
       "      <td>compact</td>\n",
       "      <td>18.0</td>\n",
       "    </tr>\n",
       "    <tr>\n",
       "      <th>2</th>\n",
       "      <td>audi</td>\n",
       "      <td>a4</td>\n",
       "      <td>1.8</td>\n",
       "      <td>1999</td>\n",
       "      <td>4</td>\n",
       "      <td>manual(m5)</td>\n",
       "      <td>f</td>\n",
       "      <td>21</td>\n",
       "      <td>29</td>\n",
       "      <td>p</td>\n",
       "      <td>compact</td>\n",
       "      <td>21.0</td>\n",
       "    </tr>\n",
       "    <tr>\n",
       "      <th>3</th>\n",
       "      <td>audi</td>\n",
       "      <td>a4</td>\n",
       "      <td>2.0</td>\n",
       "      <td>2008</td>\n",
       "      <td>4</td>\n",
       "      <td>manual(m6)</td>\n",
       "      <td>f</td>\n",
       "      <td>20</td>\n",
       "      <td>31</td>\n",
       "      <td>p</td>\n",
       "      <td>compact</td>\n",
       "      <td>20.0</td>\n",
       "    </tr>\n",
       "    <tr>\n",
       "      <th>4</th>\n",
       "      <td>audi</td>\n",
       "      <td>a4</td>\n",
       "      <td>2.0</td>\n",
       "      <td>2008</td>\n",
       "      <td>4</td>\n",
       "      <td>auto(av)</td>\n",
       "      <td>f</td>\n",
       "      <td>21</td>\n",
       "      <td>30</td>\n",
       "      <td>p</td>\n",
       "      <td>compact</td>\n",
       "      <td>21.0</td>\n",
       "    </tr>\n",
       "    <tr>\n",
       "      <th>5</th>\n",
       "      <td>audi</td>\n",
       "      <td>a4</td>\n",
       "      <td>2.8</td>\n",
       "      <td>1999</td>\n",
       "      <td>6</td>\n",
       "      <td>auto(l5)</td>\n",
       "      <td>f</td>\n",
       "      <td>16</td>\n",
       "      <td>26</td>\n",
       "      <td>p</td>\n",
       "      <td>compact</td>\n",
       "      <td>16.0</td>\n",
       "    </tr>\n",
       "  </tbody>\n",
       "</table>\n",
       "</div>"
      ],
      "text/plain": [
       "  manufacturer model  displ  year  cyl       trans drv  cty  hwy fl    class  \\\n",
       "1         audi    a4    1.8  1999    4    auto(l5)   f   18   29  p  compact   \n",
       "2         audi    a4    1.8  1999    4  manual(m5)   f   21   29  p  compact   \n",
       "3         audi    a4    2.0  2008    4  manual(m6)   f   20   31  p  compact   \n",
       "4         audi    a4    2.0  2008    4    auto(av)   f   21   30  p  compact   \n",
       "5         audi    a4    2.8  1999    6    auto(l5)   f   16   26  p  compact   \n",
       "\n",
       "   fuel_efficiency  \n",
       "1             18.0  \n",
       "2             21.0  \n",
       "3             20.0  \n",
       "4             21.0  \n",
       "5             16.0  "
      ]
     },
     "execution_count": 57,
     "metadata": {},
     "output_type": "execute_result"
    }
   ],
   "source": [
    "# Null Hypothesis\n",
    "#  compact cars fuel-efficiency <= average car fuel-efficiency\n",
    "\n",
    "# Alt Hypothesis\n",
    "#  compact cars fuel-efficiency > average car fuel-efficiency\n",
    "\n",
    "compact = mpg[mpg['class'] == 'compact'].fuel_efficiency"
   ]
  },
  {
   "cell_type": "code",
   "execution_count": null,
   "id": "fe9eb0b0",
   "metadata": {},
   "outputs": [],
   "source": []
  },
  {
   "cell_type": "code",
   "execution_count": null,
   "id": "9ed7aac7",
   "metadata": {},
   "outputs": [],
   "source": []
  },
  {
   "cell_type": "code",
   "execution_count": null,
   "id": "ccf356fd",
   "metadata": {},
   "outputs": [],
   "source": []
  },
  {
   "cell_type": "code",
   "execution_count": null,
   "id": "a0aa2b26",
   "metadata": {},
   "outputs": [],
   "source": []
  },
  {
   "cell_type": "code",
   "execution_count": null,
   "id": "152377d8",
   "metadata": {},
   "outputs": [],
   "source": []
  }
 ],
 "metadata": {
  "kernelspec": {
   "display_name": "Python 3 (ipykernel)",
   "language": "python",
   "name": "python3"
  },
  "language_info": {
   "codemirror_mode": {
    "name": "ipython",
    "version": 3
   },
   "file_extension": ".py",
   "mimetype": "text/x-python",
   "name": "python",
   "nbconvert_exporter": "python",
   "pygments_lexer": "ipython3",
   "version": "3.9.7"
  }
 },
 "nbformat": 4,
 "nbformat_minor": 5
}
