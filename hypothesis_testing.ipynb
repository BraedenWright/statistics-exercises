{
 "cells": [
  {
   "cell_type": "markdown",
   "id": "793c66d8",
   "metadata": {},
   "source": [
    "# Hypothesis Testing Exercise\n",
    "\n",
    "For each of the following questions, formulate a null and alternative hypothesis (be as specific as you can be), then give an example of what a true positive, true negative, type I and type II errors would look like. Note that some of the questions are intentionally phrased in a vague way. It is your job to reword these as more precise questions that could be tested.\n",
    "\n",
    "    Has the network latency gone up since we switched internet service providers?\n",
    "    \n",
    "    Is the website redesign any good?\n",
    "    \n",
    "    Is our television ad driving more sales?\n"
   ]
  },
  {
   "cell_type": "markdown",
   "id": "96ede81b",
   "metadata": {},
   "source": [
    "## Has the network latency gone up since we switched internet service providers?"
   ]
  },
  {
   "cell_type": "markdown",
   "id": "7f5cba93",
   "metadata": {},
   "source": [
    "\n",
    "Null Hypothesis: The new internet service provider has slower internet speeds than our previous provider\n",
    "\n",
    "\n",
    "Alternative Hypothesis: The new internet service provider is as fast(or faster) than our previous provider\n",
    "\n",
    "\n",
    "    True Positive: We compared the results of speed test to confirm that out new internet provider does in fact have slower interent speed\n",
    "\n",
    "    True Negative: Comparing the results of speed test, we confirm that our new internet provider is in fact giving us faster internet speeds\n",
    "\n",
    "    Type I Error: The new internet provider does provide faster speeds, however this is not percieved as the router we use has a defect.  This misleads us into believing the old service provider was faster\n",
    "\n",
    "    Type II Error: The new internet service provider is percieved to be faster than our older service, when in fact our old service just needed an updated router to provide faster internet speeds\n"
   ]
  },
  {
   "cell_type": "markdown",
   "id": "36d8c854",
   "metadata": {},
   "source": [
    "## Is the website redesign any good?"
   ]
  },
  {
   "cell_type": "markdown",
   "id": "35e3a70f",
   "metadata": {},
   "source": [
    "\n",
    "Null Hypothesis: The new web design will attract more traffic to the website than the previous design, confirming its quality.\n",
    "\n",
    "\n",
    "Alternative Hypothesis: The new wed design does not attract as much traffic to the site, therefore the redesign was not successful.\n",
    "\n",
    "\n",
    "    True Positive: Once the new design was up and running, we documented an instant increase in website traffic\n",
    "\n",
    "    True Negative: Once the new design was up and running, we documented no noticable jump in website traffic and perhaps even a decrease in traffic\n",
    "\n",
    "    Type I Error: An influx of bots designed to click thru newly designed sites leads us to percieve a successful launch of our new web design\n",
    "\n",
    "    Type II Error: When we launched the new web design, an unrelated blackout prevented a larger part of our base to be unable to access it.  We percieve this as an unsuccessful redesign launch \n"
   ]
  },
  {
   "cell_type": "markdown",
   "id": "fe0e00ff",
   "metadata": {},
   "source": [
    "## Is our television ad driving more sales?"
   ]
  },
  {
   "cell_type": "markdown",
   "id": "ad84ec83",
   "metadata": {},
   "source": [
    "\n",
    "Null Hypothesis: There was an increase in sales after the airing of our television ad\n",
    "\n",
    "\n",
    "Alternative Hypothesis: There was no noticable impact on sales after the airing of our television ad.\n",
    "\n",
    "\n",
    "    True Positive: Our sales see a 20% increase after the airing of the ad\n",
    "\n",
    "    True Negative: Our sales continue to stagnate after airing the ad.\n",
    "\n",
    "    Type I Error: We had a particularly good week of sales following the ad, but purely due to chance.\n",
    "\n",
    "    Type II Error: Our sales do not increase after airing the ad, but this is due to \n"
   ]
  }
 ],
 "metadata": {
  "kernelspec": {
   "display_name": "Python 3 (ipykernel)",
   "language": "python",
   "name": "python3"
  },
  "language_info": {
   "codemirror_mode": {
    "name": "ipython",
    "version": 3
   },
   "file_extension": ".py",
   "mimetype": "text/x-python",
   "name": "python",
   "nbconvert_exporter": "python",
   "pygments_lexer": "ipython3",
   "version": "3.9.7"
  }
 },
 "nbformat": 4,
 "nbformat_minor": 5
}
