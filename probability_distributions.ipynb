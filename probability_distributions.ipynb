{
 "cells": [
  {
   "cell_type": "code",
   "execution_count": 132,
   "id": "adf434b1",
   "metadata": {},
   "outputs": [],
   "source": [
    "import numpy as np\n",
    "import pandas as pd\n",
    "from scipy import stats\n",
    "import matplotlib.pyplot as plt\n",
    "\n"
   ]
  },
  {
   "cell_type": "markdown",
   "id": "251fdd78",
   "metadata": {},
   "source": [
    "# Exercise 1\n",
    "\n",
    "\n",
    "\n",
    "A bank found that the average number of cars waiting during the noon hour at a drive-up window follows a Poisson distribution with a mean of 2 cars. Make a chart of this distribution and answer these questions concerning the probability of cars waiting at the drive-up window.\n",
    "\n",
    "    What is the probability that no cars drive up in the noon hour?\n",
    "    What is the probability that 3 or more cars come through the drive through?\n",
    "    How likely is it that the drive through gets at least 1 car?\n",
    "\n"
   ]
  },
  {
   "cell_type": "code",
   "execution_count": 9,
   "id": "97165195",
   "metadata": {},
   "outputs": [
    {
     "data": {
      "text/plain": [
       "Text(0, 0.5, 'P(x)')"
      ]
     },
     "execution_count": 9,
     "metadata": {},
     "output_type": "execute_result"
    },
    {
     "data": {
      "image/png": "[encoded data removed]",
      "text/plain": [
       "<Figure size 432x288 with 1 Axes>"
      ]
     },
     "metadata": {
      "needs_background": "light"
     },
     "output_type": "display_data"
    }
   ],
   "source": [
    "cars_mean = 2\n",
    "\n",
    "x = np.arange(0,12)\n",
    "y = stats.poisson(cars_mean).pmf(x)\n",
    "\n",
    "plt.bar(x, y)\n",
    "plt.title('Exercise 1 Graph')\n",
    "plt.xlabel('Number of Cars')\n",
    "plt.ylabel('P(x)')"
   ]
  },
  {
   "cell_type": "markdown",
   "id": "59fb822b",
   "metadata": {},
   "source": [
    "## Experimental - Part 1"
   ]
  },
  {
   "cell_type": "code",
   "execution_count": 21,
   "id": "23784699",
   "metadata": {
    "scrolled": true
   },
   "outputs": [
    {
     "name": "stdout",
     "output_type": "stream",
     "text": [
      "There is a 13.53% chance that no cars drive up at noon.\n"
     ]
    }
   ],
   "source": [
    "# What is the probability that no cars drive up in the noon hour?\n",
    "\n",
    "answer = stats.poisson(cars_mean).pmf(0)\n",
    "\n",
    "print(f'There is a {round((answer*100), 2)}% chance that no cars drive up at noon.')"
   ]
  },
  {
   "cell_type": "markdown",
   "id": "36f7b292",
   "metadata": {},
   "source": [
    "## Theoretical - Part 1"
   ]
  },
  {
   "cell_type": "code",
   "execution_count": 55,
   "id": "6e7705b7",
   "metadata": {},
   "outputs": [
    {
     "name": "stdout",
     "output_type": "stream",
     "text": [
      "There is a 13.56% chance that no cars drive up at noon.\n"
     ]
    }
   ],
   "source": [
    "# What is the probability that no cars drive up in the noon hour?\n",
    "# simulate with random\n",
    "\n",
    "#represent and make a matrix\n",
    "cars = np.random.poisson(2, 10_000*1).reshape(10_000, 1)\n",
    "\n",
    "df = pd.DataFrame(cars)\n",
    "\n",
    "df['no_cars'] = df[0] == 0\n",
    "\n",
    "answer = df.no_cars.mean()\n",
    "\n",
    "print(f'There is a {round((answer*100), 2)}% chance that no cars drive up at noon.')"
   ]
  },
  {
   "cell_type": "markdown",
   "id": "39cb4d01",
   "metadata": {},
   "source": [
    "## Experimental - Part 2"
   ]
  },
  {
   "cell_type": "code",
   "execution_count": 22,
   "id": "7b393d75",
   "metadata": {},
   "outputs": [
    {
     "name": "stdout",
     "output_type": "stream",
     "text": [
      "There is a 32.33% chance that 3 or more cars drive through the drive through.\n"
     ]
    }
   ],
   "source": [
    "# What is the probability that 3 or more cars come through the drive through?\n",
    "\n",
    "answer = stats.poisson(cars_mean).sf(2)\n",
    "\n",
    "print(f'There is a {round((answer*100), 2)}% chance that 3 or more cars drive through the drive through.')"
   ]
  },
  {
   "cell_type": "markdown",
   "id": "0cd155f6",
   "metadata": {},
   "source": [
    "## Theoretical - Part 2"
   ]
  },
  {
   "cell_type": "code",
   "execution_count": 56,
   "id": "284dd80e",
   "metadata": {},
   "outputs": [
    {
     "name": "stdout",
     "output_type": "stream",
     "text": [
      "There is a 32.04% chance that 3 or more cars drive through the drive through.\n"
     ]
    }
   ],
   "source": [
    "# What is the probability that 3 or more cars come through the drive through?\n",
    "\n",
    "df = pd.DataFrame(cars)\n",
    "\n",
    "df['three_plus'] = df[0] > 2\n",
    "\n",
    "answer = df.three_plus.mean()\n",
    "\n",
    "print(f'There is a {round((answer*100), 2)}% chance that 3 or more cars drive through the drive through.')"
   ]
  },
  {
   "cell_type": "markdown",
   "id": "0fb1247a",
   "metadata": {},
   "source": [
    "## Experimental - Part 3"
   ]
  },
  {
   "cell_type": "code",
   "execution_count": 23,
   "id": "d844931b",
   "metadata": {},
   "outputs": [
    {
     "name": "stdout",
     "output_type": "stream",
     "text": [
      "There is a 86.47% chance that at least one car will drive through the drive through\n"
     ]
    }
   ],
   "source": [
    "# How likely is it that the drive through gets at least 1 car?\n",
    "\n",
    "answer = stats.poisson(cars_mean).sf(0)\n",
    "\n",
    "print(f'There is a {round((answer*100), 2)}% chance that at least one car will drive through the drive through')"
   ]
  },
  {
   "cell_type": "markdown",
   "id": "5665a61c",
   "metadata": {},
   "source": [
    "## Theoretical - Part 3"
   ]
  },
  {
   "cell_type": "code",
   "execution_count": 57,
   "id": "da071f5b",
   "metadata": {},
   "outputs": [
    {
     "name": "stdout",
     "output_type": "stream",
     "text": [
      "There is a 86.44% chance that at least one car will drive through the drive through\n"
     ]
    }
   ],
   "source": [
    "# How likely is it that the drive through gets at least 1 car?\n",
    "\n",
    "df = pd.DataFrame(cars)\n",
    "\n",
    "df['one_plus'] = df[0] > 0\n",
    "\n",
    "answer = df.one_plus.mean()\n",
    "\n",
    "print(f'There is a {round((answer*100), 2)}% chance that at least one car will drive through the drive through')"
   ]
  },
  {
   "cell_type": "markdown",
   "id": "5d8e7839",
   "metadata": {},
   "source": [
    "# Exercise 2\n",
    "\n",
    "\n",
    "\n",
    "Grades of State University graduates are normally distributed with a mean of 3.0 and a standard deviation of .3. Calculate the following:\n",
    "\n",
    "    What grade point average is required to be in the top 5% of the graduating class?\n",
    "    \n",
    "    What GPA constitutes the bottom 15% of the class?\n",
    "    \n",
    "    An eccentric alumnus left scholarship money for students in the third decile from the bottom of their class. Determine the range of the third decile. Would a student with a 2.8 grade point average qualify for this scholarship?\n",
    "    \n",
    "    If I have a GPA of 3.5, what percentile am I in?\n",
    "\n",
    "## Experimental - Part 1"
   ]
  },
  {
   "cell_type": "code",
   "execution_count": 35,
   "id": "7d9d5e33",
   "metadata": {},
   "outputs": [
    {
     "name": "stdout",
     "output_type": "stream",
     "text": [
      "To be in the top 5% of the class you need a 3.5 GPA.\n"
     ]
    }
   ],
   "source": [
    "# What grade point average is required to be in the top 5% of the graduating class?\n",
    "\n",
    "\n",
    "# gpa_mean = 3\n",
    "# std_dev = 0.3\n",
    "\n",
    "answer = stats.norm(3, .3).isf(.05)\n",
    "\n",
    "print(f'To be in the top 5% of the class you need a {round(answer, 1)} GPA.')"
   ]
  },
  {
   "cell_type": "markdown",
   "id": "607948a7",
   "metadata": {},
   "source": [
    "## Theoretical - Part 1"
   ]
  },
  {
   "cell_type": "code",
   "execution_count": 66,
   "id": "16c69be5",
   "metadata": {},
   "outputs": [
    {
     "name": "stdout",
     "output_type": "stream",
     "text": [
      "To be in the top 5% of the class you need a 3.5 GPA.\n"
     ]
    }
   ],
   "source": [
    "# What grade point average is required to be in the top 5% of the graduating class?\n",
    "\n",
    "gpa = np.random.normal(3, .3, 10_000*1).reshape(10_000, 1)\n",
    "\n",
    "df = pd.DataFrame(gpa)\n",
    "\n",
    "# how to make a column to filter with? .sort? cut into deciles(preparing for later question)? \n",
    "# cut out relevent data (cut into deciles, preparing for later question)\n",
    "#df['decile'] = pd.qcut(df[0], q = 10, labels = False)\n",
    "\n",
    "#df = df[df['decile'] == 9]\n",
    "# * doesnt work with decile *\n",
    "\n",
    "df['percentile'] = pd.qcut(df[0], q = 20, labels = False)\n",
    "\n",
    "df = df[df['percentile'] == 19]\n",
    "\n",
    "answer = df[0].min()\n",
    "\n",
    "print(f'To be in the top 5% of the class you need a {round(answer, 1)} GPA.')"
   ]
  },
  {
   "cell_type": "markdown",
   "id": "6f60f72b",
   "metadata": {},
   "source": [
    "## Experimental - Part 2"
   ]
  },
  {
   "cell_type": "code",
   "execution_count": 36,
   "id": "867a7ccd",
   "metadata": {},
   "outputs": [
    {
     "name": "stdout",
     "output_type": "stream",
     "text": [
      "The bottom 15% of the class has a GPA lower than 2.7.\n"
     ]
    }
   ],
   "source": [
    "# What GPA constitutes the bottom 15% of the class?\n",
    "\n",
    "answer = stats.norm(3, .3).ppf(.15)\n",
    "\n",
    "print(f'The bottom 15% of the class has a GPA lower than {round(answer, 1)}.')"
   ]
  },
  {
   "cell_type": "markdown",
   "id": "642f12b5",
   "metadata": {},
   "source": [
    "## Theoretical - Part 2\n"
   ]
  },
  {
   "cell_type": "code",
   "execution_count": 70,
   "id": "380f0f9c",
   "metadata": {},
   "outputs": [
    {
     "name": "stdout",
     "output_type": "stream",
     "text": [
      "The bottom 15% of the class has a GPA lower than 2.74.\n"
     ]
    }
   ],
   "source": [
    "# What GPA constitutes the bottom 15% of the class?\n",
    "\n",
    "df = pd.DataFrame(gpa)\n",
    "\n",
    "df['percentile'] = pd.qcut(df[0], q = 20, labels = False)\n",
    "\n",
    "df = df[df['percentile'] == 3]\n",
    "\n",
    "answer = df[0].max()\n",
    "\n",
    "print(f'The bottom 15% of the class has a GPA lower than {round(answer, 2)}.')"
   ]
  },
  {
   "cell_type": "markdown",
   "id": "2b87a073",
   "metadata": {},
   "source": [
    "## Experimental - Part 3"
   ]
  },
  {
   "cell_type": "code",
   "execution_count": 69,
   "id": "946b3169",
   "metadata": {},
   "outputs": [
    {
     "name": "stdout",
     "output_type": "stream",
     "text": [
      "A GPA between 2.75 and 2.84 will earn part of the eccentric scholarship. A GPA of 2.8 will qualify.\n"
     ]
    }
   ],
   "source": [
    "# An eccentric alumnus left scholarship money for students in the third decile from the bottom of their class. \n",
    "# Determine the range of the third decile.\n",
    "\n",
    "# --- a quick google search confirms that the 3rd decile would be the 20-30 percentile\n",
    "\n",
    "# Would a student with a 2.8 grade point average qualify for this scholarship?\n",
    "\n",
    "answer1 = stats.norm(3, .3).ppf(.2)\n",
    "answer2 =stats.norm(3, .3).ppf(.3)\n",
    "\n",
    "print(f'A GPA between {round(answer1, 2)} and {round(answer2, 2)} will earn part of the eccentric scholarship. A GPA of 2.8 will qualify.')"
   ]
  },
  {
   "cell_type": "markdown",
   "id": "c1552d87",
   "metadata": {},
   "source": [
    "## Theoretical - Part 3"
   ]
  },
  {
   "cell_type": "code",
   "execution_count": 76,
   "id": "941fe079",
   "metadata": {},
   "outputs": [
    {
     "name": "stdout",
     "output_type": "stream",
     "text": [
      "A GPA between 2.74 and 2.84 will earn part of the eccentric scholarship. A GPA of 2.8 will qualify.\n"
     ]
    }
   ],
   "source": [
    "# Would a student with a 2.8 grade point average qualify for this scholarship?\n",
    "\n",
    "df = pd.DataFrame(gpa)\n",
    "\n",
    "df['decile'] = pd.qcut(df[0], q = 10, labels = False)\n",
    "\n",
    "df = df[df['decile'] == 2]\n",
    "\n",
    "answer1 = df[0].min()\n",
    "answer2 = df[0].max()\n",
    "\n",
    "print(f'A GPA between {round(answer1, 2)} and {round(answer2, 2)} will earn part of the eccentric scholarship. A GPA of 2.8 will qualify.')"
   ]
  },
  {
   "cell_type": "markdown",
   "id": "0d22bcc7",
   "metadata": {},
   "source": [
    "## Experimental - Part 4"
   ]
  },
  {
   "cell_type": "code",
   "execution_count": 42,
   "id": "d6637736",
   "metadata": {},
   "outputs": [
    {
     "name": "stdout",
     "output_type": "stream",
     "text": [
      " A GPA of 3.5 would place me in the 95.0 percentile of the class.\n"
     ]
    }
   ],
   "source": [
    "# If I have a GPA of 3.5, what percentile am I in?\n",
    "\n",
    "answer = stats.norm(3, .3).cdf(3.5)\n",
    "\n",
    "print(f' A GPA of 3.5 would place me in the {round((answer*100), 0)} percentile of the class.')"
   ]
  },
  {
   "cell_type": "markdown",
   "id": "0edd6577",
   "metadata": {},
   "source": [
    "## Theoretical - Part 4"
   ]
  },
  {
   "cell_type": "code",
   "execution_count": 49,
   "id": "cdcbe0d3",
   "metadata": {},
   "outputs": [
    {
     "name": "stdout",
     "output_type": "stream",
     "text": [
      " A GPA of 3.5 would place me in the 95.0 percentile of the class.\n"
     ]
    }
   ],
   "source": [
    "# If I have a GPA of 3.5, what percentile am I in?\n",
    "\n",
    "answer = (np.random.normal(3, .3, 10_000) < 3.5).mean()\n",
    "\n",
    "print(f' A GPA of 3.5 would place me in the {round((answer*100), 0)} percentile of the class.')"
   ]
  },
  {
   "cell_type": "markdown",
   "id": "11eff460",
   "metadata": {},
   "source": [
    "# Exercise 3\n",
    "\n",
    "A marketing website has an average click-through rate of 2%. One day they observe 4326 visitors and 97 click-throughs. How likely is it that this many people or more click through?"
   ]
  },
  {
   "cell_type": "code",
   "execution_count": 43,
   "id": "f3ae1efb",
   "metadata": {},
   "outputs": [
    {
     "data": {
      "image/png": "[encoded data removed]",
      "text/plain": [
       "<Figure size 864x360 with 1 Axes>"
      ]
     },
     "metadata": {
      "needs_background": "light"
     },
     "output_type": "display_data"
    }
   ],
   "source": [
    "# click_rate = .02 = p\n",
    "# visitors = 4326 = n\n",
    "\n",
    "pd.Series(stats.binom(4326, .02).rvs(10_000)).value_counts().sort_index().plot.bar(figsize=(12, 5), width=1, ec='black')\n",
    "plt.show()"
   ]
  },
  {
   "cell_type": "markdown",
   "id": "9bce9c5c",
   "metadata": {},
   "source": [
    "## Experimental "
   ]
  },
  {
   "cell_type": "code",
   "execution_count": 48,
   "id": "74a8ac3c",
   "metadata": {},
   "outputs": [
    {
     "name": "stdout",
     "output_type": "stream",
     "text": [
      " There was a 13.98% chance to get 97 click-throughs.\n"
     ]
    }
   ],
   "source": [
    "# A marketing website has an average click-through rate of 2%. \n",
    "# One day they observe 4326 visitors and 97 click-throughs. \n",
    "# How likely is it that this many people or more click through?\n",
    "\n",
    "answer = stats.binom(4326, .02).sf(96)\n",
    "\n",
    "print(f' There was a {round((answer*100), 2)}% chance to get 97 click-throughs.')"
   ]
  },
  {
   "cell_type": "markdown",
   "id": "23783604",
   "metadata": {},
   "source": [
    "## Theoretical "
   ]
  },
  {
   "cell_type": "code",
   "execution_count": 81,
   "id": "3711b26e",
   "metadata": {},
   "outputs": [
    {
     "name": "stdout",
     "output_type": "stream",
     "text": [
      " There was a 13.81% chance to get 97 click-throughs.\n"
     ]
    }
   ],
   "source": [
    "# A marketing website has an average click-through rate of 2%. \n",
    "# One day they observe 4326 visitors and 97 click-throughs. \n",
    "# How likely is it that this many people or more click through?\n",
    "\n",
    "clicks = np.random.choice([0, 1], size = (10_000, 4326), p = (.98, .02))\n",
    "\n",
    "answer = (clicks.sum(axis=1) >= 97).mean()\n",
    "\n",
    "print(f' There was a {round((answer*100), 2)}% chance to get 97 click-throughs.')"
   ]
  },
  {
   "cell_type": "markdown",
   "id": "a1fece70",
   "metadata": {},
   "source": [
    "# Exercise 4\n",
    "\n",
    "You are working on some statistics homework consisting of 100 questions where all of the answers are a probability rounded to the hundreths place. Looking to save time, you put down random probabilities as the answer to each question.\n",
    "\n",
    "    What is the probability that at least one of your first 60 answers is correct?\n",
    "\n",
    "\n",
    "## Experimental "
   ]
  },
  {
   "cell_type": "code",
   "execution_count": 86,
   "id": "e112d76a",
   "metadata": {},
   "outputs": [
    {
     "name": "stdout",
     "output_type": "stream",
     "text": [
      "There is a 45.28% chance to get at least 1 in the first 60 correct\n"
     ]
    }
   ],
   "source": [
    "# What is the probability that at least one of your first 60 answers is correct?\n",
    "\n",
    "# prob of 1 in 100 questions\n",
    "p = .01\n",
    "# withing the first 60 questions\n",
    "n = 60\n",
    "\n",
    "answer = stats.binom(60, .01).sf(0)\n",
    "\n",
    "print(f'There is a {round((answer*100), 2)}% chance to get at least 1 in the first 60 correct')"
   ]
  },
  {
   "cell_type": "markdown",
   "id": "26b509ab",
   "metadata": {},
   "source": [
    "## Theoretical "
   ]
  },
  {
   "cell_type": "code",
   "execution_count": 88,
   "id": "747d40a2",
   "metadata": {},
   "outputs": [
    {
     "name": "stdout",
     "output_type": "stream",
     "text": [
      "There is a 45.31% chance to get at least 1 in the first 60 correct\n"
     ]
    }
   ],
   "source": [
    "# What is the probability that at least one of your first 60 answers is correct?\n",
    "\n",
    "guesses = np.random.choice([True, False], 10_000*60, p=[.01,.99]).reshape(10_000, 60) \n",
    "\n",
    "df = pd.DataFrame(guesses)\n",
    "\n",
    "df['got_lucky'] = df.sum(axis=1) > 0\n",
    "\n",
    "answer = df['got_lucky'].mean()\n",
    "\n",
    "print(f'There is a {round((answer*100), 2)}% chance to get at least 1 in the first 60 correct')"
   ]
  },
  {
   "cell_type": "markdown",
   "id": "69246e29",
   "metadata": {},
   "source": [
    "# Exercise 5\n",
    "\n",
    "The codeup staff tends to get upset when the student break area is not cleaned up. Suppose that there's a 3% chance that any one student cleans the break area when they visit it, and, on any given day, about 90% of the 3 active cohorts of 22 students visit the break area. \n",
    "\n",
    "How likely is it that the break area gets cleaned up each day? \n",
    "\n",
    "How likely is it that it goes two days without getting cleaned up? \n",
    "\n",
    "All week?\n",
    "\n",
    "## Experimental - Part 1"
   ]
  },
  {
   "cell_type": "code",
   "execution_count": 90,
   "id": "5ea9b6d7",
   "metadata": {},
   "outputs": [
    {
     "name": "stdout",
     "output_type": "stream",
     "text": [
      "There is a 83.62% chance the break area got cleaned\n"
     ]
    }
   ],
   "source": [
    "# How likely is it that the break area gets cleaned up each day?\n",
    "\n",
    "n = .9 * (3 * 22)\n",
    "p = .03\n",
    "\n",
    "#not practical to type equation out again\n",
    "answer = stats.binom(n, p).sf(0)\n",
    "\n",
    "print(f'There is a {round((answer*100), 2)}% chance the break area got cleaned')"
   ]
  },
  {
   "cell_type": "markdown",
   "id": "6abd3513",
   "metadata": {},
   "source": [
    "## Theoretical - Part 1"
   ]
  },
  {
   "cell_type": "code",
   "execution_count": 105,
   "id": "360737ea",
   "metadata": {},
   "outputs": [
    {
     "name": "stdout",
     "output_type": "stream",
     "text": [
      "There is a 83.42% chance the break area got cleaned\n"
     ]
    }
   ],
   "source": [
    "# How likely is it that the break area gets cleaned up each day?\n",
    "\n",
    "got_cleaned = np.random.binomial(n, p, 10_000 * 1).reshape(10_000, 1)\n",
    "\n",
    "df = pd.DataFrame(got_cleaned)\n",
    "\n",
    "df['not_clean'] = df.sum(axis=1) == 0\n",
    "\n",
    "answer = df['not_clean'].mean()\n",
    "\n",
    "# realized i calculated the chance it will be dirty, not the chance it would get cleaned\n",
    "# corrected in the f'statment\n",
    "\n",
    "print(f'There is a {round((100 - (answer*100)), 2)}% chance the break area got cleaned')"
   ]
  },
  {
   "cell_type": "markdown",
   "id": "4a4ec4e7",
   "metadata": {},
   "source": [
    "## Experimental - Part 2"
   ]
  },
  {
   "cell_type": "code",
   "execution_count": 111,
   "id": "71168a10",
   "metadata": {},
   "outputs": [
    {
     "name": "stdout",
     "output_type": "stream",
     "text": [
      "There is a 2.68% chance the break area got neglected for 2 days.\n"
     ]
    }
   ],
   "source": [
    "# How likely is it that it goes two days without getting cleaned up?\n",
    "\n",
    "answer = stats.binom((n * 2), p).pmf(0)\n",
    "\n",
    "print(f'There is a {round((answer*100), 2)}% chance the break area got neglected for 2 days.')"
   ]
  },
  {
   "cell_type": "markdown",
   "id": "538fa575",
   "metadata": {},
   "source": [
    "## Theoretical - Part 2"
   ]
  },
  {
   "cell_type": "code",
   "execution_count": 113,
   "id": "ae0a3b84",
   "metadata": {},
   "outputs": [
    {
     "name": "stdout",
     "output_type": "stream",
     "text": [
      "There is a 2.61% chance the break area got neglected.\n"
     ]
    }
   ],
   "source": [
    "# How likely is it that it goes two days without getting cleaned up?\n",
    "\n",
    "got_cleaned = np.random.binomial(n, p, 10_000 * 2).reshape(10_000, 2)\n",
    "\n",
    "df = pd.DataFrame(got_cleaned)\n",
    "\n",
    "df['not_clean'] = df.sum(axis=1) == 0\n",
    "\n",
    "answer = df['not_clean'].mean()\n",
    "\n",
    "print(f'There is a {round((answer*100), 2)}% chance the break area got neglected.')"
   ]
  },
  {
   "cell_type": "markdown",
   "id": "dd84ba58",
   "metadata": {},
   "source": [
    "## Experimental - Part 3"
   ]
  },
  {
   "cell_type": "code",
   "execution_count": 116,
   "id": "34581c98",
   "metadata": {},
   "outputs": [
    {
     "name": "stdout",
     "output_type": "stream",
     "text": [
      "There is a 0.01% chance the break area got neglected for a full school week.\n"
     ]
    }
   ],
   "source": [
    "# All week?\n",
    "# n * 5 (5 for mon - fri)\n",
    "\n",
    "answer = stats.binom((n * 5), p).pmf(0)\n",
    "\n",
    "print(f'There is a {round((answer*100), 2)}% chance the break area got neglected for a full school week.')"
   ]
  },
  {
   "cell_type": "markdown",
   "id": "d8da7a5a",
   "metadata": {},
   "source": [
    "## Theoretical - Part 3"
   ]
  },
  {
   "cell_type": "code",
   "execution_count": 119,
   "id": "d8939526",
   "metadata": {},
   "outputs": [
    {
     "name": "stdout",
     "output_type": "stream",
     "text": [
      "There is a 0.01% chance the break area got neglected for a full school week.\n"
     ]
    }
   ],
   "source": [
    "# All week?\n",
    "\n",
    "got_cleaned = np.random.binomial(n, p, 10_000 * 5).reshape(10_000, 5)\n",
    "\n",
    "df = pd.DataFrame(got_cleaned)\n",
    "\n",
    "df['not_clean'] = df.sum(axis=1) == 0\n",
    "\n",
    "answer = df['not_clean'].mean()\n",
    "\n",
    "print(f'There is a {round((answer*100), 2)}% chance the break area got neglected for a full school week.')"
   ]
  },
  {
   "cell_type": "markdown",
   "id": "1d4d18de",
   "metadata": {},
   "source": [
    "# Exercise 6\n",
    "\n",
    "You want to get lunch at La Panaderia, but notice that the line is usually very long at lunchtime. After several weeks of careful observation, you notice that the average number of people in line when your lunch break starts is normally distributed with a mean of 15 and standard deviation of 3. If it takes 2 minutes for each person to order, and 10 minutes from ordering to getting your food, what is the likelihood that you have at least 15 minutes left to eat your food before you have to go back to class? Assume you have one hour for lunch, and ignore travel time to and from La Panaderia.\n",
    "\n",
    "## Experimental"
   ]
  },
  {
   "cell_type": "code",
   "execution_count": 129,
   "id": "b3f4b135",
   "metadata": {},
   "outputs": [
    {
     "name": "stdout",
     "output_type": "stream",
     "text": [
      "There is a 0.05% chance that I will have at 15\n"
     ]
    }
   ],
   "source": [
    "mean = 15 * 2\n",
    "\n",
    "std_dev = 3 * 2\n",
    "\n",
    "#  20 = 60(lunch_hour) - 30(15 people*2 min each) - 10(wait time)\n",
    "\n",
    "answer = stats.norm(mean, std_dev).cdf(20)\n",
    "\n",
    "print(f'There is a {round(answer, 2)}% chance that I will have time to eat.')"
   ]
  },
  {
   "cell_type": "markdown",
   "id": "3b123749",
   "metadata": {},
   "source": [
    "## Theoretical"
   ]
  },
  {
   "cell_type": "code",
   "execution_count": 130,
   "id": "1a2adeb6",
   "metadata": {},
   "outputs": [
    {
     "name": "stdout",
     "output_type": "stream",
     "text": [
      "There is a 0.05% chance that I will have time to eat.\n"
     ]
    }
   ],
   "source": [
    "# quick string\n",
    "\n",
    "answer = (np.random.normal(30, 6, 10_000) <= 20).mean()\n",
    "\n",
    "print(f'There is a {round(answer, 2)}% chance that I will have time to eat.')"
   ]
  },
  {
   "cell_type": "markdown",
   "id": "0d3ae5f7",
   "metadata": {},
   "source": [
    "# Exercise 7\n",
    "\n",
    "\n",
    "Connect to the employees database and find the average salary of current employees, along with the standard deviation. For the following questions, calculate the answer based on modeling the employees salaries with a normal distribution defined by the calculated mean and standard deviation then compare this answer to the actual values present in the salaries dataset.\n",
    "\n",
    "    What percent of employees earn less than 60,000?\n",
    "    What percent of employees earn more than 95,000?\n",
    "    What percent of employees earn between 65,000 and 80,000?\n",
    "    What do the top 5% of employees make?\n",
    "\n",
    "## Experimental - Part 1"
   ]
  },
  {
   "cell_type": "code",
   "execution_count": 177,
   "id": "5ce0a595",
   "metadata": {},
   "outputs": [],
   "source": [
    "# gotta access the database\n",
    "\n",
    "import env\n",
    "\n",
    "url = f'mysql+pymysql://{env.user}:{env.password}@{env.host}/employees'\n",
    "query = '''\n",
    "SELECT *\n",
    "FROM salaries s\n",
    "WHERE s.to_date > NOW()\n",
    "'''\n",
    "salaries = pd.read_sql(query, url)"
   ]
  },
  {
   "cell_type": "code",
   "execution_count": 142,
   "id": "6b7193b3",
   "metadata": {},
   "outputs": [
    {
     "data": {
      "text/plain": [
       "<AxesSubplot:>"
      ]
     },
     "execution_count": 142,
     "metadata": {},
     "output_type": "execute_result"
    },
    {
     "data": {
      "image/png": "[encoded data removed]",
      "text/plain": [
       "<Figure size 432x288 with 1 Axes>"
      ]
     },
     "metadata": {
      "needs_background": "light"
     },
     "output_type": "display_data"
    }
   ],
   "source": [
    "salaries.salary.hist(bins = 30)"
   ]
  },
  {
   "cell_type": "code",
   "execution_count": 144,
   "id": "d50748b0",
   "metadata": {},
   "outputs": [
    {
     "name": "stdout",
     "output_type": "stream",
     "text": [
      "Only 24.39% of employees earn less than $60,000.\n"
     ]
    }
   ],
   "source": [
    "# What percent of employees earn less than 60,000?\n",
    "\n",
    "mean = salaries.salary.mean()\n",
    "\n",
    "std_dev = salaries.salary.std()\n",
    "\n",
    "answer = stats.norm(mean, std_dev).cdf(60_000)\n",
    "\n",
    "print(f'Only {round((answer*100), 2)}% of employees earn less than $60,000.')"
   ]
  },
  {
   "cell_type": "markdown",
   "id": "59c9df15",
   "metadata": {},
   "source": [
    "## Theoretical - Part 1"
   ]
  },
  {
   "cell_type": "code",
   "execution_count": 153,
   "id": "f6fc3de6",
   "metadata": {},
   "outputs": [
    {
     "name": "stdout",
     "output_type": "stream",
     "text": [
      "Only 27.06% of employees earn less than $60,000.\n"
     ]
    }
   ],
   "source": [
    "# What percent of employees earn less than 60,000?\n",
    "\n",
    "answer = len(salaries[salaries.salary < 60_000]) / len(salaries)\n",
    "\n",
    "print(f'Only {round((answer*100), 2)}% of employees earn less than $60,000.')"
   ]
  },
  {
   "cell_type": "markdown",
   "id": "ee28d485",
   "metadata": {},
   "source": [
    "## Experimental - Part 2"
   ]
  },
  {
   "cell_type": "code",
   "execution_count": 146,
   "id": "3501ce0f",
   "metadata": {},
   "outputs": [
    {
     "name": "stdout",
     "output_type": "stream",
     "text": [
      "Only 9.21% of employees earn more than $95,000.\n"
     ]
    }
   ],
   "source": [
    "# What percent of employees earn more than 95,000?\n",
    "\n",
    "answer = stats.norm(mean, std_dev).sf(95_000)\n",
    "\n",
    "print(f'Only {round((answer*100), 2)}% of employees earn more than $95,000.')"
   ]
  },
  {
   "cell_type": "markdown",
   "id": "d633649d",
   "metadata": {},
   "source": [
    "## Theoretical - Part 2"
   ]
  },
  {
   "cell_type": "code",
   "execution_count": 154,
   "id": "7f5fc975",
   "metadata": {},
   "outputs": [
    {
     "name": "stdout",
     "output_type": "stream",
     "text": [
      "Only 10.86% of employees earn more than $95,000.\n"
     ]
    }
   ],
   "source": [
    "# What percent of employees earn more than 95,000?\n",
    "\n",
    "answer = len(salaries[salaries.salary > 95_000]) / len(salaries)\n",
    "\n",
    "print(f'Only {round((answer*100), 2)}% of employees earn more than $95,000.')"
   ]
  },
  {
   "cell_type": "markdown",
   "id": "e1ca3b1b",
   "metadata": {},
   "source": [
    "## Experimental - Part 3"
   ]
  },
  {
   "cell_type": "code",
   "execution_count": 160,
   "id": "789670ae",
   "metadata": {},
   "outputs": [
    {
     "name": "stdout",
     "output_type": "stream",
     "text": [
      "A total of 33.51% of employees earn between $65,000 and $80,000.\n"
     ]
    }
   ],
   "source": [
    "# What percent of employees earn between 65,000 and 80,000?\n",
    "\n",
    "more_than = stats.norm(mean, std_dev).cdf(65_000)\n",
    "\n",
    "less_than = stats.norm(mean, std_dev).cdf(80_000)\n",
    "\n",
    "answer = less_than - more_than\n",
    "\n",
    "print(f'A total of {round((answer*100), 2)}% of employees earn between $65,000 and $80,000.')"
   ]
  },
  {
   "cell_type": "markdown",
   "id": "c9f0d5ff",
   "metadata": {},
   "source": [
    "## Theoretical - Part 3"
   ]
  },
  {
   "cell_type": "code",
   "execution_count": 159,
   "id": "973e0b14",
   "metadata": {},
   "outputs": [
    {
     "name": "stdout",
     "output_type": "stream",
     "text": [
      "A total of 32.51% of employees earn between $65,000 and $80,000.\n"
     ]
    }
   ],
   "source": [
    "# What percent of employees earn between 65,000 and 80,000?\n",
    "\n",
    "more_than = len(salaries[salaries.salary < 65_000]) / len(salaries)\n",
    "\n",
    "less_than = len(salaries[salaries.salary < 80_000]) / len(salaries)\n",
    "\n",
    "answer = less_than - more_than\n",
    "\n",
    "print(f'A total of {round((answer*100), 2)}% of employees earn between $65,000 and $80,000.')"
   ]
  },
  {
   "cell_type": "markdown",
   "id": "7f2b83f3",
   "metadata": {},
   "source": [
    "## Experimental - Part 4"
   ]
  },
  {
   "cell_type": "code",
   "execution_count": 179,
   "id": "25acc94e",
   "metadata": {},
   "outputs": [
    {
     "name": "stdout",
     "output_type": "stream",
     "text": [
      "The top 5% of salaries earn at least $100484.64\n"
     ]
    }
   ],
   "source": [
    "# What do the top 5% of employees make?\n",
    "\n",
    "answer = stats.norm(mean, std_dev).isf(0.05)\n",
    "\n",
    "print(f'The top 5% of salaries earn at least ${round(answer, 2)}')"
   ]
  },
  {
   "cell_type": "markdown",
   "id": "ca35c74d",
   "metadata": {},
   "source": [
    "## Theoretical - Part 4"
   ]
  },
  {
   "cell_type": "code",
   "execution_count": 178,
   "id": "21f4771a",
   "metadata": {},
   "outputs": [
    {
     "name": "stdout",
     "output_type": "stream",
     "text": [
      "The top 5% of salaries earn at least $104226\n"
     ]
    }
   ],
   "source": [
    "# What do the top 5% of employees make?\n",
    "\n",
    "salaries['percent'] = pd.qcut(salaries['salary'], q=20, labels=False)\n",
    "\n",
    "salaries = salaries[salaries['percent'] == 19]\n",
    "\n",
    "answer = salaries['salary'].min()\n",
    "\n",
    "print(f'The top 5% of salaries earn at least ${round(answer, 2)}')"
   ]
  },
  {
   "cell_type": "code",
   "execution_count": null,
   "id": "1b77c734",
   "metadata": {},
   "outputs": [],
   "source": []
  },
  {
   "cell_type": "code",
   "execution_count": null,
   "id": "0a192f18",
   "metadata": {},
   "outputs": [],
   "source": []
  },
  {
   "cell_type": "code",
   "execution_count": null,
   "id": "3d392d47",
   "metadata": {},
   "outputs": [],
   "source": []
  }
 ],
 "metadata": {
  "kernelspec": {
   "display_name": "Python 3 (ipykernel)",
   "language": "python",
   "name": "python3"
  },
  "language_info": {
   "codemirror_mode": {
    "name": "ipython",
    "version": 3
   },
   "file_extension": ".py",
   "mimetype": "text/x-python",
   "name": "python",
   "nbconvert_exporter": "python",
   "pygments_lexer": "ipython3",
   "version": "3.9.7"
  }
 },
 "nbformat": 4,
 "nbformat_minor": 5
}
