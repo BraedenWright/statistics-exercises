{
 "cells": [
  {
   "cell_type": "code",
   "execution_count": 1,
   "id": "4272bb68",
   "metadata": {},
   "outputs": [],
   "source": [
    "import numpy as np\n",
    "import pandas as pd\n"
   ]
  },
  {
   "cell_type": "markdown",
   "id": "d81899f6",
   "metadata": {},
   "source": [
    "# Exercise 1"
   ]
  },
  {
   "cell_type": "code",
   "execution_count": 8,
   "id": "a15528c2",
   "metadata": {},
   "outputs": [
    {
     "data": {
      "text/plain": [
       "array([[1, 4],\n",
       "       [5, 6],\n",
       "       [5, 5],\n",
       "       ...,\n",
       "       [5, 3],\n",
       "       [1, 3],\n",
       "       [4, 3]])"
      ]
     },
     "execution_count": 8,
     "metadata": {},
     "output_type": "execute_result"
    }
   ],
   "source": [
    "#odds of rolling doubles when rolling 2 dice\n",
    "\n",
    "\n",
    "# represent your rolls and create a matrix\n",
    "\n",
    "\n",
    "dice_rolls = np.random.randint(1, 7, size=(10_000,2))\n",
    "\n",
    "dice_rolls\n"
   ]
  },
  {
   "cell_type": "code",
   "execution_count": 9,
   "id": "8936f2ef",
   "metadata": {},
   "outputs": [
    {
     "data": {
      "text/html": [
       "<div>\n",
       "<style scoped>\n",
       "    .dataframe tbody tr th:only-of-type {\n",
       "        vertical-align: middle;\n",
       "    }\n",
       "\n",
       "    .dataframe tbody tr th {\n",
       "        vertical-align: top;\n",
       "    }\n",
       "\n",
       "    .dataframe thead th {\n",
       "        text-align: right;\n",
       "    }\n",
       "</style>\n",
       "<table border=\"1\" class=\"dataframe\">\n",
       "  <thead>\n",
       "    <tr style=\"text-align: right;\">\n",
       "      <th></th>\n",
       "      <th>0</th>\n",
       "      <th>1</th>\n",
       "    </tr>\n",
       "  </thead>\n",
       "  <tbody>\n",
       "    <tr>\n",
       "      <th>0</th>\n",
       "      <td>1</td>\n",
       "      <td>4</td>\n",
       "    </tr>\n",
       "    <tr>\n",
       "      <th>1</th>\n",
       "      <td>5</td>\n",
       "      <td>6</td>\n",
       "    </tr>\n",
       "    <tr>\n",
       "      <th>2</th>\n",
       "      <td>5</td>\n",
       "      <td>5</td>\n",
       "    </tr>\n",
       "    <tr>\n",
       "      <th>3</th>\n",
       "      <td>6</td>\n",
       "      <td>3</td>\n",
       "    </tr>\n",
       "    <tr>\n",
       "      <th>4</th>\n",
       "      <td>6</td>\n",
       "      <td>6</td>\n",
       "    </tr>\n",
       "  </tbody>\n",
       "</table>\n",
       "</div>"
      ],
      "text/plain": [
       "   0  1\n",
       "0  1  4\n",
       "1  5  6\n",
       "2  5  5\n",
       "3  6  3\n",
       "4  6  6"
      ]
     },
     "execution_count": 9,
     "metadata": {},
     "output_type": "execute_result"
    }
   ],
   "source": [
    "#might be easier to manipulate as a dataframe\n",
    "\n",
    "df = pd.DataFrame(dice_rolls)\n",
    "df.head()\n"
   ]
  },
  {
   "cell_type": "code",
   "execution_count": 10,
   "id": "ac8cfc2d",
   "metadata": {},
   "outputs": [
    {
     "data": {
      "text/plain": [
       "0.1621"
      ]
     },
     "execution_count": 10,
     "metadata": {},
     "output_type": "execute_result"
    }
   ],
   "source": [
    "\n",
    "double_dice = df.apply(lambda row: row[0] == row[1], axis=1)\n",
    "\n",
    "double_dice.mean()\n"
   ]
  },
  {
   "cell_type": "code",
   "execution_count": 12,
   "id": "09015e00",
   "metadata": {},
   "outputs": [],
   "source": [
    "\n",
    "# There is a 16.55% chance of rolling doubles when rolling two dice\n"
   ]
  },
  {
   "cell_type": "markdown",
   "id": "cd0925a0",
   "metadata": {},
   "source": [
    "# Exercise 2"
   ]
  },
  {
   "cell_type": "code",
   "execution_count": 11,
   "id": "5105f8f1",
   "metadata": {},
   "outputs": [
    {
     "data": {
      "text/plain": [
       "array([[1, 1, 0, ..., 0, 0, 1],\n",
       "       [0, 0, 0, ..., 1, 0, 1],\n",
       "       [1, 1, 1, ..., 1, 0, 1],\n",
       "       ...,\n",
       "       [1, 0, 0, ..., 1, 0, 0],\n",
       "       [0, 0, 1, ..., 1, 1, 0],\n",
       "       [1, 0, 1, ..., 1, 1, 1]])"
      ]
     },
     "execution_count": 11,
     "metadata": {},
     "output_type": "execute_result"
    }
   ],
   "source": [
    "#  Fliping 8 coins, whats the probability of getting exactly 3 heads?\n",
    "#  What about 4 or more?\n",
    "\n",
    "# represent data and create matrix\n",
    "\n",
    "flip_eight = np.random.choice([1, 0], size=(80_000)).reshape(10_000, 8)\n",
    "\n",
    "flip_eight\n"
   ]
  },
  {
   "cell_type": "code",
   "execution_count": 12,
   "id": "d05ef351",
   "metadata": {},
   "outputs": [
    {
     "data": {
      "text/plain": [
       "0.2214"
      ]
     },
     "execution_count": 12,
     "metadata": {},
     "output_type": "execute_result"
    }
   ],
   "source": [
    "\n",
    "sum_of_eight = flip_eight.sum(axis=1)\n",
    "\n",
    "sum_of_eight\n",
    "\n",
    "three_heads = (sum_of_eight == 3)\n",
    "\n",
    "three_heads.mean()"
   ]
  },
  {
   "cell_type": "code",
   "execution_count": null,
   "id": "8a4d422a",
   "metadata": {},
   "outputs": [],
   "source": [
    "#The probability of getting exactly 3 heads is 22.23%"
   ]
  },
  {
   "cell_type": "code",
   "execution_count": 13,
   "id": "bdb36163",
   "metadata": {},
   "outputs": [
    {
     "data": {
      "text/plain": [
       "0.6418"
      ]
     },
     "execution_count": 13,
     "metadata": {},
     "output_type": "execute_result"
    }
   ],
   "source": [
    "four_plus = (sum_of_eight >= 4)\n",
    "\n",
    "four_plus.mean()"
   ]
  },
  {
   "cell_type": "code",
   "execution_count": 25,
   "id": "8ab25e62",
   "metadata": {},
   "outputs": [],
   "source": [
    "# If looking for 4 or more heads, the probability jumps to 63.23%"
   ]
  },
  {
   "cell_type": "markdown",
   "id": "f40d8999",
   "metadata": {},
   "source": [
    "#  Exercise 3\n"
   ]
  },
  {
   "cell_type": "code",
   "execution_count": 14,
   "id": "933b69ee",
   "metadata": {},
   "outputs": [
    {
     "data": {
      "text/plain": [
       "array([['Web', 'Web'],\n",
       "       ['Web', 'Web'],\n",
       "       ['Web', 'Web'],\n",
       "       ...,\n",
       "       ['Web', 'Web'],\n",
       "       ['Web', 'Web'],\n",
       "       ['Web', 'Web']], dtype='<U4')"
      ]
     },
     "execution_count": 14,
     "metadata": {},
     "output_type": "execute_result"
    }
   ],
   "source": [
    "# 3 web development for every data science cohort. If we select 1 student from one of the \n",
    "# four cohorts, what are odds that 2 billboards both have data science students on them\n",
    "\n",
    "data_or_web = np.random.choice(['Data', 'Web', 'Web', 'Web'], 10_000 * 2).reshape(10_000, 2)\n",
    "\n",
    "data_or_web\n"
   ]
  },
  {
   "cell_type": "code",
   "execution_count": 15,
   "id": "b5dedaee",
   "metadata": {},
   "outputs": [
    {
     "data": {
      "text/plain": [
       "0.0609"
      ]
     },
     "execution_count": 15,
     "metadata": {},
     "output_type": "execute_result"
    }
   ],
   "source": [
    "# similar to exercise 1, gonna use a Dataframe\n",
    "\n",
    "billboards = pd.DataFrame(data_or_web)\n",
    "\n",
    "billboards.apply(lambda row: (row.values[0] == 'Data') and (row.values[1] == 'Data'), axis=1).mean()\n",
    "\n",
    "# The odds of a data science student being on both billboards would be about 6%"
   ]
  },
  {
   "cell_type": "markdown",
   "id": "1eee4ba6",
   "metadata": {},
   "source": [
    "# Exercise 4"
   ]
  },
  {
   "cell_type": "code",
   "execution_count": 16,
   "id": "842313ec",
   "metadata": {},
   "outputs": [
    {
     "data": {
      "text/plain": [
       "0.8853"
      ]
     },
     "execution_count": 16,
     "metadata": {},
     "output_type": "execute_result"
    }
   ],
   "source": [
    "# Poptart question\n",
    "# avg of 3 poptarts every 1.5 days\n",
    "# stocked on Monday with 17\n",
    "# how likely will is it you can buy a poptart friday afternoon?\n",
    "# mean and std dev, use np.random.normal\n",
    "\n",
    "poptarts = np.random.normal(3, 1.5, 10_000 * 5).astype(int).reshape(10_000, 5)\n",
    "\n",
    "tartframe = pd.DataFrame(poptarts)\n",
    "\n",
    "tart_friday = tartframe.apply(lambda row: row.values.sum() < 17, axis=1).mean()\n",
    "\n",
    "tart_friday\n",
    "\n",
    "# There is an 88% chance that you can eat a poptart Friday afternoon"
   ]
  },
  {
   "cell_type": "markdown",
   "id": "5cd9348e",
   "metadata": {},
   "source": [
    "# Exercise 5\n"
   ]
  },
  {
   "cell_type": "code",
   "execution_count": 19,
   "id": "858f9d26",
   "metadata": {},
   "outputs": [
    {
     "data": {
      "text/plain": [
       "0.2145"
      ]
     },
     "execution_count": 19,
     "metadata": {},
     "output_type": "execute_result"
    }
   ],
   "source": [
    "# Male/Female Height\n",
    "# Men avg height = 178cm (std dev of 8cm)\n",
    "# Women avg height = 170 (std dev of 6cm)\n",
    "\n",
    "# If a man and woman are chosen at random, P(woman taller than man)?\n",
    "\n",
    "# use np.random.normal to make two seperate coloums of a df\n",
    "\n",
    "male_height = np.random.normal(178, 8, 10_000)\n",
    "female_height = np.random.normal(170, 6, 10_000)\n",
    "\n",
    "height_df = pd.DataFrame({'male_height' : male_height,\n",
    "                         'female_height' : female_height})\n",
    "\n",
    "height_df['taller_female'] = height_df.female_height > height_df.male_height\n",
    "\n",
    "height_df['taller_female'].mean()\n",
    "\n",
    "# The probability of a famle being taller than a male is about 21.45%"
   ]
  },
  {
   "cell_type": "markdown",
   "id": "8a700edb",
   "metadata": {},
   "source": [
    "#  Exercise 6"
   ]
  },
  {
   "cell_type": "code",
   "execution_count": 30,
   "id": "088f79fd",
   "metadata": {},
   "outputs": [
    {
     "data": {
      "text/html": [
       "<div>\n",
       "<style scoped>\n",
       "    .dataframe tbody tr th:only-of-type {\n",
       "        vertical-align: middle;\n",
       "    }\n",
       "\n",
       "    .dataframe tbody tr th {\n",
       "        vertical-align: top;\n",
       "    }\n",
       "\n",
       "    .dataframe thead th {\n",
       "        text-align: right;\n",
       "    }\n",
       "</style>\n",
       "<table border=\"1\" class=\"dataframe\">\n",
       "  <thead>\n",
       "    <tr style=\"text-align: right;\">\n",
       "      <th></th>\n",
       "      <th>0</th>\n",
       "      <th>1</th>\n",
       "      <th>2</th>\n",
       "      <th>3</th>\n",
       "      <th>4</th>\n",
       "      <th>5</th>\n",
       "      <th>6</th>\n",
       "      <th>7</th>\n",
       "      <th>8</th>\n",
       "      <th>9</th>\n",
       "      <th>...</th>\n",
       "      <th>40</th>\n",
       "      <th>41</th>\n",
       "      <th>42</th>\n",
       "      <th>43</th>\n",
       "      <th>44</th>\n",
       "      <th>45</th>\n",
       "      <th>46</th>\n",
       "      <th>47</th>\n",
       "      <th>48</th>\n",
       "      <th>49</th>\n",
       "    </tr>\n",
       "  </thead>\n",
       "  <tbody>\n",
       "    <tr>\n",
       "      <th>0</th>\n",
       "      <td>False</td>\n",
       "      <td>False</td>\n",
       "      <td>False</td>\n",
       "      <td>False</td>\n",
       "      <td>False</td>\n",
       "      <td>False</td>\n",
       "      <td>False</td>\n",
       "      <td>False</td>\n",
       "      <td>False</td>\n",
       "      <td>False</td>\n",
       "      <td>...</td>\n",
       "      <td>False</td>\n",
       "      <td>False</td>\n",
       "      <td>False</td>\n",
       "      <td>False</td>\n",
       "      <td>False</td>\n",
       "      <td>False</td>\n",
       "      <td>False</td>\n",
       "      <td>False</td>\n",
       "      <td>False</td>\n",
       "      <td>False</td>\n",
       "    </tr>\n",
       "    <tr>\n",
       "      <th>1</th>\n",
       "      <td>False</td>\n",
       "      <td>False</td>\n",
       "      <td>False</td>\n",
       "      <td>False</td>\n",
       "      <td>False</td>\n",
       "      <td>False</td>\n",
       "      <td>False</td>\n",
       "      <td>False</td>\n",
       "      <td>False</td>\n",
       "      <td>False</td>\n",
       "      <td>...</td>\n",
       "      <td>False</td>\n",
       "      <td>False</td>\n",
       "      <td>True</td>\n",
       "      <td>False</td>\n",
       "      <td>False</td>\n",
       "      <td>False</td>\n",
       "      <td>False</td>\n",
       "      <td>False</td>\n",
       "      <td>False</td>\n",
       "      <td>False</td>\n",
       "    </tr>\n",
       "    <tr>\n",
       "      <th>2</th>\n",
       "      <td>False</td>\n",
       "      <td>False</td>\n",
       "      <td>False</td>\n",
       "      <td>False</td>\n",
       "      <td>False</td>\n",
       "      <td>False</td>\n",
       "      <td>False</td>\n",
       "      <td>False</td>\n",
       "      <td>False</td>\n",
       "      <td>False</td>\n",
       "      <td>...</td>\n",
       "      <td>False</td>\n",
       "      <td>False</td>\n",
       "      <td>False</td>\n",
       "      <td>False</td>\n",
       "      <td>False</td>\n",
       "      <td>False</td>\n",
       "      <td>False</td>\n",
       "      <td>False</td>\n",
       "      <td>False</td>\n",
       "      <td>False</td>\n",
       "    </tr>\n",
       "    <tr>\n",
       "      <th>3</th>\n",
       "      <td>False</td>\n",
       "      <td>False</td>\n",
       "      <td>False</td>\n",
       "      <td>False</td>\n",
       "      <td>False</td>\n",
       "      <td>False</td>\n",
       "      <td>False</td>\n",
       "      <td>False</td>\n",
       "      <td>False</td>\n",
       "      <td>False</td>\n",
       "      <td>...</td>\n",
       "      <td>False</td>\n",
       "      <td>False</td>\n",
       "      <td>False</td>\n",
       "      <td>False</td>\n",
       "      <td>False</td>\n",
       "      <td>False</td>\n",
       "      <td>False</td>\n",
       "      <td>False</td>\n",
       "      <td>False</td>\n",
       "      <td>False</td>\n",
       "    </tr>\n",
       "    <tr>\n",
       "      <th>4</th>\n",
       "      <td>False</td>\n",
       "      <td>False</td>\n",
       "      <td>False</td>\n",
       "      <td>False</td>\n",
       "      <td>False</td>\n",
       "      <td>False</td>\n",
       "      <td>False</td>\n",
       "      <td>False</td>\n",
       "      <td>False</td>\n",
       "      <td>False</td>\n",
       "      <td>...</td>\n",
       "      <td>False</td>\n",
       "      <td>False</td>\n",
       "      <td>False</td>\n",
       "      <td>False</td>\n",
       "      <td>False</td>\n",
       "      <td>False</td>\n",
       "      <td>False</td>\n",
       "      <td>False</td>\n",
       "      <td>False</td>\n",
       "      <td>False</td>\n",
       "    </tr>\n",
       "  </tbody>\n",
       "</table>\n",
       "<p>5 rows × 50 columns</p>\n",
       "</div>"
      ],
      "text/plain": [
       "      0      1      2      3      4      5      6      7      8      9   ...  \\\n",
       "0  False  False  False  False  False  False  False  False  False  False  ...   \n",
       "1  False  False  False  False  False  False  False  False  False  False  ...   \n",
       "2  False  False  False  False  False  False  False  False  False  False  ...   \n",
       "3  False  False  False  False  False  False  False  False  False  False  ...   \n",
       "4  False  False  False  False  False  False  False  False  False  False  ...   \n",
       "\n",
       "      40     41     42     43     44     45     46     47     48     49  \n",
       "0  False  False  False  False  False  False  False  False  False  False  \n",
       "1  False  False   True  False  False  False  False  False  False  False  \n",
       "2  False  False  False  False  False  False  False  False  False  False  \n",
       "3  False  False  False  False  False  False  False  False  False  False  \n",
       "4  False  False  False  False  False  False  False  False  False  False  \n",
       "\n",
       "[5 rows x 50 columns]"
      ]
     },
     "execution_count": 30,
     "metadata": {},
     "output_type": "execute_result"
    }
   ],
   "source": [
    "# Installing anaconda, there's a 1 in 250 chance of failure\n",
    "# odds that 0 out of 50 has issues?\n",
    "\n",
    "# representation(1 in 250) and make a matrix\n",
    "\n",
    "crit_error = [False for r in range(1, 250)]\n",
    "crit_error.append(True)\n",
    "\n",
    "installs = np.random.choice(crit_error, 10_000 * 50).reshape(10_000, 50)\n",
    "\n",
    "# put it in a df\n",
    "\n",
    "fifty_df = pd.DataFrame(installs)\n",
    "fifty_df.head()"
   ]
  },
  {
   "cell_type": "code",
   "execution_count": 32,
   "id": "11cbbf56",
   "metadata": {},
   "outputs": [
    {
     "data": {
      "text/plain": [
       "0.8138"
      ]
     },
     "execution_count": 32,
     "metadata": {},
     "output_type": "execute_result"
    }
   ],
   "source": [
    "error_occured = fifty_df.apply(lambda row: row.values.sum() == 0, axis=1).mean()\n",
    "\n",
    "error_occured\n",
    "\n",
    "# Only about an 81% chance that no students (out of 50) will have a problem downloading"
   ]
  },
  {
   "cell_type": "code",
   "execution_count": 33,
   "id": "6bb7770c",
   "metadata": {},
   "outputs": [
    {
     "data": {
      "text/plain": [
       "0.6717"
      ]
     },
     "execution_count": 33,
     "metadata": {},
     "output_type": "execute_result"
    }
   ],
   "source": [
    "# odds that 0 out of 100 have issues?\n",
    "\n",
    "installs_two = np.random.choice(crit_error, 10_000 * 100).reshape(10_000, 100)\n",
    "\n",
    "\n",
    "hundred_df = pd.DataFrame(installs_two)\n",
    "\n",
    "error_again = hundred_df.apply(lambda row: row.values.sum() == 0, axis=1).mean()\n",
    "\n",
    "error_again\n",
    "\n",
    "# there is a 33% chance of at least 1 critical error while 100 students download anaconda"
   ]
  },
  {
   "cell_type": "code",
   "execution_count": 34,
   "id": "8ae29c26",
   "metadata": {},
   "outputs": [
    {
     "data": {
      "text/plain": [
       "0.1615"
      ]
     },
     "execution_count": 34,
     "metadata": {},
     "output_type": "execute_result"
    }
   ],
   "source": [
    "# 450 students download without an issue?\n",
    "\n",
    "installs_3 = np.random.choice(crit_error, 10_000 * 450).reshape(10_000, 450)\n",
    "\n",
    "\n",
    "fourfity_df = pd.DataFrame(installs_3)\n",
    "\n",
    "error_again = fourfity_df.apply(lambda row: row.values.sum() == 0, axis=1).mean()\n",
    "\n",
    "error_again\n",
    "\n",
    "# the odds of no errors while 450 students download is 17%"
   ]
  },
  {
   "cell_type": "markdown",
   "id": "4b4bda2e",
   "metadata": {},
   "source": [
    "# Exercise 7"
   ]
  },
  {
   "cell_type": "code",
   "execution_count": 35,
   "id": "4c7c122e",
   "metadata": {},
   "outputs": [
    {
     "data": {
      "text/plain": [
       "0.0268"
      ]
     },
     "execution_count": 35,
     "metadata": {},
     "output_type": "execute_result"
    }
   ],
   "source": [
    "# 70% chance of 1 food truck every day\n",
    "# odds of no food truck for 3 days in a row\n",
    "\n",
    "food_truck = np.random.choice([True, False], 10_000 * 3, p=[.7, .3]).reshape(10_000, 3)\n",
    "\n",
    "food_df = pd.DataFrame(food_truck)\n",
    "\n",
    "food_df.apply(lambda row: row.values.sum() == 0, axis=1).mean()\n",
    "    \n",
    "# This is less than 3% chance of seeing no food trucks 3 days in a row"
   ]
  },
  {
   "cell_type": "code",
   "execution_count": 36,
   "id": "d94468cc",
   "metadata": {},
   "outputs": [
    {
     "data": {
      "text/plain": [
       "0.0001"
      ]
     },
     "execution_count": 36,
     "metadata": {},
     "output_type": "execute_result"
    }
   ],
   "source": [
    "# how likely that one will show up later this week\n",
    "\n",
    "food_truck = np.random.choice([True, False], 10_000 * 7, p=[.7, .3]).reshape(10_000, 7)\n",
    "\n",
    "food_df = pd.DataFrame(food_truck)\n",
    "\n",
    "food_df.apply(lambda row: row.values.sum() == 0, axis=1).mean()\n",
    "    \n",
    "    \n",
    "# There is almost 100% chance that there will be a truck at some point this week"
   ]
  },
  {
   "cell_type": "code",
   "execution_count": null,
   "id": "7632fef3",
   "metadata": {},
   "outputs": [],
   "source": [
    "# not a fan of copying and pasting for similar problems. Maybe I can make functions?"
   ]
  },
  {
   "cell_type": "markdown",
   "id": "55a1d71f",
   "metadata": {},
   "source": [
    "# Exercise 8\n"
   ]
  },
  {
   "cell_type": "code",
   "execution_count": 45,
   "id": "5f78dd88",
   "metadata": {},
   "outputs": [],
   "source": [
    "# 23 people in a room\n",
    "# odds that 2 chare a birthday\n",
    "\n",
    "def birthday_twins(people):\n",
    "    \n",
    "    nrows = 10_000\n",
    "    ncols = people\n",
    "\n",
    "    birthdays = np.random.choice([r for r in range(366)], nrows * ncols).reshape(nrows, ncols)\n",
    "    \n",
    "    b_df = pd.DataFrame(birthdays)\n",
    "    \n",
    "    # boolian representation\n",
    "    b_df['same_birthday'] = b_df.nunique(axis=1) < ncols\n",
    "    \n",
    "    same_birthday = b_df['same_birthday'].mean()\n",
    "    \n",
    "    print(f' The odds of {ncols} people having at least two people that share a birthday are {round(same_birthday*100)}%')\n",
    "    \n",
    "# This should cover all the numbers they want me to test\n"
   ]
  },
  {
   "cell_type": "code",
   "execution_count": 46,
   "id": "650f607a",
   "metadata": {},
   "outputs": [
    {
     "name": "stdout",
     "output_type": "stream",
     "text": [
      " The odds of 23 people having at least two people that share a birthday are 51%\n"
     ]
    }
   ],
   "source": [
    "birthday_twins(23)"
   ]
  },
  {
   "cell_type": "code",
   "execution_count": 47,
   "id": "1adc4d8c",
   "metadata": {},
   "outputs": [
    {
     "name": "stdout",
     "output_type": "stream",
     "text": [
      " The odds of 20 people having at least two people that share a birthday are 41%\n"
     ]
    }
   ],
   "source": [
    "birthday_twins(20)"
   ]
  },
  {
   "cell_type": "code",
   "execution_count": null,
   "id": "db4e2334",
   "metadata": {},
   "outputs": [],
   "source": [
    "birthday_twins(40)"
   ]
  }
 ],
 "metadata": {
  "kernelspec": {
   "display_name": "Python 3 (ipykernel)",
   "language": "python",
   "name": "python3"
  },
  "language_info": {
   "codemirror_mode": {
    "name": "ipython",
    "version": 3
   },
   "file_extension": ".py",
   "mimetype": "text/x-python",
   "name": "python",
   "nbconvert_exporter": "python",
   "pygments_lexer": "ipython3",
   "version": "3.9.7"
  }
 },
 "nbformat": 4,
 "nbformat_minor": 5
}
