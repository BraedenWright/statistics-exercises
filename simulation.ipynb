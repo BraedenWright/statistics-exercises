{
 "cells": [
  {
   "cell_type": "code",
   "execution_count": 1,
   "id": "4272bb68",
   "metadata": {},
   "outputs": [],
   "source": [
    "import numpy as np\n",
    "import pandas as pd\n"
   ]
  },
  {
   "cell_type": "markdown",
   "id": "d81899f6",
   "metadata": {},
   "source": [
    "# Exercise 1"
   ]
  },
  {
   "cell_type": "code",
   "execution_count": 9,
   "id": "a15528c2",
   "metadata": {},
   "outputs": [
    {
     "data": {
      "text/plain": [
       "array([[4, 4],\n",
       "       [3, 3],\n",
       "       [3, 6],\n",
       "       ...,\n",
       "       [1, 2],\n",
       "       [3, 2],\n",
       "       [2, 6]])"
      ]
     },
     "execution_count": 9,
     "metadata": {},
     "output_type": "execute_result"
    }
   ],
   "source": [
    "#odds of rolling doubles when rolling 2 dice\n",
    "\n",
    "\n",
    "# represent your rolls and create a matrix\n",
    "\n",
    "\n",
    "dice_rolls = np.random.randint(1, 7, size=(10000,2))\n",
    "\n",
    "dice_rolls\n"
   ]
  },
  {
   "cell_type": "code",
   "execution_count": 10,
   "id": "8936f2ef",
   "metadata": {},
   "outputs": [
    {
     "data": {
      "text/html": [
       "<div>\n",
       "<style scoped>\n",
       "    .dataframe tbody tr th:only-of-type {\n",
       "        vertical-align: middle;\n",
       "    }\n",
       "\n",
       "    .dataframe tbody tr th {\n",
       "        vertical-align: top;\n",
       "    }\n",
       "\n",
       "    .dataframe thead th {\n",
       "        text-align: right;\n",
       "    }\n",
       "</style>\n",
       "<table border=\"1\" class=\"dataframe\">\n",
       "  <thead>\n",
       "    <tr style=\"text-align: right;\">\n",
       "      <th></th>\n",
       "      <th>0</th>\n",
       "      <th>1</th>\n",
       "    </tr>\n",
       "  </thead>\n",
       "  <tbody>\n",
       "    <tr>\n",
       "      <th>0</th>\n",
       "      <td>4</td>\n",
       "      <td>4</td>\n",
       "    </tr>\n",
       "    <tr>\n",
       "      <th>1</th>\n",
       "      <td>3</td>\n",
       "      <td>3</td>\n",
       "    </tr>\n",
       "    <tr>\n",
       "      <th>2</th>\n",
       "      <td>3</td>\n",
       "      <td>6</td>\n",
       "    </tr>\n",
       "    <tr>\n",
       "      <th>3</th>\n",
       "      <td>3</td>\n",
       "      <td>6</td>\n",
       "    </tr>\n",
       "    <tr>\n",
       "      <th>4</th>\n",
       "      <td>6</td>\n",
       "      <td>6</td>\n",
       "    </tr>\n",
       "  </tbody>\n",
       "</table>\n",
       "</div>"
      ],
      "text/plain": [
       "   0  1\n",
       "0  4  4\n",
       "1  3  3\n",
       "2  3  6\n",
       "3  3  6\n",
       "4  6  6"
      ]
     },
     "execution_count": 10,
     "metadata": {},
     "output_type": "execute_result"
    }
   ],
   "source": [
    "#might be easier to manipulate as a dataframe\n",
    "\n",
    "df = pd.DataFrame(dice_rolls)\n",
    "df.head()\n"
   ]
  },
  {
   "cell_type": "code",
   "execution_count": 11,
   "id": "ac8cfc2d",
   "metadata": {},
   "outputs": [
    {
     "data": {
      "text/plain": [
       "0.1655"
      ]
     },
     "execution_count": 11,
     "metadata": {},
     "output_type": "execute_result"
    }
   ],
   "source": [
    "\n",
    "double_dice = df.apply(lambda row: row[0] == row[1], axis=1)\n",
    "\n",
    "double_dice.mean()\n"
   ]
  },
  {
   "cell_type": "code",
   "execution_count": 12,
   "id": "09015e00",
   "metadata": {},
   "outputs": [],
   "source": [
    "\n",
    "# There is a 16.55% chance of rolling doubles when rolling two dice\n"
   ]
  },
  {
   "cell_type": "markdown",
   "id": "cd0925a0",
   "metadata": {},
   "source": [
    "# Exercise 2"
   ]
  },
  {
   "cell_type": "code",
   "execution_count": 26,
   "id": "5105f8f1",
   "metadata": {},
   "outputs": [
    {
     "data": {
      "text/plain": [
       "array([[1, 1, 0, ..., 1, 1, 0],\n",
       "       [0, 1, 0, ..., 0, 0, 0],\n",
       "       [1, 0, 0, ..., 0, 0, 0],\n",
       "       ...,\n",
       "       [1, 1, 0, ..., 0, 1, 0],\n",
       "       [1, 0, 1, ..., 1, 0, 0],\n",
       "       [0, 0, 0, ..., 0, 0, 0]])"
      ]
     },
     "execution_count": 26,
     "metadata": {},
     "output_type": "execute_result"
    }
   ],
   "source": [
    "#  Fliping 8 coins, whats the probability of getting exactly 3 heads?\n",
    "#  What about 4 or more?\n",
    "\n",
    "# represent data and create matrix\n",
    "\n",
    "flip_eight = np.random.choice([1, 0], size=(80000)).reshape(10000, 8)\n",
    "\n",
    "flip_eight\n"
   ]
  },
  {
   "cell_type": "code",
   "execution_count": 28,
   "id": "d05ef351",
   "metadata": {},
   "outputs": [
    {
     "data": {
      "text/plain": [
       "0.2223"
      ]
     },
     "execution_count": 28,
     "metadata": {},
     "output_type": "execute_result"
    }
   ],
   "source": [
    "\n",
    "sum_of_eight = flip_eight.sum(axis=1)\n",
    "\n",
    "sum_of_eight\n",
    "\n",
    "three_heads = (sum_of_eight == 3)\n",
    "\n",
    "three_heads.mean()"
   ]
  },
  {
   "cell_type": "code",
   "execution_count": null,
   "id": "8a4d422a",
   "metadata": {},
   "outputs": [],
   "source": [
    "#The probability of getting exactly 3 heads is 22.23%"
   ]
  },
  {
   "cell_type": "code",
   "execution_count": 29,
   "id": "bdb36163",
   "metadata": {},
   "outputs": [
    {
     "data": {
      "text/plain": [
       "0.6323"
      ]
     },
     "execution_count": 29,
     "metadata": {},
     "output_type": "execute_result"
    }
   ],
   "source": [
    "four_plus = (sum_of_eight >= 4)\n",
    "\n",
    "four_plus.mean()"
   ]
  },
  {
   "cell_type": "code",
   "execution_count": 25,
   "id": "8ab25e62",
   "metadata": {},
   "outputs": [],
   "source": [
    "# If looking for 4 or more heads, the probability jumps to 63.23%"
   ]
  },
  {
   "cell_type": "markdown",
   "id": "f40d8999",
   "metadata": {},
   "source": [
    "#  Exercise 3\n"
   ]
  },
  {
   "cell_type": "code",
   "execution_count": 31,
   "id": "933b69ee",
   "metadata": {},
   "outputs": [
    {
     "data": {
      "text/plain": [
       "array([['Web', 'Data'],\n",
       "       ['Web', 'Web'],\n",
       "       ['Web', 'Data'],\n",
       "       ...,\n",
       "       ['Web', 'Web'],\n",
       "       ['Web', 'Web'],\n",
       "       ['Data', 'Web']], dtype='<U4')"
      ]
     },
     "execution_count": 31,
     "metadata": {},
     "output_type": "execute_result"
    }
   ],
   "source": [
    "# 3 web development for every data science cohort. If we select 1 student from one of the \n",
    "# four cohorts, what are odds that 2 billboards both have data science students on them\n",
    "\n",
    "data_or_web = np.random.choice(['Data', 'Web', 'Web', 'Web'], 100_000 * 2).reshape(100_000, 2)\n",
    "\n",
    "data_or_web\n"
   ]
  },
  {
   "cell_type": "code",
   "execution_count": 34,
   "id": "b5dedaee",
   "metadata": {},
   "outputs": [
    {
     "data": {
      "text/plain": [
       "0.0626"
      ]
     },
     "execution_count": 34,
     "metadata": {},
     "output_type": "execute_result"
    }
   ],
   "source": [
    "# similar to exercise 1, gonna use a Dataframe\n",
    "\n",
    "billboards = pd.DataFrame(data_or_web)\n",
    "\n",
    "billboards.apply(lambda row: (row.values[0] == 'Data') and (row.values[1] == 'Data'), axis=1).mean()\n",
    "\n",
    "# The odds of a data science student being on both billboards would be about 6%"
   ]
  },
  {
   "cell_type": "markdown",
   "id": "1eee4ba6",
   "metadata": {},
   "source": [
    "# Exercise 4"
   ]
  },
  {
   "cell_type": "code",
   "execution_count": 38,
   "id": "842313ec",
   "metadata": {},
   "outputs": [
    {
     "data": {
      "text/plain": [
       "0.88046"
      ]
     },
     "execution_count": 38,
     "metadata": {},
     "output_type": "execute_result"
    }
   ],
   "source": [
    "# Poptart question\n",
    "# avg of 3 poptarts every 1.5 days\n",
    "# stocked on Monday with 17\n",
    "# how likely will is it you can buy a poptart friday afternoon?\n",
    "# mean and std dev, use np.random.normal\n",
    "\n",
    "poptarts = np.random.normal(3, 1.5, 100_000 * 5).astype(int).reshape(100_000, 5)\n",
    "\n",
    "tartframe = pd.DataFrame(poptarts)\n",
    "\n",
    "tart_friday = tartframe.apply(lambda row: row.values.sum() < 17, axis=1).mean()\n",
    "\n",
    "tart_friday\n",
    "\n",
    "# There is an 88% chance that you can eat a poptart Friday afternoon"
   ]
  },
  {
   "cell_type": "code",
   "execution_count": null,
   "id": "3c566c28",
   "metadata": {},
   "outputs": [],
   "source": []
  },
  {
   "cell_type": "code",
   "execution_count": null,
   "id": "858f9d26",
   "metadata": {},
   "outputs": [],
   "source": []
  },
  {
   "cell_type": "code",
   "execution_count": null,
   "id": "3d5f1afe",
   "metadata": {},
   "outputs": [],
   "source": []
  },
  {
   "cell_type": "code",
   "execution_count": null,
   "id": "088f79fd",
   "metadata": {},
   "outputs": [],
   "source": []
  }
 ],
 "metadata": {
  "kernelspec": {
   "display_name": "Python 3 (ipykernel)",
   "language": "python",
   "name": "python3"
  },
  "language_info": {
   "codemirror_mode": {
    "name": "ipython",
    "version": 3
   },
   "file_extension": ".py",
   "mimetype": "text/x-python",
   "name": "python",
   "nbconvert_exporter": "python",
   "pygments_lexer": "ipython3",
   "version": "3.9.7"
  }
 },
 "nbformat": 4,
 "nbformat_minor": 5
}
